{
 "cells": [
  {
   "cell_type": "code",
   "execution_count": 1,
   "metadata": {
    "id": "OjH-sWUfbmX0"
   },
   "outputs": [
    {
     "name": "stderr",
     "output_type": "stream",
     "text": [
      "C:\\Users\\nikit\\miniconda3\\envs\\rpz\\lib\\site-packages\\tqdm\\auto.py:22: TqdmWarning: IProgress not found. Please update jupyter and ipywidgets. See https://ipywidgets.readthedocs.io/en/stable/user_install.html\n",
      "  from .autonotebook import tqdm as notebook_tqdm\n"
     ]
    }
   ],
   "source": [
    "import torch\n",
    "import pandas as pd\n",
    "import numpy as np\n",
    "from torch.utils.data import DataLoader\n",
    "from torch import nn\n",
    "device = torch.device('cuda')\n",
    "\n",
    "from recformer.utils import predict_on_batch, measure_accuracy\n",
    "from recformer.dataset import Dataset, EmbDataset, pad_tensor, Padder\n",
    "from recformer.train import train, train_multitask\n",
    "from recformer.recformer import RecFormer, MiltitaskRecFormer\n"
   ]
  },
  {
   "cell_type": "code",
   "execution_count": 2,
   "metadata": {
    "colab": {
     "base_uri": "https://localhost:8080/"
    },
    "id": "-ldjjic_ozgT",
    "outputId": "d374f679-c956-4587-e3c9-51a772c9aceb"
   },
   "outputs": [
    {
     "data": {
      "text/plain": [
       "23547"
      ]
     },
     "execution_count": 2,
     "metadata": {},
     "output_type": "execute_result"
    }
   ],
   "source": [
    "df = pd.read_fwf('train.csv', header=None)\n",
    "data = df[0].str.split(',', expand=True).values.tolist()\n",
    "len(data)"
   ]
  },
  {
   "cell_type": "code",
   "execution_count": 3,
   "metadata": {
    "colab": {
     "base_uri": "https://localhost:8080/"
    },
    "id": "9c4pTUPXsANA",
    "outputId": "5087515d-37b9-4b92-e185-1e30680307c6"
   },
   "outputs": [],
   "source": [
    "from collections import Counter\n",
    "cusine_counter = Counter()\n",
    "cusine_vocab = {}\n",
    "\n",
    "for recipe in data:\n",
    "  if None in recipe:\n",
    "    recipe_length = recipe.index(None) - 1\n",
    "  else:\n",
    "    recipe_length = len(recipe) - 1\n",
    "  cusine_counter[recipe[recipe_length]] +=1\n",
    "\n",
    "#print(cusine_counter)\n",
    "\n",
    "cusine_num = 0\n",
    "for k, v in cusine_counter.items():\n",
    "  if v > 100:\n",
    "    cusine_vocab[k] = cusine_num\n",
    "    cusine_num+=1"
   ]
  },
  {
   "cell_type": "code",
   "execution_count": 4,
   "metadata": {},
   "outputs": [
    {
     "name": "stdout",
     "output_type": "stream",
     "text": [
      "{'greek': 0, 'filipino': 1, 'indian': 2, 'jamaican': 3, 'spanish': 4, 'italian': 5, 'mexican': 6, 'vietnamese': 7, 'thai': 8, 'southern_us': 9, 'chinese': 10, 'cajun_creole': 11, 'brazilian': 12, 'french': 13, 'japanese': 14, 'irish': 15, 'moroccan': 16, 'korean': 17, 'british': 18, 'russian': 19}\n"
     ]
    }
   ],
   "source": [
    "print(cusine_vocab)"
   ]
  },
  {
   "cell_type": "markdown",
   "metadata": {
    "id": "d3coIk46h2lc"
   },
   "source": [
    "Derrick's reading"
   ]
  },
  {
   "cell_type": "code",
   "execution_count": 5,
   "metadata": {
    "id": "RrVsynxXh2le"
   },
   "outputs": [],
   "source": [
    "df = pd.read_csv('train.csv', engine= 'python', sep='\\,',  names=list(range(61)))\n",
    "df1 = df.fillna(0)\n",
    "df_2 = df1.values.tolist()"
   ]
  },
  {
   "cell_type": "code",
   "execution_count": 6,
   "metadata": {
    "id": "OwPN11k5h2lf"
   },
   "outputs": [],
   "source": [
    "# Separating the cuisines from the recipies \n",
    "train_ingredients = []\n",
    "train_labels = []\n",
    "for i, val in enumerate(df_2):\n",
    "    R_l = [v for v in val if v !=0]\n",
    "    train_ingredients.append(list(map(int, R_l[:-1]))) \n",
    "    train_labels.append(cusine_vocab[R_l[-1]])"
   ]
  },
  {
   "cell_type": "code",
   "execution_count": 7,
   "metadata": {
    "id": "ZNONwX4yh2lh"
   },
   "outputs": [],
   "source": [
    "df = pd.read_csv('validation_classification_question.csv', engine= 'python', sep='\\,',  names=list(range(60)))\n",
    "df1 = df.fillna(0)\n",
    "val_x = df1.values.tolist()\n",
    "\n",
    "df = pd.read_csv('validation_classification_answer.csv', engine= 'python', sep='\\,',  names=list(range(60)))\n",
    "df1 = df.fillna(0)\n",
    "val_y = df1.values.tolist()"
   ]
  },
  {
   "cell_type": "code",
   "execution_count": 8,
   "metadata": {
    "colab": {
     "base_uri": "https://localhost:8080/"
    },
    "id": "iVgn4k-2h2li",
    "outputId": "c9b4619e-0eb2-42e7-c227-170350fdbc0a"
   },
   "outputs": [
    {
     "name": "stdout",
     "output_type": "stream",
     "text": [
      "7848 7848\n"
     ]
    }
   ],
   "source": [
    "val_ingredients_c = []\n",
    "val_labels_c = []\n",
    "\n",
    "for i in range(len(val_x)):\n",
    "  R_l = [v for v in val_x[i] if v !=0]\n",
    "  val_ingredients_c.append(list(map(int, R_l[:-1]))) \n",
    "  val_labels_c.append(cusine_vocab[val_y[i][0]])\n",
    "\n",
    "print(len(val_ingredients_c), len(val_labels_c))"
   ]
  },
  {
   "cell_type": "code",
   "execution_count": 9,
   "metadata": {
    "id": "b5wlkqmch2ll"
   },
   "outputs": [],
   "source": [
    "batch_size = 64\n",
    "epochs = 32\n",
    "\n",
    "num_labels = len(cusine_vocab)\n",
    "num_tokens = 6714\n",
    "dim_model = 128\n",
    "num_heads = 4\n",
    "num_encoder_layers = 3\n",
    "num_decoder_layers = 1\n",
    "dropout_p = 0.3"
   ]
  },
  {
   "cell_type": "code",
   "execution_count": 11,
   "metadata": {
    "id": "EIdBO83d2PCS"
   },
   "outputs": [],
   "source": [
    "from torch.utils.data import DataLoader\n",
    "\n",
    "padder = Padder(dim=1, pad_symbol=-1)\n",
    "train_dataset = Dataset(train_ingredients, train_labels)\n",
    "validation_dataset = Dataset(val_ingredients_c, val_labels_c)\n",
    "train_loader = DataLoader(dataset=train_dataset, batch_size=batch_size, collate_fn = padder, shuffle=True)\n",
    "validation_loader = DataLoader(dataset=validation_dataset, batch_size=batch_size, collate_fn = padder)"
   ]
  },
  {
   "cell_type": "code",
   "execution_count": 12,
   "metadata": {
    "id": "lhQbmGHr2nqY"
   },
   "outputs": [],
   "source": [
    "model = RecFormer(num_tokens, num_labels, dim_model, num_heads, num_encoder_layers, num_decoder_layers, dropout_p)\n",
    "criterion = nn.CrossEntropyLoss()\n",
    "optimizer = torch.optim.Adam(model.parameters(), lr=0.001)"
   ]
  },
  {
   "cell_type": "code",
   "execution_count": null,
   "metadata": {
    "colab": {
     "base_uri": "https://localhost:8080/",
     "height": 323
    },
    "id": "MvAx6Z6H4VfH",
    "outputId": "8e175f58-957c-4e4c-bf34-22ffd2d68820"
   },
   "outputs": [],
   "source": [
    "train(model, criterion, optimizer, train_loader, validation_loader, epochs, device=device)"
   ]
  },
  {
   "cell_type": "code",
   "execution_count": null,
   "metadata": {},
   "outputs": [],
   "source": [
    "#torch.save(model.state_dict(), \"RecFormer_classification.pth\")"
   ]
  },
  {
   "cell_type": "code",
   "execution_count": 13,
   "metadata": {
    "colab": {
     "base_uri": "https://localhost:8080/"
    },
    "id": "Sa5JV1GA-_AY",
    "outputId": "6b836e02-5efc-4509-d330-8b089fd889f5"
   },
   "outputs": [
    {
     "name": "stdout",
     "output_type": "stream",
     "text": [
      "tensor(0.9040, device='cuda:0')\n",
      "tensor(0.7429, device='cuda:0')\n"
     ]
    }
   ],
   "source": [
    "model.load_state_dict(torch.load(\"weights/RecFormer_classification.pth\"))\n",
    "model.to(device)\n",
    "print(measure_accuracy(model, train_loader))\n",
    "print(measure_accuracy(model, validation_loader))"
   ]
  },
  {
   "cell_type": "markdown",
   "metadata": {
    "id": "NuOEsJhjFzPm"
   },
   "source": [
    "# Completion task"
   ]
  },
  {
   "cell_type": "code",
   "execution_count": 10,
   "metadata": {
    "colab": {
     "base_uri": "https://localhost:8080/"
    },
    "id": "WtiOUBPXF24U",
    "outputId": "6ce04b84-d442-4176-f659-d94cbab16bb8"
   },
   "outputs": [
    {
     "name": "stdout",
     "output_type": "stream",
     "text": [
      "253453 253453\n"
     ]
    }
   ],
   "source": [
    "completion_data = []\n",
    "completion_labels = []\n",
    "\n",
    "for recipe in train_ingredients:\n",
    "  ingredients_num = len(recipe)\n",
    "  for i in range(ingredients_num):\n",
    "    incomplete_recipe = recipe[:ingredients_num].copy()\n",
    "    missing_ingredient = incomplete_recipe.pop(i)\n",
    "\n",
    "    completion_data.append(incomplete_recipe)\n",
    "    completion_labels.append(missing_ingredient)\n",
    "\n",
    "print(len(completion_data), len(completion_labels))"
   ]
  },
  {
   "cell_type": "code",
   "execution_count": 11,
   "metadata": {
    "colab": {
     "base_uri": "https://localhost:8080/"
    },
    "id": "B73AY0aeh2lp",
    "outputId": "c9a986ce-f8aa-4188-8ef6-1f62028e44d4"
   },
   "outputs": [
    {
     "name": "stdout",
     "output_type": "stream",
     "text": [
      "7848 7848\n"
     ]
    }
   ],
   "source": [
    "df = pd.read_csv('validation_completion_question.csv', engine= 'python', sep='\\,',  names=list(range(60)))\n",
    "df1 = df.fillna(0)\n",
    "val_x = df1.values.tolist()\n",
    "\n",
    "df = pd.read_csv('validation_completion_answer.csv', engine= 'python', sep='\\,',  names=list(range(60)))\n",
    "df1 = df.fillna(0)\n",
    "val_y = df1.values.tolist()\n",
    "\n",
    "print(len(val_x), len(val_y))"
   ]
  },
  {
   "cell_type": "code",
   "execution_count": 12,
   "metadata": {
    "colab": {
     "base_uri": "https://localhost:8080/"
    },
    "id": "UT6s9YVZh2lp",
    "outputId": "93f94c5e-abfd-419c-9bfc-a3c0b2481083"
   },
   "outputs": [
    {
     "name": "stdout",
     "output_type": "stream",
     "text": [
      "7848 7848\n"
     ]
    }
   ],
   "source": [
    "val_ingredients = []\n",
    "val_labels = []\n",
    "\n",
    "for i in range(len(val_x)):\n",
    "  R_l = [v for v in val_x[i] if v !=0]\n",
    "  val_ingredients.append(list(map(int, R_l[:-1]))) \n",
    "  val_labels.append(int(val_y[i][0]))\n",
    "\n",
    "print(len(val_ingredients), len(val_labels))"
   ]
  },
  {
   "cell_type": "code",
   "execution_count": 13,
   "metadata": {
    "id": "DXViAMNlKJXU"
   },
   "outputs": [],
   "source": [
    "from torch.utils.data import DataLoader\n",
    "\n",
    "padder = Padder(dim=1, pad_symbol=-1)\n",
    "train_dataset = Dataset(completion_data, completion_labels)\n",
    "validation_dataset = Dataset(val_ingredients, val_labels)\n",
    "train_loader = DataLoader(dataset=train_dataset, batch_size=batch_size, collate_fn = padder, shuffle=True)\n",
    "validation_loader = DataLoader(dataset=validation_dataset, batch_size=batch_size, collate_fn = padder)"
   ]
  },
  {
   "cell_type": "code",
   "execution_count": 18,
   "metadata": {
    "id": "qN061SvcLqWg"
   },
   "outputs": [],
   "source": [
    "model = RecFormer(num_tokens, num_tokens, dim_model, num_heads, num_encoder_layers, num_decoder_layers, dropout_p)\n",
    "criterion = nn.CrossEntropyLoss()\n",
    "optimizer = torch.optim.Adam(model.parameters(), lr=0.001)"
   ]
  },
  {
   "cell_type": "code",
   "execution_count": null,
   "metadata": {
    "colab": {
     "base_uri": "https://localhost:8080/"
    },
    "id": "j-KDPWK0LtVg",
    "outputId": "369e1050-a6a2-4928-ffaa-172215c880c1"
   },
   "outputs": [],
   "source": [
    "train(model, criterion, optimizer, train_loader, validation_loader, epochs)"
   ]
  },
  {
   "cell_type": "code",
   "execution_count": null,
   "metadata": {},
   "outputs": [],
   "source": [
    "#torch.save(model.state_dict(), \"RecFormer_completion.pth\")"
   ]
  },
  {
   "cell_type": "code",
   "execution_count": 19,
   "metadata": {
    "colab": {
     "base_uri": "https://localhost:8080/"
    },
    "id": "7kg7YAPmMZko",
    "outputId": "151b0bff-674c-4be2-df64-bf3c0147e8bd"
   },
   "outputs": [
    {
     "name": "stdout",
     "output_type": "stream",
     "text": [
      "tensor(0.1541, device='cuda:0')\n",
      "tensor(0.1138, device='cuda:0')\n"
     ]
    }
   ],
   "source": [
    "model.load_state_dict(torch.load(\"weights/RecFormer_completion.pth\"))\n",
    "model.to(device)\n",
    "\n",
    "print(measure_accuracy(model, train_loader))\n",
    "print(measure_accuracy(model, validation_loader))"
   ]
  },
  {
   "cell_type": "markdown",
   "metadata": {
    "id": "V8AHRk7sQIRP"
   },
   "source": [
    "# Mutlti-task experiments"
   ]
  },
  {
   "cell_type": "code",
   "execution_count": 13,
   "metadata": {
    "colab": {
     "base_uri": "https://localhost:8080/"
    },
    "id": "S58GJgNTh2lr",
    "outputId": "bf35013c-15ab-449e-d87e-bcae281de7cf"
   },
   "outputs": [
    {
     "name": "stdout",
     "output_type": "stream",
     "text": [
      "253453 253453\n"
     ]
    }
   ],
   "source": [
    "multitask_data = []\n",
    "multitask_labels = []\n",
    "\n",
    "\n",
    "for recipe, cusine in zip(train_ingredients, train_labels):\n",
    "  ingredients_num = len(recipe)\n",
    "  for i in range(ingredients_num):\n",
    "    incomplete_recipe = recipe[:ingredients_num].copy()\n",
    "    missing_ingredient = incomplete_recipe.pop(i)\n",
    "\n",
    "    multitask_data.append(incomplete_recipe)\n",
    "    multitask_labels.append([cusine, missing_ingredient])\n",
    "    \n",
    "print(len(multitask_data), len(multitask_labels))"
   ]
  },
  {
   "cell_type": "code",
   "execution_count": 14,
   "metadata": {
    "id": "TVGKTCr8h2ls"
   },
   "outputs": [],
   "source": [
    "padder = Padder(dim=1, pad_symbol=-1)\n",
    "train_dataset = Dataset(multitask_data, multitask_labels)\n",
    "validation_dataset_cuisine = Dataset(val_ingredients_c, val_labels_c)\n",
    "validation_dataset_ingredients = Dataset(val_ingredients, val_labels)\n",
    "train_loader = DataLoader(dataset=train_dataset, batch_size=batch_size, collate_fn = padder, shuffle=True)\n",
    "validation_loader_cuisine = DataLoader(dataset=validation_dataset_cuisine, batch_size=batch_size, collate_fn = padder)\n",
    "validation_loader_ingredients = DataLoader(dataset=validation_dataset_ingredients, batch_size=batch_size, collate_fn = padder)"
   ]
  },
  {
   "cell_type": "code",
   "execution_count": 15,
   "metadata": {
    "id": "_VICOllFh2ls"
   },
   "outputs": [],
   "source": [
    "model = MiltitaskRecFormer(num_tokens, num_labels, dim_model, num_heads, num_encoder_layers, num_decoder_layers, dropout_p)\n",
    "criterion = nn.CrossEntropyLoss()\n",
    "optimizer = torch.optim.Adam(model.parameters(), lr=0.001)"
   ]
  },
  {
   "cell_type": "code",
   "execution_count": null,
   "metadata": {
    "colab": {
     "base_uri": "https://localhost:8080/"
    },
    "id": "I1kXl1Hoh2ls",
    "outputId": "41847d69-e82a-4ee5-f0dd-90e83f0cf119"
   },
   "outputs": [],
   "source": [
    "train_multitask(model, criterion, optimizer, train_loader, validation_loader_cuisine, validation_loader_ingredients, epochs, loss_weights=[0.5, 2])"
   ]
  },
  {
   "cell_type": "code",
   "execution_count": null,
   "metadata": {},
   "outputs": [],
   "source": [
    "#torch.save(model.state_dict(), \"RecFormer_multitask.pth\")"
   ]
  },
  {
   "cell_type": "code",
   "execution_count": 16,
   "metadata": {},
   "outputs": [
    {
     "name": "stdout",
     "output_type": "stream",
     "text": [
      "tensor(0.7608, device='cuda:0')\n",
      "tensor(0.1244, device='cuda:0')\n"
     ]
    }
   ],
   "source": [
    "model.load_state_dict(torch.load(\"weights/RecFormer_multitask.pth\"))\n",
    "model.to(device)\n",
    "print(measure_accuracy(model, validation_loader_cuisine, multitask_switch=\"cuisine\"))\n",
    "print(measure_accuracy(model, validation_loader_ingredients, multitask_switch=\"ingredients\"))"
   ]
  },
  {
   "cell_type": "code",
   "execution_count": 17,
   "metadata": {},
   "outputs": [
    {
     "name": "stdout",
     "output_type": "stream",
     "text": [
      "tensor(0.8828, device='cuda:0')\n",
      "tensor(0.2002, device='cuda:0')\n"
     ]
    }
   ],
   "source": [
    "print(measure_accuracy(model, train_loader, multitask_switch=\"cuisine\"))\n",
    "print(measure_accuracy(model, train_loader, multitask_switch=\"ingredients\"))"
   ]
  },
  {
   "cell_type": "code",
   "execution_count": 25,
   "metadata": {},
   "outputs": [
    {
     "name": "stdout",
     "output_type": "stream",
     "text": [
      "7848\n"
     ]
    }
   ],
   "source": [
    "model.eval()\n",
    "classification_preds = []\n",
    "with torch.no_grad():\n",
    "    for batch in validation_loader_cuisine:\n",
    "        preds = predict_on_batch(model, batch, \"cuisine\")\n",
    "        target = batch[1].to(device=device).flatten()\n",
    "        classification_preds.extend(torch.argmax(preds, axis=1).tolist())\n",
    "print(len(classification_preds))"
   ]
  },
  {
   "cell_type": "code",
   "execution_count": 26,
   "metadata": {},
   "outputs": [],
   "source": [
    "id_to_cus = {y: x for x, y in cusine_vocab.items()}"
   ]
  },
  {
   "cell_type": "code",
   "execution_count": 27,
   "metadata": {},
   "outputs": [
    {
     "name": "stdout",
     "output_type": "stream",
     "text": [
      "              precision    recall  f1-score   support\n",
      "\n",
      "   brazilian       0.70      0.61      0.65        85\n",
      "     british       0.47      0.43      0.45       161\n",
      "cajun_creole       0.76      0.66      0.71       295\n",
      "     chinese       0.78      0.85      0.81       516\n",
      "    filipino       0.71      0.60      0.65       141\n",
      "      french       0.55      0.62      0.58       538\n",
      "       greek       0.68      0.65      0.67       222\n",
      "      indian       0.85      0.88      0.86       624\n",
      "       irish       0.50      0.53      0.52       122\n",
      "     italian       0.83      0.84      0.83      1558\n",
      "    jamaican       0.69      0.61      0.65       113\n",
      "    japanese       0.80      0.65      0.71       290\n",
      "      korean       0.78      0.69      0.74       167\n",
      "     mexican       0.90      0.90      0.90      1273\n",
      "    moroccan       0.72      0.76      0.74       160\n",
      "     russian       0.55      0.51      0.53        92\n",
      " southern_us       0.69      0.74      0.71       839\n",
      "     spanish       0.51      0.39      0.44       189\n",
      "        thai       0.76      0.82      0.79       294\n",
      "  vietnamese       0.74      0.64      0.69       169\n",
      "\n",
      "    accuracy                           0.76      7848\n",
      "   macro avg       0.70      0.67      0.68      7848\n",
      "weighted avg       0.76      0.76      0.76      7848\n",
      "\n"
     ]
    }
   ],
   "source": [
    "from sklearn.metrics import classification_report, f1_score, confusion_matrix\n",
    "\n",
    "print(classification_report([id_to_cus[id] for id in val_labels_c], [id_to_cus[id] for id in classification_preds]))"
   ]
  },
  {
   "cell_type": "markdown",
   "metadata": {
    "id": "gn4ox-NYh2lt"
   },
   "source": [
    "## Word embeddings multi-task experiment"
   ]
  },
  {
   "cell_type": "code",
   "execution_count": null,
   "metadata": {},
   "outputs": [],
   "source": [
    "!wget http://nlp.stanford.edu/data/glove.6B.zip\n",
    "!unzip glove*.zip"
   ]
  },
  {
   "cell_type": "code",
   "execution_count": 14,
   "metadata": {},
   "outputs": [],
   "source": [
    "import numpy as np\n",
    "\n",
    "emb_length = 300\n",
    "glove_vocab = {}\n",
    "with open('glove.6B/glove.6B.{}d.txt'.format(emb_length), encoding='utf-8') as f:\n",
    "  for line in f:\n",
    "      values = line.split()\n",
    "      word = values[0]\n",
    "      coefs = np.asarray(values[1:], dtype='float32')\n",
    "      glove_vocab[word] = coefs"
   ]
  },
  {
   "cell_type": "code",
   "execution_count": 15,
   "metadata": {},
   "outputs": [],
   "source": [
    "PAD_embedding = torch.zeros(emb_length)\n",
    "UNK_embedding = np.mean(list(glove_vocab.values()), axis=0)"
   ]
  },
  {
   "cell_type": "code",
   "execution_count": 16,
   "metadata": {},
   "outputs": [
    {
     "name": "stdout",
     "output_type": "stream",
     "text": [
      "6714\n"
     ]
    }
   ],
   "source": [
    "df = pd.read_fwf('node_ingredient.csv', header=None)\n",
    "node_ingredient = df[0].values.tolist()\n",
    "print(len(node_ingredient))\n",
    "ing_id_to_str = {i: ing for i,ing in enumerate(node_ingredient)}"
   ]
  },
  {
   "cell_type": "code",
   "execution_count": 17,
   "metadata": {},
   "outputs": [],
   "source": [
    "padder = Padder(dim=0, pad_symbol=PAD_embedding)\n",
    "\n",
    "train_dataset = EmbDataset(multitask_data, multitask_labels, glove_vocab, UNK_embedding, ing_id_to_str)\n",
    "validation_dataset_cuisine = EmbDataset(val_ingredients_c, val_labels_c, glove_vocab, UNK_embedding, ing_id_to_str)\n",
    "validation_dataset_ingredients = EmbDataset(val_ingredients, val_labels, glove_vocab, UNK_embedding, ing_id_to_str)\n",
    "train_loader = DataLoader(dataset=train_dataset, batch_size=batch_size, collate_fn = padder, shuffle=True)\n",
    "validation_loader_cuisine = DataLoader(dataset=validation_dataset_cuisine, batch_size=batch_size, collate_fn = padder)\n",
    "validation_loader_ingredients = DataLoader(dataset=validation_dataset_ingredients, batch_size=batch_size, collate_fn = padder)"
   ]
  },
  {
   "cell_type": "code",
   "execution_count": 18,
   "metadata": {},
   "outputs": [],
   "source": [
    "model = MiltitaskRecFormer(num_tokens, num_labels, emb_length, num_heads, num_encoder_layers, num_decoder_layers, dropout_p, use_pretrained_embeddings=True)\n",
    "criterion = nn.CrossEntropyLoss()\n",
    "optimizer = torch.optim.Adam(model.parameters(), lr=0.001)"
   ]
  },
  {
   "cell_type": "code",
   "execution_count": 23,
   "metadata": {},
   "outputs": [
    {
     "name": "stderr",
     "output_type": "stream",
     "text": [
      "100%|██████████████████████████████████████████████████████████████████████████████| 3961/3961 [05:07<00:00, 12.90it/s]\n"
     ]
    },
    {
     "name": "stdout",
     "output_type": "stream",
     "text": [
      "Epoch: 0, Training Loss: 13.92051126330346, Validation Loss Cuisine: 1.5136070425917463, Validation Loss Ingredients: 6.1752993382089505\n",
      "Validation classification accuracy: 0.5465086698532104\n",
      "Validation completion accuracy: 0.03669724613428116\n",
      "Best model saved\n"
     ]
    },
    {
     "name": "stderr",
     "output_type": "stream",
     "text": [
      "100%|██████████████████████████████████████████████████████████████████████████████| 3961/3961 [05:08<00:00, 12.84it/s]\n"
     ]
    },
    {
     "name": "stdout",
     "output_type": "stream",
     "text": [
      "Epoch: 1, Training Loss: 12.345848593197818, Validation Loss Cuisine: 1.026041844026829, Validation Loss Ingredients: 5.688578853762246\n",
      "Validation classification accuracy: 0.7029816508293152\n",
      "Validation completion accuracy: 0.08600916713476181\n",
      "Best model saved\n"
     ]
    },
    {
     "name": "stderr",
     "output_type": "stream",
     "text": [
      "100%|██████████████████████████████████████████████████████████████████████████████| 3961/3961 [05:13<00:00, 12.64it/s]\n"
     ]
    },
    {
     "name": "stdout",
     "output_type": "stream",
     "text": [
      "Epoch: 2, Training Loss: 11.468343423189944, Validation Loss Cuisine: 0.9545198901882016, Validation Loss Ingredients: 5.496529358189281\n",
      "Validation classification accuracy: 0.73050457239151\n",
      "Validation completion accuracy: 0.10244648158550262\n",
      "Best model saved\n"
     ]
    },
    {
     "name": "stderr",
     "output_type": "stream",
     "text": [
      "100%|██████████████████████████████████████████████████████████████████████████████| 3961/3961 [05:13<00:00, 12.64it/s]\n"
     ]
    },
    {
     "name": "stdout",
     "output_type": "stream",
     "text": [
      "Epoch: 3, Training Loss: 11.065888933086901, Validation Loss Cuisine: 0.8963074502421589, Validation Loss Ingredients: 5.4145425974838135\n",
      "Validation classification accuracy: 0.7488532066345215\n",
      "Validation completion accuracy: 0.10996431857347488\n",
      "Best model saved\n"
     ]
    },
    {
     "name": "stderr",
     "output_type": "stream",
     "text": [
      "100%|██████████████████████████████████████████████████████████████████████████████| 3961/3961 [05:20<00:00, 12.37it/s]\n"
     ]
    },
    {
     "name": "stdout",
     "output_type": "stream",
     "text": [
      "Epoch: 4, Training Loss: 10.81814929314016, Validation Loss Cuisine: 0.9113690751354869, Validation Loss Ingredients: 5.37940559542276\n",
      "Validation classification accuracy: 0.7496176958084106\n",
      "Validation completion accuracy: 0.11760957539081573\n",
      "Best model saved\n"
     ]
    },
    {
     "name": "stderr",
     "output_type": "stream",
     "text": [
      "100%|██████████████████████████████████████████████████████████████████████████████| 3961/3961 [05:16<00:00, 12.52it/s]\n"
     ]
    },
    {
     "name": "stdout",
     "output_type": "stream",
     "text": [
      "Epoch: 5, Training Loss: 10.648928140034974, Validation Loss Cuisine: 0.891353951237066, Validation Loss Ingredients: 5.345465861684907\n",
      "Validation classification accuracy: 0.7517838478088379\n",
      "Validation completion accuracy: 0.12117736786603928\n",
      "Best model saved\n"
     ]
    },
    {
     "name": "stderr",
     "output_type": "stream",
     "text": [
      "100%|██████████████████████████████████████████████████████████████████████████████| 3961/3961 [05:16<00:00, 12.51it/s]\n"
     ]
    },
    {
     "name": "stdout",
     "output_type": "stream",
     "text": [
      "Epoch: 6, Training Loss: 10.519253636152868, Validation Loss Cuisine: 0.878387838602066, Validation Loss Ingredients: 5.332745257431899\n",
      "Validation classification accuracy: 0.7557339072227478\n",
      "Validation completion accuracy: 0.12041284143924713\n"
     ]
    },
    {
     "name": "stderr",
     "output_type": "stream",
     "text": [
      "100%|██████████████████████████████████████████████████████████████████████████████| 3961/3961 [05:17<00:00, 12.46it/s]\n"
     ]
    },
    {
     "name": "stdout",
     "output_type": "stream",
     "text": [
      "Epoch: 7, Training Loss: 10.417542762510767, Validation Loss Cuisine: 0.8736150058788982, Validation Loss Ingredients: 5.343840114469451\n",
      "Validation classification accuracy: 0.7575178146362305\n",
      "Validation completion accuracy: 0.1179918423295021\n"
     ]
    },
    {
     "name": "stderr",
     "output_type": "stream",
     "text": [
      "100%|██████████████████████████████████████████████████████████████████████████████| 3961/3961 [05:16<00:00, 12.50it/s]\n"
     ]
    },
    {
     "name": "stdout",
     "output_type": "stream",
     "text": [
      "Epoch: 8, Training Loss: 10.31701119636472, Validation Loss Cuisine: 0.8708018500630449, Validation Loss Ingredients: 5.347934505803798\n",
      "Validation classification accuracy: 0.7604485154151917\n",
      "Validation completion accuracy: 0.12143220752477646\n",
      "Best model saved\n"
     ]
    },
    {
     "name": "stderr",
     "output_type": "stream",
     "text": [
      "100%|██████████████████████████████████████████████████████████████████████████████| 3961/3961 [05:18<00:00, 12.44it/s]\n"
     ]
    },
    {
     "name": "stdout",
     "output_type": "stream",
     "text": [
      "Epoch: 9, Training Loss: 10.248327545131346, Validation Loss Cuisine: 0.8608376189945189, Validation Loss Ingredients: 5.348286799299038\n",
      "Validation classification accuracy: 0.7605758905410767\n",
      "Validation completion accuracy: 0.12436288595199585\n",
      "Best model saved\n"
     ]
    },
    {
     "name": "stderr",
     "output_type": "stream",
     "text": [
      "100%|██████████████████████████████████████████████████████████████████████████████| 3961/3961 [05:16<00:00, 12.53it/s]\n"
     ]
    },
    {
     "name": "stdout",
     "output_type": "stream",
     "text": [
      "Epoch: 10, Training Loss: 10.179545236518665, Validation Loss Cuisine: 0.865738942128856, Validation Loss Ingredients: 5.321166306007199\n",
      "Validation classification accuracy: 0.7617226839065552\n",
      "Validation completion accuracy: 0.12296126037836075\n"
     ]
    },
    {
     "name": "stderr",
     "output_type": "stream",
     "text": [
      "100%|██████████████████████████████████████████████████████████████████████████████| 3961/3961 [05:19<00:00, 12.39it/s]\n"
     ]
    },
    {
     "name": "stdout",
     "output_type": "stream",
     "text": [
      "Epoch: 11, Training Loss: 10.122222281501498, Validation Loss Cuisine: 0.8647640851455006, Validation Loss Ingredients: 5.334899875206676\n",
      "Validation classification accuracy: 0.7636340260505676\n",
      "Validation completion accuracy: 0.12614677846431732\n",
      "Best model saved\n"
     ]
    },
    {
     "name": "stderr",
     "output_type": "stream",
     "text": [
      "100%|██████████████████████████████████████████████████████████████████████████████| 3961/3961 [05:16<00:00, 12.50it/s]\n"
     ]
    },
    {
     "name": "stdout",
     "output_type": "stream",
     "text": [
      "Epoch: 12, Training Loss: 10.07096917145904, Validation Loss Cuisine: 0.8705057889465394, Validation Loss Ingredients: 5.338251435659765\n",
      "Validation classification accuracy: 0.7628694772720337\n",
      "Validation completion accuracy: 0.12296126037836075\n"
     ]
    },
    {
     "name": "stderr",
     "output_type": "stream",
     "text": [
      "100%|██████████████████████████████████████████████████████████████████████████████| 3961/3961 [05:14<00:00, 12.58it/s]\n"
     ]
    },
    {
     "name": "stdout",
     "output_type": "stream",
     "text": [
      "Epoch: 13, Training Loss: 10.01758675790742, Validation Loss Cuisine: 0.8603105663768644, Validation Loss Ingredients: 5.320168906111058\n",
      "Validation classification accuracy: 0.7652904987335205\n",
      "Validation completion accuracy: 0.12308868020772934\n"
     ]
    },
    {
     "name": "stderr",
     "output_type": "stream",
     "text": [
      "100%|██████████████████████████████████████████████████████████████████████████████| 3961/3961 [05:13<00:00, 12.63it/s]\n"
     ]
    },
    {
     "name": "stdout",
     "output_type": "stream",
     "text": [
      "Epoch: 14, Training Loss: 9.978060943374306, Validation Loss Cuisine: 0.8719300450832863, Validation Loss Ingredients: 5.328543852984421\n",
      "Validation classification accuracy: 0.7590468525886536\n",
      "Validation completion accuracy: 0.1265290528535843\n"
     ]
    },
    {
     "name": "stderr",
     "output_type": "stream",
     "text": [
      "100%|██████████████████████████████████████████████████████████████████████████████| 3961/3961 [05:13<00:00, 12.65it/s]\n"
     ]
    },
    {
     "name": "stdout",
     "output_type": "stream",
     "text": [
      "Epoch: 15, Training Loss: 9.93521052976655, Validation Loss Cuisine: 0.8613416024339877, Validation Loss Ingredients: 5.330942444685029\n",
      "Validation classification accuracy: 0.7640162706375122\n",
      "Validation completion accuracy: 0.12576451897621155\n"
     ]
    },
    {
     "name": "stderr",
     "output_type": "stream",
     "text": [
      "100%|██████████████████████████████████████████████████████████████████████████████| 3961/3961 [05:14<00:00, 12.59it/s]\n"
     ]
    },
    {
     "name": "stdout",
     "output_type": "stream",
     "text": [
      "Epoch: 16, Training Loss: 9.895238581765513, Validation Loss Cuisine: 0.8694959321642309, Validation Loss Ingredients: 5.344790342377453\n",
      "Validation classification accuracy: 0.7617226839065552\n",
      "Validation completion accuracy: 0.12589193880558014\n"
     ]
    },
    {
     "name": "stderr",
     "output_type": "stream",
     "text": [
      "100%|██████████████████████████████████████████████████████████████████████████████| 3961/3961 [05:14<00:00, 12.59it/s]\n"
     ]
    },
    {
     "name": "stdout",
     "output_type": "stream",
     "text": [
      "Epoch: 17, Training Loss: 9.865817737290426, Validation Loss Cuisine: 0.8676860155613442, Validation Loss Ingredients: 5.357095226039731\n",
      "Validation classification accuracy: 0.7626146674156189\n",
      "Validation completion accuracy: 0.12449031323194504\n"
     ]
    },
    {
     "name": "stderr",
     "output_type": "stream",
     "text": [
      "100%|██████████████████████████████████████████████████████████████████████████████| 3961/3961 [05:15<00:00, 12.57it/s]\n"
     ]
    },
    {
     "name": "stdout",
     "output_type": "stream",
     "text": [
      "Epoch: 18, Training Loss: 9.848148062445244, Validation Loss Cuisine: 0.8740922857106217, Validation Loss Ingredients: 5.321006623710074\n",
      "Validation classification accuracy: 0.7595565319061279\n",
      "Validation completion accuracy: 0.12423546612262726\n"
     ]
    },
    {
     "name": "stderr",
     "output_type": "stream",
     "text": [
      "100%|██████████████████████████████████████████████████████████████████████████████| 3961/3961 [05:14<00:00, 12.59it/s]\n"
     ]
    },
    {
     "name": "stdout",
     "output_type": "stream",
     "text": [
      "Epoch: 19, Training Loss: 9.822962659562787, Validation Loss Cuisine: 0.8689897670978453, Validation Loss Ingredients: 5.344538413412202\n",
      "Validation classification accuracy: 0.7626146674156189\n",
      "Validation completion accuracy: 0.12869520485401154\n"
     ]
    },
    {
     "name": "stderr",
     "output_type": "stream",
     "text": [
      "100%|██████████████████████████████████████████████████████████████████████████████| 3961/3961 [05:15<00:00, 12.57it/s]\n"
     ]
    },
    {
     "name": "stdout",
     "output_type": "stream",
     "text": [
      "Epoch: 20, Training Loss: 9.790589877674899, Validation Loss Cuisine: 0.8683346618966359, Validation Loss Ingredients: 5.355940113222696\n",
      "Validation classification accuracy: 0.7656727433204651\n",
      "Validation completion accuracy: 0.1264016330242157\n",
      "Best model saved\n"
     ]
    },
    {
     "name": "stderr",
     "output_type": "stream",
     "text": [
      "100%|██████████████████████████████████████████████████████████████████████████████| 3961/3961 [05:13<00:00, 12.64it/s]\n"
     ]
    },
    {
     "name": "stdout",
     "output_type": "stream",
     "text": [
      "Epoch: 21, Training Loss: 9.766331337281352, Validation Loss Cuisine: 0.8765718936920166, Validation Loss Ingredients: 5.394569679973571\n",
      "Validation classification accuracy: 0.764143705368042\n",
      "Validation completion accuracy: 0.12703873217105865\n"
     ]
    },
    {
     "name": "stderr",
     "output_type": "stream",
     "text": [
      "100%|██████████████████████████████████████████████████████████████████████████████| 3961/3961 [05:13<00:00, 12.63it/s]\n"
     ]
    },
    {
     "name": "stdout",
     "output_type": "stream",
     "text": [
      "Epoch: 22, Training Loss: 9.738021863105772, Validation Loss Cuisine: 0.8641276391056495, Validation Loss Ingredients: 5.366755904220954\n",
      "Validation classification accuracy: 0.7640162706375122\n",
      "Validation completion accuracy: 0.12754841148853302\n"
     ]
    },
    {
     "name": "stderr",
     "output_type": "stream",
     "text": [
      "100%|██████████████████████████████████████████████████████████████████████████████| 3961/3961 [05:12<00:00, 12.66it/s]\n"
     ]
    },
    {
     "name": "stdout",
     "output_type": "stream",
     "text": [
      "Epoch: 23, Training Loss: 9.72851652462234, Validation Loss Cuisine: 0.8638701954992806, Validation Loss Ingredients: 5.335395561001165\n",
      "Validation classification accuracy: 0.7650356292724609\n",
      "Validation completion accuracy: 0.12194189429283142\n"
     ]
    },
    {
     "name": "stderr",
     "output_type": "stream",
     "text": [
      "100%|██████████████████████████████████████████████████████████████████████████████| 3961/3961 [05:13<00:00, 12.62it/s]\n"
     ]
    },
    {
     "name": "stdout",
     "output_type": "stream",
     "text": [
      "Epoch: 24, Training Loss: 9.695678875380711, Validation Loss Cuisine: 0.8791335782384485, Validation Loss Ingredients: 5.362986452211209\n",
      "Validation classification accuracy: 0.7666921019554138\n",
      "Validation completion accuracy: 0.12563709914684296\n"
     ]
    },
    {
     "name": "stderr",
     "output_type": "stream",
     "text": [
      "100%|██████████████████████████████████████████████████████████████████████████████| 3961/3961 [05:12<00:00, 12.66it/s]\n"
     ]
    },
    {
     "name": "stdout",
     "output_type": "stream",
     "text": [
      "Epoch: 25, Training Loss: 9.686133372907053, Validation Loss Cuisine: 0.8662978946193447, Validation Loss Ingredients: 5.3912596043532455\n",
      "Validation classification accuracy: 0.7688582539558411\n",
      "Validation completion accuracy: 0.1249999925494194\n"
     ]
    },
    {
     "name": "stderr",
     "output_type": "stream",
     "text": [
      "100%|██████████████████████████████████████████████████████████████████████████████| 3961/3961 [05:14<00:00, 12.61it/s]\n"
     ]
    },
    {
     "name": "stdout",
     "output_type": "stream",
     "text": [
      "Epoch: 26, Training Loss: 9.661829697065539, Validation Loss Cuisine: 0.8709461827103685, Validation Loss Ingredients: 5.394427477828855\n",
      "Validation classification accuracy: 0.7672017812728882\n",
      "Validation completion accuracy: 0.12181446701288223\n"
     ]
    },
    {
     "name": "stderr",
     "output_type": "stream",
     "text": [
      "100%|██████████████████████████████████████████████████████████████████████████████| 3961/3961 [05:16<00:00, 12.53it/s]\n"
     ]
    },
    {
     "name": "stdout",
     "output_type": "stream",
     "text": [
      "Epoch: 27, Training Loss: 9.642868107480552, Validation Loss Cuisine: 0.8592591385046641, Validation Loss Ingredients: 5.360887368520101\n",
      "Validation classification accuracy: 0.7663098573684692\n",
      "Validation completion accuracy: 0.12703873217105865\n",
      "Best model saved\n"
     ]
    },
    {
     "name": "stderr",
     "output_type": "stream",
     "text": [
      "100%|██████████████████████████████████████████████████████████████████████████████| 3961/3961 [05:26<00:00, 12.12it/s]\n"
     ]
    },
    {
     "name": "stdout",
     "output_type": "stream",
     "text": [
      "Epoch: 28, Training Loss: 9.627448730714331, Validation Loss Cuisine: 0.860310306151708, Validation Loss Ingredients: 5.3534478831097365\n",
      "Validation classification accuracy: 0.7632517218589783\n",
      "Validation completion accuracy: 0.12487257272005081\n"
     ]
    },
    {
     "name": "stderr",
     "output_type": "stream",
     "text": [
      "100%|██████████████████████████████████████████████████████████████████████████████| 3961/3961 [05:20<00:00, 12.35it/s]\n"
     ]
    },
    {
     "name": "stdout",
     "output_type": "stream",
     "text": [
      "Epoch: 29, Training Loss: 9.621944503813072, Validation Loss Cuisine: 0.8734334305049928, Validation Loss Ingredients: 5.364220227652449\n",
      "Validation classification accuracy: 0.761850118637085\n",
      "Validation completion accuracy: 0.12461773306131363\n"
     ]
    },
    {
     "name": "stderr",
     "output_type": "stream",
     "text": [
      "100%|██████████████████████████████████████████████████████████████████████████████| 3961/3961 [05:12<00:00, 12.67it/s]\n"
     ]
    },
    {
     "name": "stdout",
     "output_type": "stream",
     "text": [
      "Epoch: 30, Training Loss: 9.600025518648975, Validation Loss Cuisine: 0.8635326008486554, Validation Loss Ingredients: 5.382072708471035\n",
      "Validation classification accuracy: 0.7637614607810974\n",
      "Validation completion accuracy: 0.12614677846431732\n"
     ]
    },
    {
     "name": "stderr",
     "output_type": "stream",
     "text": [
      "100%|██████████████████████████████████████████████████████████████████████████████| 3961/3961 [05:12<00:00, 12.66it/s]\n"
     ]
    },
    {
     "name": "stdout",
     "output_type": "stream",
     "text": [
      "Epoch: 31, Training Loss: 9.584971200754714, Validation Loss Cuisine: 0.8720227569583955, Validation Loss Ingredients: 5.401036855651111\n",
      "Validation classification accuracy: 0.7643985152244568\n",
      "Validation completion accuracy: 0.12194189429283142\n"
     ]
    }
   ],
   "source": [
    "train_multitask(model, criterion, optimizer, train_loader, validation_loader_cuisine, validation_loader_ingredients, epochs, loss_weights=[0.5,2])"
   ]
  },
  {
   "cell_type": "code",
   "execution_count": 19,
   "metadata": {},
   "outputs": [
    {
     "name": "stdout",
     "output_type": "stream",
     "text": [
      "tensor(0.7663, device='cuda:0')\n",
      "tensor(0.1270, device='cuda:0')\n"
     ]
    }
   ],
   "source": [
    "model.load_state_dict(torch.load(\"weights/RecFormer_multitask_emb.pth\"))\n",
    "model.to(device)\n",
    "print(measure_accuracy(model, validation_loader_cuisine, multitask_switch=\"cuisine\"))\n",
    "print(measure_accuracy(model, validation_loader_ingredients, multitask_switch=\"ingredients\"))"
   ]
  },
  {
   "cell_type": "code",
   "execution_count": 20,
   "metadata": {},
   "outputs": [
    {
     "name": "stdout",
     "output_type": "stream",
     "text": [
      "tensor(0.8516, device='cuda:0')\n",
      "tensor(0.2076, device='cuda:0')\n"
     ]
    }
   ],
   "source": [
    "print(measure_accuracy(model, train_loader, multitask_switch=\"cuisine\"))\n",
    "print(measure_accuracy(model, train_loader, multitask_switch=\"ingredients\"))"
   ]
  },
  {
   "cell_type": "code",
   "execution_count": 21,
   "metadata": {},
   "outputs": [],
   "source": [
    "id_to_cus = {y: x for x, y in cusine_vocab.items()}"
   ]
  },
  {
   "cell_type": "code",
   "execution_count": 22,
   "metadata": {},
   "outputs": [
    {
     "name": "stdout",
     "output_type": "stream",
     "text": [
      "7848\n"
     ]
    }
   ],
   "source": [
    "model.eval()\n",
    "classification_preds = []\n",
    "with torch.no_grad():\n",
    "    for batch in validation_loader_cuisine:\n",
    "        preds = predict_on_batch(model, batch, \"cuisine\")\n",
    "        target = batch[1].to(device=device).flatten()\n",
    "        classification_preds.extend(torch.argmax(preds, axis=1).tolist())\n",
    "print(len(classification_preds))"
   ]
  },
  {
   "cell_type": "code",
   "execution_count": 23,
   "metadata": {},
   "outputs": [
    {
     "name": "stdout",
     "output_type": "stream",
     "text": [
      "              precision    recall  f1-score   support\n",
      "\n",
      "   brazilian       0.68      0.54      0.60        85\n",
      "     british       0.50      0.48      0.49       161\n",
      "cajun_creole       0.73      0.71      0.72       295\n",
      "     chinese       0.78      0.82      0.80       516\n",
      "    filipino       0.63      0.64      0.63       141\n",
      "      french       0.58      0.58      0.58       538\n",
      "       greek       0.71      0.66      0.69       222\n",
      "      indian       0.86      0.88      0.87       624\n",
      "       irish       0.53      0.54      0.54       122\n",
      "     italian       0.81      0.86      0.83      1558\n",
      "    jamaican       0.76      0.66      0.71       113\n",
      "    japanese       0.76      0.67      0.71       290\n",
      "      korean       0.76      0.72      0.74       167\n",
      "     mexican       0.90      0.91      0.90      1273\n",
      "    moroccan       0.80      0.72      0.76       160\n",
      "     russian       0.59      0.50      0.54        92\n",
      " southern_us       0.70      0.75      0.72       839\n",
      "     spanish       0.60      0.44      0.51       189\n",
      "        thai       0.78      0.80      0.79       294\n",
      "  vietnamese       0.77      0.63      0.69       169\n",
      "\n",
      "    accuracy                           0.77      7848\n",
      "   macro avg       0.71      0.68      0.69      7848\n",
      "weighted avg       0.76      0.77      0.76      7848\n",
      "\n"
     ]
    }
   ],
   "source": [
    "from sklearn.metrics import classification_report, f1_score, confusion_matrix\n",
    "\n",
    "print(classification_report([id_to_cus[id] for id in val_labels_c], [id_to_cus[id] for id in classification_preds]))"
   ]
  },
  {
   "cell_type": "code",
   "execution_count": 31,
   "metadata": {},
   "outputs": [
    {
     "name": "stdout",
     "output_type": "stream",
     "text": [
      "253453\n"
     ]
    }
   ],
   "source": [
    "model.eval()\n",
    "classification_preds = []\n",
    "with torch.no_grad():\n",
    "    for batch in DataLoader(dataset=train_dataset, batch_size=batch_size, collate_fn = padder, shuffle=False):\n",
    "        preds = predict_on_batch(model, batch, \"cuisine\")\n",
    "        target = batch[1].to(device=device).flatten()\n",
    "        classification_preds.extend(torch.argmax(preds, axis=1).tolist())\n",
    "print(len(classification_preds))"
   ]
  },
  {
   "cell_type": "code",
   "execution_count": 32,
   "metadata": {},
   "outputs": [
    {
     "name": "stdout",
     "output_type": "stream",
     "text": [
      "              precision    recall  f1-score   support\n",
      "\n",
      "   brazilian       0.82      0.63      0.71      2768\n",
      "     british       0.61      0.65      0.63      4632\n",
      "cajun_creole       0.81      0.84      0.82     11565\n",
      "     chinese       0.88      0.89      0.88     19120\n",
      "    filipino       0.71      0.75      0.73      4468\n",
      "      french       0.66      0.73      0.69     15205\n",
      "       greek       0.79      0.82      0.80      7330\n",
      "      indian       0.91      0.93      0.92     22384\n",
      "       irish       0.71      0.63      0.67      3649\n",
      "     italian       0.87      0.88      0.88     46378\n",
      "    jamaican       0.85      0.89      0.87      3471\n",
      "    japanese       0.85      0.74      0.79      8202\n",
      "      korean       0.84      0.89      0.86      5297\n",
      "     mexican       0.95      0.93      0.94     41581\n",
      "    moroccan       0.83      0.91      0.87      6466\n",
      "     russian       0.73      0.59      0.65      3025\n",
      " southern_us       0.81      0.78      0.79     24268\n",
      "     spanish       0.69      0.66      0.68      6323\n",
      "        thai       0.89      0.82      0.85     11305\n",
      "  vietnamese       0.79      0.76      0.77      6016\n",
      "\n",
      "    accuracy                           0.84    253453\n",
      "   macro avg       0.80      0.79      0.79    253453\n",
      "weighted avg       0.84      0.84      0.84    253453\n",
      "\n"
     ]
    }
   ],
   "source": [
    "print(classification_report([id_to_cus[id[0]] for id in multitask_labels], [id_to_cus[id] for id in classification_preds]))"
   ]
  },
  {
   "cell_type": "code",
   "execution_count": null,
   "metadata": {},
   "outputs": [],
   "source": []
  }
 ],
 "metadata": {
  "accelerator": "GPU",
  "colab": {
   "collapsed_sections": [],
   "name": "recipe_transformers.ipynb",
   "provenance": []
  },
  "kernelspec": {
   "display_name": "Python 3",
   "language": "python",
   "name": "python3"
  },
  "language_info": {
   "codemirror_mode": {
    "name": "ipython",
    "version": 3
   },
   "file_extension": ".py",
   "mimetype": "text/x-python",
   "name": "python",
   "nbconvert_exporter": "python",
   "pygments_lexer": "ipython3",
   "version": "3.8.5"
  }
 },
 "nbformat": 4,
 "nbformat_minor": 1
}
