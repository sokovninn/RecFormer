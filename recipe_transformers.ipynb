{
 "cells": [
  {
   "cell_type": "code",
   "execution_count": 1,
   "metadata": {
    "id": "OjH-sWUfbmX0"
   },
   "outputs": [
    {
     "name": "stderr",
     "output_type": "stream",
     "text": [
      "C:\\Users\\nikit\\miniconda3\\envs\\rpz\\lib\\site-packages\\tqdm\\auto.py:22: TqdmWarning: IProgress not found. Please update jupyter and ipywidgets. See https://ipywidgets.readthedocs.io/en/stable/user_install.html\n",
      "  from .autonotebook import tqdm as notebook_tqdm\n"
     ]
    }
   ],
   "source": [
    "import torch\n",
    "import pandas as pd\n",
    "import numpy as np\n",
    "device = torch.device('cuda')"
   ]
  },
  {
   "cell_type": "code",
   "execution_count": 2,
   "metadata": {
    "colab": {
     "base_uri": "https://localhost:8080/"
    },
    "id": "-ldjjic_ozgT",
    "outputId": "667559d7-0891-4710-94d8-12b100db8110"
   },
   "outputs": [
    {
     "data": {
      "text/plain": [
       "23547"
      ]
     },
     "execution_count": 2,
     "metadata": {},
     "output_type": "execute_result"
    }
   ],
   "source": [
    "df = pd.read_fwf('train.csv', header=None)\n",
    "data = df[0].str.split(',', expand=True).values.tolist()\n",
    "len(data)"
   ]
  },
  {
   "cell_type": "code",
   "execution_count": 3,
   "metadata": {
    "colab": {
     "base_uri": "https://localhost:8080/"
    },
    "id": "9c4pTUPXsANA",
    "outputId": "35945e08-ca3c-437f-e01f-434bd98c3074"
   },
   "outputs": [
    {
     "name": "stdout",
     "output_type": "stream",
     "text": [
      "Counter({'italian': 4661, 'mexican': 3782, 'southern_us': 2497, 'indian': 1702, 'chinese': 1581, 'french': 1534, 'cajun_creole': 900, 'thai': 886, 'japanese': 833, 'greek': 711, 'spanish': 584, 'moroccan': 489, 'british': 482, 'korean': 470, 'vietnamese': 468, 'filipino': 450, 'irish': 403, 'russian': 298, 'brazilian': 279, 'jamaican': 274, '': 44, '6': 19, '5': 16, '64': 6, 'mexi': 5, 'chines': 5, 'm': 5, 'i': 5, '671': 4, '62': 4, '55': 4, 'vi': 3, 'ital': 3, 'vietnames': 3, '52': 3, '4': 3, 'cajun_creol': 3, 's': 3, 'southern': 3, '61': 3, 'india': 2, 'mexic': 2, '553': 2, '6294': 2, '642': 2, 'cajun': 2, 't': 2, 'viet': 2, 'mex': 2, '495': 2, 'southern_u': 2, 'itali': 2, '5377': 2, 'chine': 2, '6422': 2, 'fre': 2, '53': 2, '63': 2, 'italia': 2, 'cajun_c': 2, 'vietna': 2, 'caju': 2, 'me': 2, '29': 1, 'brit': 1, '620': 1, '612': 1, '656': 1, 'southe': 1, 'cajun_cr': 1, '5774': 1, '65': 1, '618': 1, '6276': 1, 'japane': 1, '4162': 1, '5908': 1, '5884': 1, '658': 1, '630': 1, '588': 1, 'c': 1, 'brazili': 1, 'cajun_': 1, '6429': 1, '397': 1, 'so': 1, '6598': 1, '6596': 1, 'vietnam': 1, '5136': 1, 'fi': 1, 'fr': 1, '632': 1, '60': 1, '558': 1, '5847': 1, '661': 1, 'v': 1, 'caj': 1, '49': 1, '5536': 1, '56': 1, '463': 1, '34': 1, '67': 1, 'ind': 1, 'japanes': 1, '6241': 1, '638': 1, '5970': 1, '6187': 1, 'vie': 1, '5661': 1, 'moro': 1, '4314': 1, '58': 1, '635': 1, '545': 1, 'tha': 1, '265': 1, '4582': 1, '28': 1, '609': 1, '565': 1, 'mexica': 1, '6568': 1, '563': 1, 'jap': 1, '6061': 1, 'spani': 1, '513': 1, '6473': 1, '5510': 1, 'chin': 1, 'fili': 1})\n",
      "{'greek': 0, 'filipino': 1, 'indian': 2, 'jamaican': 3, 'spanish': 4, 'italian': 5, 'mexican': 6, 'vietnamese': 7, 'thai': 8, 'southern_us': 9, 'chinese': 10, 'cajun_creole': 11, 'brazilian': 12, 'french': 13, 'japanese': 14, 'irish': 15, 'moroccan': 16, 'korean': 17, 'british': 18, 'russian': 19}\n"
     ]
    }
   ],
   "source": [
    "from collections import Counter\n",
    "cusine_counter = Counter()\n",
    "cusine_vocab = {}\n",
    "\n",
    "for recipe in data:\n",
    "  if None in recipe:\n",
    "    recipe_length = recipe.index(None) - 1\n",
    "  else:\n",
    "    recipe_length = len(recipe) - 1\n",
    "  cusine_counter[recipe[recipe_length]] +=1\n",
    "\n",
    "print(cusine_counter)\n",
    "\n",
    "cusine_num = 0\n",
    "for k, v in cusine_counter.items():\n",
    "  if v > 100:\n",
    "    cusine_vocab[k] = cusine_num\n",
    "    cusine_num+=1\n",
    "\n",
    "print(cusine_vocab)"
   ]
  },
  {
   "cell_type": "code",
   "execution_count": 4,
   "metadata": {
    "colab": {
     "base_uri": "https://localhost:8080/"
    },
    "id": "NNBmKiwZxnHp",
    "outputId": "83bf8bc2-86c5-4426-de0f-02eba7f09706"
   },
   "outputs": [],
   "source": [
    "# train_ingredients = []\n",
    "# train_labels = []\n",
    "\n",
    "# for recipe in data:\n",
    "#   if None in recipe:\n",
    "#     recipe_length = recipe.index(None) - 1\n",
    "#   else:\n",
    "#     recipe_length = len(recipe) - 1\n",
    "#   if recipe[recipe_length] in cusine_vocab:\n",
    "#     train_ingredients.append(list(map(int, recipe[:recipe_length])))\n",
    "#     train_labels.append(cusine_vocab[recipe[recipe_length]])\n",
    "\n",
    "# print(len(train_ingredients), len(train_labels))"
   ]
  },
  {
   "cell_type": "markdown",
   "metadata": {},
   "source": [
    "Derrick's reading"
   ]
  },
  {
   "cell_type": "code",
   "execution_count": 5,
   "metadata": {},
   "outputs": [],
   "source": [
    "#ingredient_name = pd.read_csv(os.getcwd() + '/project description/node_ingredient.txt', engine='python', delimiter=',,', header=None)\n",
    "df = pd.read_csv('train.csv', engine= 'python', sep='\\,',  names=list(range(61)))\n",
    "df1 = df.fillna(0)\n",
    "df_2 = df1.values.tolist()"
   ]
  },
  {
   "cell_type": "code",
   "execution_count": 6,
   "metadata": {},
   "outputs": [],
   "source": [
    "# Separating the cuisines from the recipies \n",
    "train_ingredients = []\n",
    "train_labels = []\n",
    "for i, val in enumerate(df_2):\n",
    "    R_l = [v for v in val if v !=0]\n",
    "    train_ingredients.append(list(map(int, R_l[:-1]))) \n",
    "    train_labels.append(cusine_vocab[R_l[-1]])"
   ]
  },
  {
   "cell_type": "code",
   "execution_count": 7,
   "metadata": {},
   "outputs": [
    {
     "name": "stdout",
     "output_type": "stream",
     "text": [
      "[2813, 3146, 3229, 3885, 4379, 4390, 5250, 5456, 6187]\n"
     ]
    }
   ],
   "source": [
    "print(train_ingredients[0])"
   ]
  },
  {
   "cell_type": "code",
   "execution_count": 8,
   "metadata": {},
   "outputs": [
    {
     "name": "stdout",
     "output_type": "stream",
     "text": [
      "59\n"
     ]
    }
   ],
   "source": [
    "max_len = max(train_ingredients, key = lambda x: len(x))\n",
    "print(len(max_len))"
   ]
  },
  {
   "cell_type": "code",
   "execution_count": 9,
   "metadata": {
    "colab": {
     "base_uri": "https://localhost:8080/"
    },
    "id": "Ww_N8qvL_0Z1",
    "outputId": "c902d23f-2da6-4d32-a151-fab914aa04af"
   },
   "outputs": [],
   "source": [
    "# df = pd.read_fwf('validation_classification_question.csv', header=None)\n",
    "# val_x = df[0].str.split(',', expand=True).values.tolist()\n",
    "# df = pd.read_fwf('validation_classification_answer.csv', header=None)\n",
    "# val_y = df[0].str.split(',', expand=True).values.tolist()\n",
    "# print(len(val_x), len(val_y))"
   ]
  },
  {
   "cell_type": "code",
   "execution_count": 10,
   "metadata": {},
   "outputs": [],
   "source": [
    "df = pd.read_csv('validation_classification_question.csv', engine= 'python', sep='\\,',  names=list(range(60)))\n",
    "df1 = df.fillna(0)\n",
    "val_x = df1.values.tolist()\n",
    "\n",
    "df = pd.read_csv('validation_classification_answer.csv', engine= 'python', sep='\\,',  names=list(range(60)))\n",
    "df1 = df.fillna(0)\n",
    "val_y = df1.values.tolist()"
   ]
  },
  {
   "cell_type": "code",
   "execution_count": 11,
   "metadata": {},
   "outputs": [
    {
     "name": "stdout",
     "output_type": "stream",
     "text": [
      "7848 7848\n"
     ]
    }
   ],
   "source": [
    "val_ingredients_c = []\n",
    "val_labels_c = []\n",
    "\n",
    "for i in range(len(val_x)):\n",
    "  R_l = [v for v in val_x[i] if v !=0]\n",
    "  val_ingredients_c.append(list(map(int, R_l[:-1]))) \n",
    "  val_labels_c.append(cusine_vocab[val_y[i][0]])\n",
    "\n",
    "print(len(val_ingredients_c), len(val_labels_c))"
   ]
  },
  {
   "cell_type": "code",
   "execution_count": 12,
   "metadata": {
    "colab": {
     "base_uri": "https://localhost:8080/"
    },
    "id": "xNnNHlGdAk-i",
    "outputId": "fbd8b543-38d2-4ee1-e8b5-0caa18f8cd05"
   },
   "outputs": [],
   "source": [
    "# val_ingredients_c = []\n",
    "# val_labels_c = []\n",
    "\n",
    "# for i in range(len(val_x)):\n",
    "#   if val_y[i][0] in cusine_vocab:\n",
    "#     if None in val_x[i]:\n",
    "#       recipe_length = val_x[i].index(None)\n",
    "#     else:\n",
    "#       recipe_length = len(val_x[i])\n",
    "#     if recipe_length == 0:\n",
    "#       print(123)\n",
    "#     #print(val_x[i][:recipe_length])\n",
    "#     #print(val_x[i])\n",
    "#     if val_x[i][recipe_length-1] == \"\":\n",
    "#       val_ingredients_c.append(list(map(int, val_x[i][:recipe_length-1]))) # without one ingredient ??\n",
    "#     else:\n",
    "#       val_ingredients_c.append(list(map(int, val_x[i][:recipe_length])))\n",
    "#     val_labels_c.append(cusine_vocab[val_y[i][0]])\n",
    "\n",
    "# print(len(val_ingredients_c), len(val_labels_c))"
   ]
  },
  {
   "cell_type": "code",
   "execution_count": 13,
   "metadata": {
    "id": "lrZ1e8Byqnfo"
   },
   "outputs": [],
   "source": [
    "from torch.utils.data import Dataset as TorchDataset\n",
    "\n",
    "class Dataset(TorchDataset):\n",
    "    \n",
    "    def __init__(self, data, labels):\n",
    "        self.data = data\n",
    "        self.labels = labels\n",
    "\n",
    "    def __getitem__(self, index):\n",
    "\n",
    "        input_tensor = torch.LongTensor([self.data[index]]) # the first dimension is minibatch size\n",
    "        label = torch.LongTensor([self.labels[index]])\n",
    "        return input_tensor, label\n",
    "\n",
    "    def __len__(self):\n",
    "        return len(self.data)"
   ]
  },
  {
   "cell_type": "code",
   "execution_count": 20,
   "metadata": {
    "id": "n5tLpeinzajd"
   },
   "outputs": [],
   "source": [
    "from torch import nn\n",
    "\n",
    "class Transformer(nn.Module):\n",
    "  def __init__(self, num_tokens, num_labels, dim_model, num_heads, num_encoder_layers, num_decoder_layers, dropout_p, use_pretrained_embeddings = False):\n",
    "    super(Transformer, self).__init__()\n",
    "    self.use_pretrained_embeddings = use_pretrained_embeddings\n",
    "    if not use_pretrained_embeddings:\n",
    "      self.embedding = nn.Embedding(num_tokens, dim_model)\n",
    "    self.transformer = nn.Transformer(\n",
    "            d_model=dim_model,\n",
    "            nhead=num_heads,\n",
    "            num_encoder_layers=num_encoder_layers,\n",
    "            num_decoder_layers=num_decoder_layers,\n",
    "            dim_feedforward=1024,\n",
    "            dropout=dropout_p,\n",
    "        )\n",
    "    self.linear = nn.Linear(dim_model, num_labels)\n",
    "\n",
    "  def forward(self, input_tensor):\n",
    "    if not self.use_pretrained_embeddings:\n",
    "       x = self.embedding(input_tensor).squeeze(1)\n",
    "    else:\n",
    "      x = input_tensor\n",
    "    # print(x.shape)\n",
    "   # x = x.permute(1, 0, 2)\n",
    "    transformer_out = self.transformer(x, x)\n",
    "    #print(transformer_out.shape)\n",
    "    out = self.linear(torch.mean(transformer_out, dim=1))\n",
    "    #out = self.linear(transformer_out[:,0,:])\n",
    "    return out"
   ]
  },
  {
   "cell_type": "code",
   "execution_count": 21,
   "metadata": {
    "id": "rOJenA_41hty"
   },
   "outputs": [],
   "source": [
    "def train(model, criterion, optimizer, data_loader, validation_loader, epochs, clipping_on=False):\n",
    "  model.to(device=device)\n",
    "  for epoch in range(epochs):\n",
    "    model.train()\n",
    "    running_loss = 0.0\n",
    "    for batch in data_loader:\n",
    "      x = batch[0].to(device=device)\n",
    "      #print(x[0])\n",
    "      y = batch[1].flatten().to(device=device)\n",
    "      preds = model(x)\n",
    "      #print(preds.shape, y.shape)\n",
    "      loss = criterion(preds, y)\n",
    "      optimizer.zero_grad()\n",
    "      loss.backward()\n",
    "      if clipping_on:\n",
    "        nn.utils.clip_grad_norm_(model.parameters(), 1)\n",
    "      optimizer.step()\n",
    "      running_loss += loss.item()\n",
    "\n",
    "    epoch_loss = running_loss / len(data_loader)\n",
    "\n",
    "    val_loss = 0.0\n",
    "    model.eval()\n",
    "    with torch.no_grad():\n",
    "      for batch in validation_loader:\n",
    "          \n",
    "          x = batch[0].to(device=device)\n",
    "          y = batch[1].flatten().to(device=device)\n",
    "          preds = model(x)\n",
    "          loss = criterion(preds, y)\n",
    "          val_loss += loss.item()\n",
    "      val_loss /= len(validation_loader)\n",
    "        \n",
    "    print('Epoch: {}, Training Loss: {}, Validation Loss: {}'.format(epoch, epoch_loss, val_loss))\n",
    "    #print(measure_accuracy(model, train_loader))\n",
    "    print(measure_accuracy(model, validation_loader))"
   ]
  },
  {
   "cell_type": "code",
   "execution_count": 23,
   "metadata": {
    "id": "eqlXuWe09JQo"
   },
   "outputs": [],
   "source": [
    "def pad_tensor(vec, length, dim, pad_symbol):\n",
    "    # Credits to https://discuss.pytorch.org/t/dataloader-for-various-length-of-data/6418/8\n",
    "    pad_size = list(vec.shape)\n",
    "    #print(pad_size)\n",
    "    pad_size[dim] = length - vec.size(dim)\n",
    "    return torch.cat([vec, torch.zeros(*pad_size, dtype=torch.int64)], dim=dim)\n",
    "\n",
    "class Padder:\n",
    "    \n",
    "    def __init__(self, dim=0, pad_symbol=0):\n",
    "        self.dim = dim\n",
    "        self.pad_symbol = pad_symbol\n",
    "        \n",
    "    def __call__(self, batch):\n",
    "        max_len = max(map(lambda x: x[0].shape[self.dim], batch))\n",
    "        batch = list(map(lambda xy:\n",
    "                    (pad_tensor(xy[0], max_len, self.dim, self.pad_symbol), xy[1]), batch))\n",
    "        xs = torch.stack(list(map(lambda x: x[0], batch)), dim=0)\n",
    "        ys = torch.stack(list(map(lambda x: x[1], batch)), dim=0)\n",
    "        return xs, ys"
   ]
  },
  {
   "cell_type": "code",
   "execution_count": 24,
   "metadata": {
    "id": "9pt8nRhU9Vwv"
   },
   "outputs": [],
   "source": [
    "# batch_size = 256\n",
    "# epochs = 20 # 40 0.7469\n",
    "\n",
    "# num_labels = len(cusine_vocab)\n",
    "# num_tokens = 6714\n",
    "# dim_model = 128\n",
    "# num_heads = 4\n",
    "# num_encoder_layers = 2\n",
    "# num_decoder_layers = 2\n",
    "# dropout_p = 0.2"
   ]
  },
  {
   "cell_type": "code",
   "execution_count": 25,
   "metadata": {},
   "outputs": [],
   "source": [
    "batch_size = 256\n",
    "epochs = 20 # 40 0.7469\n",
    "\n",
    "num_labels = len(cusine_vocab)\n",
    "num_tokens = 6714\n",
    "dim_model = 128\n",
    "num_heads = 4\n",
    "num_encoder_layers = 1\n",
    "num_decoder_layers = 1\n",
    "dropout_p = 0.3\n",
    "# 1024 dim_feedforward"
   ]
  },
  {
   "cell_type": "code",
   "execution_count": 26,
   "metadata": {
    "id": "EIdBO83d2PCS"
   },
   "outputs": [],
   "source": [
    "from torch.utils.data import DataLoader\n",
    "\n",
    "padder = Padder(dim=1, pad_symbol=0)\n",
    "train_dataset = Dataset(train_ingredients, train_labels)\n",
    "validation_dataset = Dataset(val_ingredients_c, val_labels_c)\n",
    "train_loader = DataLoader(dataset=train_dataset, batch_size=batch_size, collate_fn = padder, shuffle=True)\n",
    "validation_loader = DataLoader(dataset=validation_dataset, batch_size=batch_size, collate_fn = padder)"
   ]
  },
  {
   "cell_type": "code",
   "execution_count": 31,
   "metadata": {
    "id": "lhQbmGHr2nqY"
   },
   "outputs": [],
   "source": [
    "model = Transformer(num_tokens, num_labels, dim_model, num_heads, num_encoder_layers, num_decoder_layers, dropout_p)\n",
    "criterion = nn.CrossEntropyLoss()\n",
    "optimizer = torch.optim.Adam(model.parameters(), lr=0.001)"
   ]
  },
  {
   "cell_type": "code",
   "execution_count": 32,
   "metadata": {
    "colab": {
     "base_uri": "https://localhost:8080/",
     "height": 323
    },
    "id": "MvAx6Z6H4VfH",
    "outputId": "8e175f58-957c-4e4c-bf34-22ffd2d68820"
   },
   "outputs": [
    {
     "name": "stdout",
     "output_type": "stream",
     "text": [
      "Epoch: 0, Training Loss: 2.446950236092443, Validation Loss: 2.1439752155734646\n",
      "tensor(0.4084, device='cuda:0')\n",
      "Epoch: 1, Training Loss: 1.9776771548001661, Validation Loss: 1.7705618296900103\n",
      "tensor(0.4864, device='cuda:0')\n",
      "Epoch: 2, Training Loss: 1.692632601312969, Validation Loss: 1.5968618739035823\n",
      "tensor(0.5299, device='cuda:0')\n",
      "Epoch: 3, Training Loss: 1.502042117326156, Validation Loss: 1.4450606838349374\n",
      "tensor(0.5631, device='cuda:0')\n",
      "Epoch: 4, Training Loss: 1.368546178807383, Validation Loss: 1.3497509341086111\n",
      "tensor(0.5961, device='cuda:0')\n",
      "Epoch: 5, Training Loss: 1.2488208128058391, Validation Loss: 1.2714740576282624\n",
      "tensor(0.6214, device='cuda:0')\n",
      "Epoch: 6, Training Loss: 1.1665352926306103, Validation Loss: 1.2313473724549817\n",
      "tensor(0.6340, device='cuda:0')\n",
      "Epoch: 7, Training Loss: 1.074194552457851, Validation Loss: 1.1673733380533033\n",
      "tensor(0.6470, device='cuda:0')\n",
      "Epoch: 8, Training Loss: 1.012580236662989, Validation Loss: 1.1444685459136963\n",
      "tensor(0.6478, device='cuda:0')\n",
      "Epoch: 9, Training Loss: 0.9569306567959164, Validation Loss: 1.0971058818601793\n",
      "tensor(0.6724, device='cuda:0')\n",
      "Epoch: 10, Training Loss: 0.9056449551945147, Validation Loss: 1.05609263912324\n",
      "tensor(0.6865, device='cuda:0')\n",
      "Epoch: 11, Training Loss: 0.8637474645739016, Validation Loss: 1.0389186816830789\n",
      "tensor(0.6890, device='cuda:0')\n",
      "Epoch: 12, Training Loss: 0.8234208096628604, Validation Loss: 1.0348755601913697\n",
      "tensor(0.6918, device='cuda:0')\n",
      "Epoch: 13, Training Loss: 0.7862136098353759, Validation Loss: 1.031389711364623\n",
      "tensor(0.6924, device='cuda:0')\n",
      "Epoch: 14, Training Loss: 0.7555168400640073, Validation Loss: 1.0175683209972997\n",
      "tensor(0.6978, device='cuda:0')\n",
      "Epoch: 15, Training Loss: 0.7245986597693485, Validation Loss: 1.0165352033030601\n",
      "tensor(0.7055, device='cuda:0')\n",
      "Epoch: 16, Training Loss: 0.6979534852763881, Validation Loss: 0.9988420778705228\n",
      "tensor(0.7109, device='cuda:0')\n",
      "Epoch: 17, Training Loss: 0.6683008142787478, Validation Loss: 1.0055574928560564\n",
      "tensor(0.7171, device='cuda:0')\n",
      "Epoch: 18, Training Loss: 0.6422610082056212, Validation Loss: 0.993650076850768\n",
      "tensor(0.7138, device='cuda:0')\n",
      "Epoch: 19, Training Loss: 0.6259889991387076, Validation Loss: 0.9880306374642157\n",
      "tensor(0.7153, device='cuda:0')\n"
     ]
    }
   ],
   "source": [
    "train(model, criterion, optimizer, train_loader, validation_loader, epochs)"
   ]
  },
  {
   "cell_type": "code",
   "execution_count": 29,
   "metadata": {
    "id": "xoMQ-DSg-4C4"
   },
   "outputs": [],
   "source": [
    "def predict_on_batch(model, batch, multitask_switch=None):\n",
    "  x = batch[0].to(device=device)\n",
    "  #print(x)\n",
    "  if multitask_switch == \"cuisine\":\n",
    "    prediction, _ = model(x)\n",
    "  elif multitask_switch == \"ingredients\":\n",
    "    _, prediction = model(x)\n",
    "  else:\n",
    "    prediction = model(x)\n",
    "  probs = nn.functional.softmax(prediction, dim=1)\n",
    "  #print(\"Preds: \", torch.argmax(probs, axis=1))\n",
    "  return probs"
   ]
  },
  {
   "cell_type": "code",
   "execution_count": 30,
   "metadata": {
    "id": "oJkH830j4cx4"
   },
   "outputs": [],
   "source": [
    "def measure_accuracy(model, data_loader, multitask_switch=None):\n",
    "  correct_preds = 0\n",
    "  model.eval()\n",
    "  with torch.no_grad():\n",
    "    for batch in data_loader:\n",
    "        preds = predict_on_batch(model, batch, multitask_switch)\n",
    "        target = batch[1].to(device=device).flatten()\n",
    "      # print(\"Target: \", target)\n",
    "        #print(torch.argmax(preds, axis=1).shape, target.shape)\n",
    "        correct_preds += torch.sum(torch.argmax(preds, axis=1) == target)\n",
    "    accuracy = correct_preds / len(data_loader.dataset)\n",
    "  return accuracy"
   ]
  },
  {
   "cell_type": "code",
   "execution_count": 33,
   "metadata": {
    "colab": {
     "base_uri": "https://localhost:8080/"
    },
    "id": "Sa5JV1GA-_AY",
    "outputId": "6b836e02-5efc-4509-d330-8b089fd889f5"
   },
   "outputs": [
    {
     "name": "stdout",
     "output_type": "stream",
     "text": [
      "tensor(0.8479, device='cuda:0')\n",
      "tensor(0.7153, device='cuda:0')\n"
     ]
    }
   ],
   "source": [
    "print(measure_accuracy(model, train_loader))\n",
    "print(measure_accuracy(model, validation_loader))"
   ]
  },
  {
   "cell_type": "code",
   "execution_count": null,
   "metadata": {
    "id": "-HkaMsAB_M5i"
   },
   "outputs": [],
   "source": []
  },
  {
   "cell_type": "markdown",
   "metadata": {
    "id": "ivxYabqwo9BY"
   },
   "source": [
    "# Word embeddings experiment"
   ]
  },
  {
   "cell_type": "code",
   "execution_count": 33,
   "metadata": {
    "colab": {
     "base_uri": "https://localhost:8080/"
    },
    "id": "pGfGdIaPpBOR",
    "outputId": "511a794a-2fc3-4b0d-f879-115f5e408f49"
   },
   "outputs": [
    {
     "name": "stderr",
     "output_type": "stream",
     "text": [
      "'wget' is not recognized as an internal or external command,\n",
      "operable program or batch file.\n",
      "'unzip' is not recognized as an internal or external command,\n",
      "operable program or batch file.\n"
     ]
    }
   ],
   "source": [
    "!wget http://nlp.stanford.edu/data/glove.6B.zip\n",
    "!unzip glove*.zip"
   ]
  },
  {
   "cell_type": "code",
   "execution_count": null,
   "metadata": {
    "id": "tnu4LPk8qPVi"
   },
   "outputs": [],
   "source": [
    "import numpy as np\n",
    "\n",
    "emb_length = 100\n",
    "glove_vocab = {}\n",
    "with open('glove.6B.{}d.txt'.format(emb_length), encoding='utf-8') as f:\n",
    "  for line in f:\n",
    "      values = line.split()\n",
    "      word = values[0]\n",
    "      coefs = np.asarray(values[1:], dtype='float32')\n",
    "      glove_vocab[word] = coefs"
   ]
  },
  {
   "cell_type": "code",
   "execution_count": null,
   "metadata": {
    "id": "bGhHquDoqSUR"
   },
   "outputs": [],
   "source": [
    "PAD_embedding = torch.zeros(emb_length)\n",
    "UNK_embedding = np.mean(list(glove_vocab.values()), axis=0)"
   ]
  },
  {
   "cell_type": "code",
   "execution_count": null,
   "metadata": {
    "colab": {
     "base_uri": "https://localhost:8080/"
    },
    "id": "eMrKK0DYtScd",
    "outputId": "7bade2e0-6ea7-4d3b-e946-d5463d561af4"
   },
   "outputs": [
    {
     "name": "stdout",
     "output_type": "stream",
     "text": [
      "6714\n",
      "{0: 'coca-cola', 1: 'vegan butter', 2: 'sourdough rolls', 3: 'reduced sodium refried beans', 4: 'ramen noodles', 5: 'crumbled corn bread', 6: 'japanese breadcrumbs', 7: 'toasted shredded coconut', 8: 'chinese spinach', 9: \"Hellmann's® Real Mayonnaise\", 10: 'ducklings', 11: 'basil olive oil', 12: 'white baking bar', 13: 'rye whiskey', 14: 'mushroom broth', 15: 'meat loaf mix', 16: 'cocktail sauce', 17: 'asparagus spears', 18: 'nonfat greek yogurt', 19: 'cabernet sauvignon', 20: 'low sodium tomato sauce', 21: 'shredded colby', 22: 'dried dillweed', 23: 'frozen potatoes', 24: 'hot dog bun', 25: 'balm leaves', 26: 'lo mein noodles', 27: 'green split peas', 28: 'celery leaves', 29: 'butterflied leg of lamb', 30: 'refrigerated piecrusts', 31: 'cajun spice mix', 32: 'finely chopped onion', 33: 'chili bean sauce', 34: 'brown rice', 35: 'cutlet', 36: 'beef jerky', 37: 'lemon grass', 38: 'ground walnuts', 39: 'kinchay', 40: 'macarons', 41: 'crème de cassis', 42: 'tiger lily buds', 43: 'sour salt', 44: 'Johnsonville Andouille', 45: 'baby beets', 46: 'dry red wine', 47: 'escarole', 48: 'ground sausage', 49: 'rye flour', 50: 'seedless watermelon', 51: 'adobo sauce', 52: 'duck fat', 53: 'seltzer', 54: 'low sodium diced tomatoes', 55: 'chips', 56: 'great northern beans', 57: 'fresh lima beans', 58: 'ham', 59: 'green onions', 60: 'manicotti', 61: 'malt vinegar', 62: 'stolichnaya', 63: 'ground pork', 64: 'Knox unflavored gelatin', 65: 'green leaf lettuce', 66: 'cherry vanilla ice cream', 67: 'bread crumb fresh', 68: 'dal', 69: 'creole seasoning', 70: 'sausages', 71: 'black tea', 72: 'chorizo spanish', 73: 'collard leaves', 74: 'dried tarragon leaves', 75: 'potato rolls', 76: 'char siu', 77: 'condensed cream of mushroom soup', 78: 'margarine spread', 79: 'samphire', 80: 'dried thyme', 81: 'ruby red grapefruit', 82: 'strawberry syrup', 83: 'frozen orange juice concentrate,', 84: 'unsalted cashews', 85: 'scape pesto', 86: 'ground espresso', 87: 'light red kidney beans', 88: 'swiss steak', 89: 'gobo root', 90: 'pickle spears', 91: 'cooked bacon', 92: 'Japanese Mayonnaise', 93: 'shuck corn', 94: 'whole milk ricotta cheese', 95: 'lychees', 96: 'smoked pork', 97: 'chopmeat', 98: 'tuna packed in olive oil', 99: 'harissa sauce', 100: 'crystallized ginger', 101: 'beef shoulder', 102: 'hamburger buns', 103: 'mint sauce', 104: 'nut oil', 105: 'rolls', 106: 'horseradish', 107: 'bhindi', 108: 'ciabatta loaf', 109: 'hominy', 110: 'eggnog', 111: 'chilli paste', 112: 'dried fig', 113: 'Jagermeister Liqueur', 114: 'bamboo shoots', 115: 'habanero chile', 116: 'laksa paste', 117: 'broccoli slaw', 118: 'parsnips', 119: 'chopped bell pepper', 120: 'fresh lime', 121: 'coffee low-fat frozen yogurt', 122: 'sumac', 123: 'do chua', 124: 'herb seasoned stuffing mix', 125: 'milk chocolate chips', 126: 'regular soy sauce', 127: 'orange flower water', 128: 'tomate verde', 129: 'black mushrooms', 130: 'Herdez Salsa', 131: 'hazelnut flour', 132: 'Madras curry powder', 133: 'store-bought pound cake', 134: 'chocolate sandwich cookies', 135: 'oil cured olives', 136: 'refrigerated dinner rolls', 137: 'cardamom pods', 138: 'Kraft Extra Sharp Cheddar Cheese', 139: 'fish stock', 140: 'hachiya', 141: 'tilapia', 142: 'gai lan', 143: 'framboise liqueur', 144: 'turkey breast deli meat', 145: 'skirt steak', 146: 'sauce mix', 147: 'nonfat milk powder', 148: 'pico de gallo', 149: 'shichimi togarashi', 150: 'fillet steaks', 151: 'umeboshi vinegar', 152: 'chrysanthemum', 153: 'tree ear mushrooms', 154: 'shrimp', 155: 'olive oil mayonnaise', 156: 'apple pie spice', 157: 'orange pekoe tea', 158: 'peeled canned low sodium tomatoe', 159: 'raki', 160: 'low-fat soft goat cheese', 161: 'green tomato relish', 162: 'bean paste', 163: 'chorizo sausage', 164: 'frozen blackberries', 165: 'frozen popcorn chicken', 166: 'cream ic peach', 167: 'vegetable oil', 168: 'meat-filled tortellini', 169: 'regular sugar', 170: 'pork', 171: 'green tea powder', 172: 'sultana', 173: 'fresh yeast', 174: 'deveined shrimp', 175: 'mixed spice', 176: 'earl grey tea leaves', 177: 'peach nectar', 178: 'powdered turmeric', 179: 'candied fruit', 180: 'green garlic', 181: 'anise extract', 182: 'vegetable broth', 183: 'dried pappardelle', 184: 'striped bass', 185: 'curaçao', 186: 'orange juice', 187: 'canela', 188: 'lily flowers', 189: 'Flora pro.activ', 190: 'wish-bone light country italian', 191: 'unhulled sesame seeds', 192: 'winter savory', 193: 'sauvignon blanc', 194: 'cointreau liqueur', 195: 'corn flakes', 196: 'malted milk powder', 197: 'silver dragees', 198: 'montreal steak seasoning', 199: 'cured pork', 200: 'rotelle', 201: 'muscadet', 202: 'gluten free soy sauce', 203: 'sea salt', 204: 'soft fresh goat cheese', 205: 'candy', 206: 'crushed saltines', 207: 'frozen peas', 208: 'banana peppers', 209: 'pastry dough', 210: 'italian seasoning', 211: 'French mustard', 212: 'whiskey', 213: 'jamaican jerk marinade', 214: 'yukon gold', 215: 'small white beans', 216: 'rioja', 217: 'Wish-Bone Italian Dressing', 218: 'peach schnapps', 219: 'chestnut spread', 220: 'treacle', 221: 'pork sausages', 222: 'kimchi', 223: 'tomato basil sauce', 224: 'full fat cream cheese', 225: 'turkey hot dogs', 226: 'hamburger', 227: 'chocolate-hazelnut spread', 228: 'ruby port', 229: 'aleppo pepper', 230: 'oleo', 231: 'reduced sodium vegetable stock', 232: 'pound cake mix', 233: 'dashi', 234: 'taco seasoning', 235: 'awase miso', 236: 'Zatarain’s Jambalaya Mix', 237: 'kiwifruit', 238: 'back bacon rashers', 239: 'frozen whipped topping', 240: 'lemon pepper seasoning', 241: 'stewed tomatoes', 242: 'regular sour cream', 243: 'ground paprika', 244: 'fresh flounder fillets', 245: 'herring fillets', 246: 'kidney beans', 247: 'Splenda Brown Sugar Blend', 248: 'plain flour', 249: 'habanero', 250: 'disco empanada frozen', 251: 'whole wheat potato buns', 252: 'semolina flour', 253: 'virginia ham', 254: 'melon', 255: 'caramel topping', 256: 'rump steak', 257: 'vanilla instant pudding', 258: 'european style butter', 259: 'ham hock', 260: \"Old El Paso™ Thick 'n Chunky sal\", 261: 'guacamole seasoning mix', 262: 'nori paper', 263: 'kalonji', 264: 'dill tips', 265: 'fresh lime juice', 266: 'unsweetened dried coconut', 267: 'shelled hemp seeds', 268: 'liquid honey', 269: 'thin spaghetti', 270: 'low-fat cottage cheese', 271: 'whole snapper', 272: 'sweetened coconut', 273: 'vegan coffee creamer', 274: 'fresh parsley leaves', 275: 'Maggi', 276: 'yucca', 277: 'sweet onion', 278: 'vine ripened tomatoes', 279: 'relish', 280: 'slab bacon', 281: 'flour', 282: 'gooseberries', 283: 'compote', 284: 'shredded carrots', 285: 'pâte brisée', 286: 'Diamond Crystal® Kosher Salt', 287: 'ground round', 288: 'chiltepín', 289: 'pasilla chiles', 290: 'wild garlic', 291: 'rub', 292: 'walnut pieces', 293: 'taro leaf', 294: 'meat filling', 295: 'chili oil', 296: 'smoked haddock fillet', 297: 'cole slaw mix', 298: 'yogurt low fat', 299: 'sponge', 300: 'flavored wine', 301: 'peanut sauce', 302: 'piloncillo', 303: 'mostaccioli', 304: 'Jonshonville® Cajun Style Chicke', 305: 'all beef hot dogs', 306: 'roux', 307: 'country crock honey spread', 308: 'fresh cilantro', 309: 'light butter', 310: 'Italian parsley leaves', 311: 'winter squash', 312: 'salted roasted almonds', 313: 'wondra flour', 314: 'dried plum', 315: 'chinese pea pods', 316: 'cookies', 317: 'thyme leaves', 318: 'dark muscovado sugar', 319: 'refrigerated biscuits', 320: 'California bay leaves', 321: 'whole turkey', 322: 'au jus gravy', 323: 'fresh rosemary', 324: 'boneless turkey breast', 325: 'komatsuna', 326: 'reduced sugar ketchup', 327: 'beef tenderloin steaks', 328: 'lemon cucumber', 329: 'prosciutto fat', 330: 'Wish-Bone Light Italian Dressing', 331: 'passion fruit', 332: 'avocado', 333: 'blackening seasoning', 334: 'Spice Islands Garlic Salt', 335: 'cho-cho', 336: 'bulb fennel', 337: 'brown hash potato', 338: 'vegan margarine', 339: 'knorr pasta side', 340: 'chowchow', 341: 'waxy potatoes', 342: 'chili pepper', 343: 'pork chops, 1 inch thick', 344: 'grating cheese', 345: 'center cut pork loin chops', 346: 'ghee', 347: 'ground almonds', 348: 'accent', 349: 'Tamari Tamari', 350: 'stevia extract', 351: 'canned beef broth', 352: 'lamb leg', 353: 'grated cauliflower', 354: 'Heinz Tomato Ketchup', 355: 'low sodium chicken', 356: 'chili bean paste', 357: 'red grapefruit juice', 358: 'italian seasoning mix', 359: 'bass fillets', 360: 'poi', 361: 'chinese chives', 362: 'tart cherries', 363: 'harissa', 364: 'split peas', 365: 'flounder', 366: 'diced green chilies', 367: 'soy bean paste', 368: 'key lime', 369: 'vegetable slaw', 370: 'teleme', 371: 'whole wheat pita bread', 372: 'stem ginger', 373: 'chipotle sauce', 374: 'squash blossoms', 375: 'red currant jelly', 376: 'unsalted roasted pistachios', 377: 'seasoned bread crumbs', 378: 'bittersweet chocolate chips', 379: 'crawfish', 380: 'rubbed sage', 381: 'cod fillets', 382: 'fennel fronds', 383: 'elbow macaroni', 384: 'cassava', 385: 'sweet gherkin', 386: 'crab boil', 387: 'cold-smoked salmon', 388: 'leftover steak', 389: 'crosswise', 390: 'Breakstone’s Sour Cream', 391: 'dumplings', 392: 'grilled chicken breasts', 393: 'corn grits', 394: 'back ribs', 395: 'meat stock', 396: 'pork sirloin chops', 397: 'udon', 398: 'bonito flakes', 399: 'dark soy sauce', 400: 'passata', 401: 'long grain white rice', 402: 'lamb shoulder chops', 403: 'bbq seasoning', 404: 'acini di pepe', 405: 'pizza seasoning', 406: 'low-fat parmesan cheese', 407: 'pickled okra', 408: 'baking sugar', 409: 'pears', 410: '33% less sodium ham', 411: 'egg yolks', 412: 'sea cucumber', 413: 'pork sirloin roast', 414: 'pasta rotel', 415: 'yellow split peas', 416: 'maple flavored extract', 417: 'cooked beetroot', 418: 'marsala wine', 419: 'burgundy snails', 420: 'sweet potatoes or yams', 421: 'edamame beans', 422: 'nopalitos', 423: 'turnips', 424: 'grated romano cheese', 425: 'tri-tip roast', 426: '33% less sodium cooked deli ham', 427: 'colby jack cheese', 428: 'cake mix or white yellow', 429: 'Cointreau Liqueur', 430: 'black garlic', 431: 'dill seed', 432: 'garlic olive oil', 433: 'deviled ham', 434: 'chipotle salsa', 435: 'bourbon liqueur', 436: 'scallops', 437: 'Rotel Diced Tomatoes & Green Chi', 438: 'pumpernickel bread', 439: 'frozen edamame beans', 440: 'Italian herbs', 441: 'Argo Corn Starch', 442: 'nutritional yeast flakes', 443: 'gumbo file powder', 444: 'elbow pasta', 445: 'romaine lettuce hearts', 446: 'dijon', 447: 'Goya Ground Cumin', 448: 'sushi vinegar', 449: 'reduced sodium smoked ham', 450: 'cassis liqueur', 451: 'small red potato', 452: 'cream sherry', 453: 'kochu chang', 454: 'blood sausage', 455: 'tropical fruits', 456: 'beef soup bones', 457: 'vodka sauce', 458: 'bean curd skins', 459: 'miniature chocolate chips', 460: 'boneless chicken', 461: 'orange blossom extract', 462: 'bulgur', 463: 'steak tips', 464: 'low-fat cheese', 465: 'Mexican lager beer', 466: 'Ciabatta rolls', 467: 'squid', 468: 'vanilla frozen yogurt', 469: 'tomato sauce', 470: 'Crystal Farms Butter', 471: 'virgin coconut oil', 472: 'cayenne pepper sauce', 473: 'cremini mushrooms', 474: 'black tea leaves', 475: 'sesame seeds buns', 476: 'sweet yellow corn', 477: 'scallion greens', 478: 'lamb steaks', 479: 'oxtails', 480: 'white bread flour', 481: 'tapioca starch', 482: 'fish balls', 483: 'ginkgo nut', 484: 'whole wheat buns', 485: 'reduced sodium reduced fat cream', 486: 'pork shoulder roast', 487: 'McCormick Parsley Flakes', 488: 'turkey mince', 489: 'pheasant', 490: 'cubed ham', 491: 'orange slices', 492: 'bottled lime juice', 493: 'paccheri', 494: 'pig feet', 495: 'carpaccio', 496: 'epazote', 497: 'country gravy', 498: 'rib roast', 499: 'cottage cheese', 500: 'turkey meatballs', 501: 'agar', 502: 'gelatin', 503: 'beef roast', 504: 'bouillon granules', 505: 'tomato garlic pasta sauce', 506: 'longaniza', 507: 'pancit', 508: 'barbecue sauce', 509: 'unsalted chicken stock', 510: 'Japanese mountain yam', 511: 'roquefort', 512: 'orange rind', 513: 'cheese', 514: 'cabernet', 515: 'sweet white wine', 516: 'beni shoga', 517: 'filo dough', 518: \"Piment d'Espelette\", 519: 'spinach', 520: 'bottom round', 521: 'Sargento® Traditional Cut Shredd', 522: 'moroccan seasoning', 523: 'Mountain Dew Soda', 524: 'jambalaya rice mix', 525: 'swanson chicken stock', 526: 'spring onions', 527: 'granulated sugar', 528: '2 1/2 to 3 lb. chicken, cut into', 529: 'trout fillet', 530: 'chicken broth', 531: 'boneless chicken breast halves', 532: 'chinese ham', 533: 'aged gouda', 534: 'pink grapefruit', 535: 'shredded romano cheese', 536: 'curry paste', 537: 'bee pollen', 538: 'liquid aminos', 539: 'thyme sprigs', 540: 'fennel', 541: 'Pale Ale', 542: 'flat anchovy', 543: 'strawberry jam', 544: 'low-fat mozzarella cheese', 545: 'dried Thai chili', 546: 'demerara sugar', 547: 'ahi', 548: 'candied ginger', 549: 'garlic puree', 550: 'light sour cream', 551: 'snails', 552: 'worcestershire sauce', 553: 'frozen blueberries', 554: 'refried beans', 555: 'muffin', 556: 'lavender buds', 557: 'dried chives', 558: 'popcorn kernels', 559: 'dashi powder', 560: 'ti leaves', 561: 'lemongrass', 562: 'low-fat cream cheese', 563: 'shahi jeera', 564: 'fresh lavender', 565: 'whole wheat hamburger buns', 566: 'ground peppercorn', 567: 'brown butter', 568: 'light cream or half and half', 569: 'lotus seeds', 570: 'beau monde seasoning', 571: 'sweet turkey sausage', 572: 'adobo', 573: 'manouri', 574: 'dried bonito flakes', 575: 'Sugar in the Raw', 576: 'bone in skinless chicken thigh', 577: 'andouille turkey sausages', 578: 'cooked meatballs', 579: 'minced garlic', 580: 'drippings', 581: 'sea scallops', 582: 'beef tendons', 583: 'praline topping', 584: 'orange segments', 585: 'bacon', 586: 'soft sandwich rolls', 587: 'beef marrow', 588: 'lacinato kale', 589: 'browning', 590: 'lasagna sheets', 591: 'pepperoni', 592: 'Pompeian Canola Oil and Extra Vi', 593: 'squabs', 594: 'dulce de leche', 595: 'KNUDSEN 2% Milkfat Low Fat Cotta', 596: 'pineapple slices', 597: 'Knorr® Fiesta Sides™ - Mexican R', 598: 'truffle butter', 599: 'green curry paste', 600: 'Pillsbury™ Refrigerated Crescent', 601: 'sparkling sangria tradicional', 602: 'ground pepper', 603: 'fusilli', 604: 'thyme', 605: 'medium zucchini', 606: 'earl grey tea bags', 607: 'atta', 608: 'reduced sodium kidney beans', 609: 'whole wheat peasant bread', 610: 'huckleberries', 611: 'mackerel', 612: 'low sodium chili sauce', 613: 'butter-margarine blend', 614: 'whole wheat uncooked lasagna noo', 615: 'red kidney beans', 616: 'anisette', 617: 'prune juice', 618: 'sambuca', 619: 'fresca', 620: 'low sodium fat free vegetable br', 621: 'lecithin', 622: 'apple juice', 623: 'soybean paste', 624: 'ground cashew', 625: 'Green Giant Whole Kernel Sweet C', 626: 'lipton green tea bag', 627: 'nori sheets', 628: 'bay leaf', 629: 'savory', 630: 'cacao nibs', 631: 'hard-boiled egg', 632: 'lemon slices', 633: 'margarita salt', 634: 'gingersnap', 635: 'peaches', 636: 'fettucine', 637: 'pimenton de la vera', 638: 'Margherita Pepperoni', 639: 'karo', 640: 'vanilla cake mix', 641: 'chile bean paste', 642: 'tangerine juice', 643: 'diced red onions', 644: 'jerk paste', 645: 'Crystal Farms Shredded Gouda Che', 646: 'chees fresco queso', 647: 'kewra water', 648: 'double crust pie', 649: 'summer savory', 650: 'brie cheese', 651: 'chinese ginger', 652: 'zest', 653: 'mixed frozen seafood', 654: 'chicken gravy mix', 655: 'Stonefire Tandoori Garlic Naan', 656: 'lipton tea bags', 657: 'pepper sauce', 658: 'white beans', 659: 'tom yum paste', 660: 'roasted sesame seeds', 661: 'spicy sausage', 662: 'turkey gravy', 663: 'chinese noodles', 664: 'kahlúa', 665: 'preshred low fat mozzarella chee', 666: 'steel-cut oats', 667: 'crab claws', 668: 'rock cornish game hens', 669: 'wheat berries', 670: 'shells', 671: 'cooked steak', 672: 'red anjou pears', 673: 'lemon zest', 674: 'yellow tomato', 675: 'chicken feet', 676: 'tvp', 677: 'pumpkinseed kernels', 678: 'double crust', 679: 'demi baguette', 680: 'tatsoi', 681: 'pastry shell', 682: 'extra large eggs', 683: \"BREAKSTONE'S Sour Cream\", 684: 'tortilla chips', 685: 'Fuji Apple', 686: 'brown ale', 687: 'crushed cheese crackers', 688: 'light chicken stock', 689: 'poppy seed filling', 690: 'peppermint extract', 691: 'root vegetables', 692: 'sichuan peppercorn oil', 693: 'smoked hog jowl', 694: 'ground red pepper', 695: 'hazelnut meal', 696: 'Chinese egg noodles', 697: 'fillet medallions', 698: 'bread', 699: 'fiddlehead ferns', 700: 'sea bass fillets', 701: 'coconut extract', 702: 'strawberry yogurt', 703: 'sprinkles', 704: 'pecan pie', 705: 'angel food cake mix', 706: 'crème de framboise', 707: 'Asian chili sauce', 708: 'goji berries', 709: 'seltzer water', 710: 'mint syrup', 711: 'shredded bamboo', 712: 'applesauce', 713: 'Alexia Waffle Fries', 714: 'pound cake', 715: 'ficelle', 716: 'whole wheat bread toasted', 717: 'onion slices', 718: 'calf liver', 719: 'fresh onion', 720: 'chopped fresh mint', 721: 'large marshmallows', 722: 'white poppy seeds', 723: 'flower petals', 724: 'chanterelle', 725: 'vanilla cream', 726: 'gumbo file', 727: 'rib', 728: 'chuno sauce', 729: 'lop chong', 730: 'Foster Farms boneless skinless c', 731: 'okra', 732: 'buffalo', 733: 'cooked shrimp', 734: 'canned chicken breast', 735: 'ic pop', 736: 'cream of celery soup', 737: 'chocolate covered english toffee', 738: 'red potato', 739: 'porridge oats', 740: 'peapods', 741: 'curry sauce', 742: 'littleneck clams', 743: 'snappers', 744: 'old-fashioned oatmeal', 745: 'soybean sprouts', 746: 'smoked trout', 747: 'homemade stock', 748: 'baby portobello mushrooms', 749: 'english cucumber', 750: 'rice paddy herb', 751: 'waffle fries', 752: 'fat free cream of mushroom soup', 753: 'dark brown sugar', 754: 'meal', 755: 'high gluten bread flour', 756: 'seitan', 757: 'black cardamom pods', 758: 'roasted garlic oil', 759: 'boneless skinless chicken', 760: 'grape juice', 761: 'posole', 762: 'raspberries', 763: 'cilantro sprigs', 764: 'tart', 765: 'dry yeast', 766: 'quick-cooking hominy grits', 767: 'yucca root', 768: 'coco', 769: 'hot tea', 770: 'whole wheat angel hair pasta', 771: 'rub seasoning', 772: 'crispy bacon', 773: 'coconut milk', 774: 'Old El Paso™ chopped green chile', 775: 'Pillsbury™ Crescent Recipe Creat', 776: 'flaked coconut', 777: 'refrigerated crescent rolls', 778: 'monterey jack', 779: 'hoja santa leaves', 780: 'cider', 781: 'splenda', 782: 'heirloom squash', 783: 'oil packed dried tomatoes', 784: 'french toast', 785: '(   oz.) tomato paste', 786: 'black cod', 787: 'biscuit baking mix', 788: 'hot mustard', 789: 'southern comfort', 790: 'vine tomatoes', 791: 'flank steak', 792: 'sundae syrup', 793: 'carambola', 794: 'dried pasta', 795: 'whole cranberry sauce', 796: \"Hellmann''s Light Mayonnaise\", 797: 'ground dried shrimp', 798: 'extra virgin coconut oil', 799: 'unsalted shelled pistachio', 800: 'black grapes', 801: 'cherry preserves', 802: 'large shrimp', 803: 'rustic bread', 804: 'light whipping cream', 805: 'sliced kalamata olives', 806: 'juice concentrate', 807: 'hot chili powder', 808: 'chili paste with garlic', 809: 'fern', 810: 'adobo seasoning', 811: 'gram dal', 812: 'whole wheat pita bread rounds', 813: 'schnapps', 814: 'Martha White Cornbread Mix', 815: 'dandelion greens', 816: 'Japanese rice vinegar', 817: 'jackfruit', 818: 'dri fruit tropic', 819: 'sesame chili oil', 820: 'boston butt', 821: 'Johnsonville® Mild Italian Groun', 822: 'apple brandy', 823: 'millet', 824: 'garbonzo bean', 825: 'sliced salami', 826: 'spicy brown mustard', 827: 'peperoncini', 828: 'luncheon meat', 829: 'potato bread', 830: 'organic coconut milk', 831: 'Ragu Classic Alfredo Sauce', 832: 'ranch dressing', 833: 'sweet biscuit crumbs', 834: 'table wine', 835: 'nonfat dry milk', 836: 'stone-ground cornmeal', 837: 'orange zest', 838: 'linguini', 839: 'peanut powder', 840: 'Adobo All Purpose Seasoning', 841: 'young leeks', 842: 'pepper cheese', 843: 'pizza toppings', 844: 'roti', 845: 'ground blanched almonds', 846: 'whole wheat pastry flour', 847: 'rum', 848: 'seasoned rice wine vinegar', 849: 'cream of coconut', 850: 'cassava root flour', 851: 'mcintosh apples', 852: 'fat free beef broth', 853: 'ranch salad dressing mix', 854: 'masa harina', 855: 'dried lavender', 856: 'chinese wolfberries', 857: 'ground oregano', 858: 'adobo style seasoning', 859: 'evaporated cane juice', 860: 'mustard oil', 861: 'fat free milk', 862: 'korean vermicelli', 863: 'Crispy Rice Cereal', 864: 'fresh cod', 865: 'Lipton Lemon Iced Tea Mix', 866: 'stilton cheese', 867: 'japanese rice', 868: 'fat-free chicken broth', 869: 'mesclun', 870: 'merlot', 871: 'fregola', 872: 'safflower oil', 873: 'high-fructose corn syrup', 874: 'tamari almonds', 875: \"Campbell's Condensed Cream of Mu\", 876: 'andouille chicken sausage', 877: 'rice flour', 878: 'nonfat milk', 879: 'wasabi paste', 880: 'pork hocks', 881: 'celery tops', 882: 'king crab legs', 883: 'fryer chickens', 884: 'curly parsley', 885: 'pierogi', 886: 'sweet chili sauce', 887: 'hen', 888: 'truffles', 889: 'sweet cream butter', 890: 'rice cakes', 891: 'chip plain tortilla', 892: 'Jell-O Gelatin', 893: 'savoy cabbage leaves', 894: 'Jameson Whiskey', 895: 'mixed dried fruit', 896: 'citrus juice', 897: 'unsweetened soymilk', 898: 'pork fillet', 899: 'low sodium taco seasoning', 900: 'reduced sodium tamari', 901: \"M&M's Candy\", 902: 'baby broccoli', 903: 'steak seasoning', 904: 'marrow', 905: 'clove garlic, fine chop', 906: 'whole chicken', 907: 'Imperial Sugar Light Brown Sugar', 908: 'wheels', 909: 'baking soda', 910: 'empanada dough', 911: 'low-fat crème fraîche', 912: 'fresh turmeric', 913: 'grate lime peel', 914: 'plum sauce', 915: 'thickeners', 916: 'clove', 917: '(10 oz.) frozen chopped spinach', 918: 'fresh mushrooms', 919: 'marrow bones', 920: 'pea pods', 921: 'low-fat marinara sauce', 922: 'chinese leaf', 923: 'peperoncino', 924: 'sweet italian sausag links, cut', 925: 'fermented bean paste', 926: 'chopped fresh sage', 927: 'Kewpie Mayonnaise', 928: 'veal knuckle', 929: 'Hidden Valley® Original Ranch® L', 930: 'KRAFT Shredded Pepper Jack Chees', 931: 'TACO BELL® Thick & Chunky Mild S', 932: 'green plantains', 933: 'recipe crumbles', 934: 'lamb stew meat', 935: 'fenugreek', 936: 'Morton Salt', 937: 'salt', 938: 'beef shoulder roast', 939: 'chopped bacon', 940: 'Everglades Seasoning', 941: 'basmati', 942: 'Kraft Slim Cut Mozzarella Cheese', 943: 'beef shank', 944: 'yellow peppers', 945: 'shishito chile', 946: 'prawns', 947: 'jack cheese', 948: 'queso fresca', 949: 'collard greens', 950: 'pork shoulder boston butt', 951: 'young nettle', 952: 'spices', 953: 'sanding sugar', 954: 'skinless chicken pieces', 955: 'bread and butter pickle slices', 956: 'oysters', 957: 'lamb kidneys', 958: 'thai basil', 959: 'turkey breast tenderloins', 960: 'kielbasa (not low fat)', 961: 'unsalted vegetable stock', 962: 'chopped cilantro fresh', 963: 'Greek feta', 964: 'baby bok choy', 965: 'mandarin oranges', 966: 'granulated tapioca', 967: 'duck egg', 968: 'red leaf lettuce', 969: 'dr. pepper', 970: 'salt and ground black pepper', 971: 'port', 972: 'nectarines', 973: 'fryers', 974: 'refrigerated fettuccine', 975: 'beet juice', 976: 'canola oil cooking spray', 977: 'chunky peanut butter', 978: 'fedelini', 979: 'sweet paprika', 980: 'Conimex Wok Olie', 981: 'Conimex Woksaus Specials Vietnam', 982: 'beef brisket', 983: 'mincemeat pie filling', 984: 'egg noodles, cooked and drained', 985: 'energy drink', 986: 'dukkah', 987: 'vanilla essence', 988: 'thick-cut bacon', 989: 'Earth Balance Natural Buttery Sp', 990: 'chihuahua cheese', 991: 'beef bones', 992: 'black beans', 993: 'chinkiang vinegar', 994: 'Better Than Bouillon Chicken Bas', 995: 'low-fat balsamic vinaigrette', 996: 'organic cane sugar', 997: 'neutral oil', 998: 'rice powder', 999: 'brussels sprouts', 1000: 'anchovy fillets', 1001: 'granita', 1002: 'octopuses', 1003: 'wheat germ', 1004: 'panko breadcrumbs', 1005: 'pompano fillets', 1006: 'gyoza skins', 1007: 'buckwheat honey', 1008: 'beef rump', 1009: 'candlenuts', 1010: 'DeLallo Penne Ziti', 1011: 'dark sesame oil', 1012: 'agave tequila', 1013: 'halibut', 1014: 'topping', 1015: 'skinless snapper fillets', 1016: 'flax seeds', 1017: 'turkey breast cutlets', 1018: 'oil packed anchovies', 1019: 'ripe olives', 1020: 'non dairy milk', 1021: 'condensed tomato soup', 1022: 'cocoa powder', 1023: 'cooked long-grain brown rice', 1024: 'trout', 1025: 'annatto powder', 1026: 'long green', 1027: 'light rum', 1028: 'seasoning rub', 1029: 'sucralose sweetener', 1030: 'margarine', 1031: 'beef deli roast slice thinli', 1032: 'low sodium beef stock', 1033: 'cooki vanilla wafer', 1034: 'alaskan king salmon', 1035: 'yellow corn meal', 1036: 'prepared pasta sauce', 1037: 'mahi mahi', 1038: 'snapper head', 1039: 'bread, cut french into loaf', 1040: 'caper berries', 1041: 'brown mustard', 1042: 'condensed cream of broccoli soup', 1043: 'balsamic vinegar', 1044: 'clear honey', 1045: 'low-sodium low-fat chicken broth', 1046: 'cornmeal', 1047: 'fat-free buttermilk', 1048: 'grated lemon peel', 1049: 'salt free chili powder', 1050: 'cherrystone clams', 1051: 'flowering chives', 1052: 'compressed yeast', 1053: 'vanilla powder', 1054: 'dried tagliatelle', 1055: 'bean sauce', 1056: 'hungarian sweet paprika', 1057: 'corn chips', 1058: 'organic milk', 1059: 'white corn syrup', 1060: 'dried leaves oregano', 1061: 'artificial sweetener', 1062: 'knorr cilantro minicub', 1063: 'tortellini', 1064: 'mandarin orange segments', 1065: 'wonton wrappers', 1066: 'turkey stock', 1067: 'hierba santa', 1068: 'panch phoran', 1069: 'chutney', 1070: 'Progresso Balsamic Vinegar', 1071: 'India Pale Ale', 1072: 'black bean and corn salsa', 1073: 'japanese peanuts', 1074: 'cornflake crumbs', 1075: 'chinese barbecue sauce', 1076: 'broiler chicken', 1077: 'grated lemon zest', 1078: 'yellow lentils', 1079: 'yeast extract', 1080: 'gremolata', 1081: 'cooked fettuccini', 1082: 'dried neem leaves', 1083: 'Kraft Grated Parmesan Cheese', 1084: 'arhar', 1085: 'basil pesto sauce', 1086: 'dri thyme leaves, crush', 1087: 'bertolli vineyard premium collec', 1088: 'whole grain rice', 1089: 'whole wheat pasta', 1090: 'flavored oil', 1091: 'fresh curry leaves', 1092: 'slaw', 1093: 'ice cream salt', 1094: 'bone in chicken thighs', 1095: 'extra fine granulated sugar', 1096: 'low-fat monterey jack', 1097: 'vanilla bean paste', 1098: 'cooked italian meatballs', 1099: 'vermicelli', 1100: 'sweet pickle', 1101: 'Tabasco Green Pepper Sauce', 1102: 'swiss', 1103: 'red pepper hot sauce', 1104: 'ginger piece', 1105: 'sherbet', 1106: 'millet flour', 1107: 'orange soda', 1108: 'chunky', 1109: 'other vegetables', 1110: 'frosting', 1111: 'golden raisins', 1112: 'curry powder', 1113: 'wood mushrooms', 1114: 'pita bread rounds', 1115: 'St Germain Liqueur', 1116: 'baby greens', 1117: 'black vinegar', 1118: 'fresh mozzarella', 1119: 'roasted tomatoes', 1120: \"Campbell's Condensed Cream of Ch\", 1121: 'streaky bacon', 1122: 'dashi kombu', 1123: 'sugar pumpkin', 1124: 'green pesto', 1125: 'armagnac', 1126: 'chocolate fudge ice cream', 1127: 'maltose', 1128: 'boneless beef sirloin steak', 1129: 'tripe', 1130: 'candied orange peel', 1131: 'canola', 1132: 'red russian kale', 1133: 'mexican chocolate', 1134: 'bâtarde', 1135: 'fresh tofu', 1136: \"hellmann' or best food light may\", 1137: 'tomato paste', 1138: 'vegetable oil cooking spray', 1139: 'baby artichokes', 1140: 'paneer', 1141: 'rolled oats', 1142: 'chopped ham', 1143: 'pure maple syrup', 1144: 'pearl onions', 1145: 'tangzhong roux', 1146: 'sugarcane', 1147: 'amchur', 1148: 'pork back ribs', 1149: 'mizuna', 1150: 'parmigiano-reggiano cheese', 1151: 'low sodium tomato', 1152: 'squirt', 1153: 'cashew butter', 1154: 'one third less sodium chicken br', 1155: 'low sodium salt', 1156: 'shredded cheese', 1157: 'hot italian pork sausage', 1158: 'tandoori paste', 1159: 'poblano', 1160: 'haricot beans', 1161: 'promise buttery spread', 1162: 'unsweetened apple juice', 1163: 'boneless duck breast halves', 1164: 'lemon verbena', 1165: 'beef stew', 1166: 'bacon pieces', 1167: 'brown gravy mix', 1168: 'chardonnay', 1169: 'pork loin chops', 1170: 'cooked ham', 1171: 'romaine lettuce leaves', 1172: 'chinese eggplants', 1173: 'Stonefire Italian Artisan Pizza', 1174: 'grits', 1175: 'skinless haddock', 1176: 'lean ground beef', 1177: 'venison steaks', 1178: 'mora chiles', 1179: 'shucked oysters', 1180: 'low sodium crushed tomatoes', 1181: 'essence seasoning', 1182: 'jerk marinade', 1183: 'Karo Corn Syrup', 1184: 'king oyster mushroom', 1185: 'rib pork chops', 1186: 'Jasmine brown rice', 1187: 'instant rice', 1188: 'Hidden Valley® Original Ranch® D', 1189: 'pineapple', 1190: 'miniature semisweet chocolate ch', 1191: 'lardons', 1192: 'liver', 1193: 'methi', 1194: 'tea leaves', 1195: 'raw buckwheat groats', 1196: 'shredded nori', 1197: 'rock salt', 1198: 'jalapeno chilies', 1199: 'soy chorizo', 1200: 'hot pepper sauce', 1201: 'chorizo', 1202: 'Italian seasoned breadcrumbs', 1203: 'red beans', 1204: 'bean curd stick', 1205: 'red bean paste', 1206: 'catalina dressing', 1207: 'ground chipotle chile pepper', 1208: 'center cut loin pork chop', 1209: 'chilled prosecco', 1210: 'char', 1211: 'grated pecorino', 1212: 'prego fresh mushroom italian sau', 1213: 'queso fresco', 1214: 'pork sausage casing', 1215: 'whey', 1216: 'fat free whipped topping', 1217: 'sliced meat', 1218: 'mole paste', 1219: 'carrot greens', 1220: 'arrowroot flour', 1221: 'holy basil', 1222: 'Turkish bay leaves', 1223: 'hibiscus flowers', 1224: 'silken tofu', 1225: 'turkey carcass', 1226: 'low fat reduced sodium pasta sau', 1227: 'sparkling lemonade', 1228: 'salad dressing', 1229: 'ampalaya', 1230: 'frozen pizza dough', 1231: 'pink lentil', 1232: 'boned skinned duck breast halves', 1233: 'suet', 1234: 'bean dip', 1235: 'orange peel', 1236: 'cajun seasoning mix', 1237: 'bertolli four chees rosa sauc', 1238: 'cactus paddles', 1239: 'garlic herb spreadable cheese', 1240: 'nonfat evaporated milk', 1241: 'beef round', 1242: 'beef tongue', 1243: 'pure acai puree', 1244: \"Eggland's Best® eggs\", 1245: 'fresh leav spinach', 1246: 'konnyaku', 1247: 'processed cheese', 1248: 'parmagiano reggiano', 1249: 'saba', 1250: 'rajma', 1251: 'mi', 1252: 'mild cheddar cheese', 1253: 'pork country-style ribs', 1254: 'medium shrimp uncook', 1255: 'potato nuggets', 1256: 'knorr leek recip mix', 1257: 'gluten-free pie crust', 1258: 'rye', 1259: 'fleur de sel', 1260: 'rose petals', 1261: 'nonfat block cream cheese', 1262: 'pork rind', 1263: 'mango salsa', 1264: 'candied bacon', 1265: 'russet', 1266: 'pork roll', 1267: 'reduced fat creamy peanut butter', 1268: 'poha', 1269: 'ham steak', 1270: 'lamb chops', 1271: 'jicama', 1272: 'pickled jalapeno peppers', 1273: 'self-rising cake flour', 1274: 'almond butter', 1275: 'breast of lamb', 1276: 'ground caraway', 1277: 'carne seca', 1278: 'flavored vodka', 1279: 'sun-dried tomatoes in oil', 1280: 'onion gravy', 1281: 'cubed potatoes', 1282: 'green pumpkin seeds', 1283: 'whole wheat tortilla wraps', 1284: 'lean chuck roast', 1285: 'toast points', 1286: 'whole wheat bread', 1287: 'french fried onions', 1288: 'coffee extract', 1289: 'nonfat buttermilk', 1290: 'chicken gizzards', 1291: 'dark chicken stock', 1292: 'goat milk feta', 1293: 'gluten-free flour', 1294: 'pepperocini', 1295: 'red drum', 1296: 'coarse sea salt', 1297: 'Knudsen Light Sour Cream', 1298: 'parmesan cheese', 1299: 'george dickel', 1300: 'anasazi beans', 1301: 'garbanzo bean flour', 1302: 'gingerroot', 1303: 'unsweetened baking chocolate', 1304: 'KRAFT Mexican Style Shredded Fou', 1305: 'myzithra', 1306: 'gluten-free penne', 1307: 'crepes', 1308: 'sugar', 1309: 'dijon style mustard', 1310: 'chili seasoning', 1311: 'white cheese', 1312: 'black walnut', 1313: 'baby turnips', 1314: 'eating apple', 1315: 'San Marzano Diced Tomatoes', 1316: 'hot green chile', 1317: 'orange roughy', 1318: 'dried basil', 1319: 'rooster', 1320: 'coconut cream', 1321: 'diced onions', 1322: 'sherry', 1323: 'stuffing mix', 1324: 'pitted olives', 1325: 'salted dry roasted peanuts', 1326: 'calabaza', 1327: 'pace picante sauce', 1328: 'boned duck breast halves', 1329: 'sweetened condensed milk', 1330: \"I Can't Believe It's Not Butter!\", 1331: 'McCormick Ground White Pepper', 1332: 'links', 1333: 'citrus vinaigrette', 1334: 'whole wheat bread slices', 1335: 'thin deli ham', 1336: 'Truvía® natural sweetener', 1337: 'anise oil', 1338: 'unsalted margarine', 1339: 'drummettes', 1340: 'louisiana hot sauce', 1341: 'yellow mustard', 1342: 'low sodium cajun seasoning', 1343: 'cornbread mix', 1344: 'muesli', 1345: 'yuca', 1346: 'shrimp small uncook', 1347: 'baby kale', 1348: 'Knorr Chicken Flavor Bouillon', 1349: 'apple pie filling', 1350: 'black bean garlic sauce', 1351: 'caramel flavored syrup', 1352: 'cooking sherry', 1353: 'dri basil leaves, crush', 1354: 'chopped tomatoes', 1355: 'tartlet shells', 1356: 'ditalini', 1357: 'pickle juice', 1358: 'ginseng tea', 1359: 'jamaican rum', 1360: 'cilantro root', 1361: 'gluten-free tamari', 1362: 'Mezzetta Sliced Greek Kalamata O', 1363: 'grated orange peel', 1364: 'reduced-fat sour cream', 1365: 'pork baby back ribs', 1366: 'val', 1367: 'puff pastry', 1368: 'distilled vinegar', 1369: 'chile puree', 1370: 'idaho potatoes', 1371: 'boneless rib eye steaks', 1372: 'grated coconut', 1373: 'chinese mustard', 1374: 'fat free ice cream', 1375: 'linguica', 1376: 'tamarind juice', 1377: 'pappardelle', 1378: 'red velvet cake mix', 1379: 'tomato sauce low sodium', 1380: '2% low-fat cottage cheese', 1381: 'part-skim mozzarella cheese', 1382: 'sweetened coconut flakes', 1383: 'salad leaves', 1384: 'house seasoning', 1385: 'aspic', 1386: 'dried fettuccine', 1387: 'paste tomato', 1388: 'red wine', 1389: 'whole wheat fusilli', 1390: 'lime wedges', 1391: 'minced lean steak', 1392: 'pitted prunes', 1393: 'maui onion', 1394: 'pignolis', 1395: 'gluten-free breadcrumbs', 1396: 'cayenne pepper', 1397: 'egg roll skins', 1398: 'Japanese soy sauce', 1399: 'basa fillets', 1400: 'sato imo', 1401: 'Chianti', 1402: 'sumac powder', 1403: 'roast', 1404: 'Kraft Big Slice Pepper Jack Chee', 1405: 'parboiled rice', 1406: 'medium potatoes', 1407: 'indian flat bread', 1408: 'e-fu noodl', 1409: 'red mullet', 1410: 'greater galangal', 1411: 'wheat crackers', 1412: 'canned chipotles', 1413: 'fish', 1414: 'taco toppings', 1415: 'venison', 1416: 'maple extract', 1417: 'cashew chop unsalt', 1418: 'beef heart', 1419: 'ground sage', 1420: 'ginger beer', 1421: 'mung beans', 1422: 'frozen cheese ravioli', 1423: 'sooji', 1424: 'sweet rice', 1425: 'fat-free croutons', 1426: 'lamb sausage', 1427: 'pesto', 1428: 'pork cheeks', 1429: 'hot dogs', 1430: 'peach salsa', 1431: '(14.5 oz.) diced tomatoes', 1432: 'reduced sodium chicken stock', 1433: 'whole wheat breadcrumbs', 1434: 'horseradish mustard', 1435: 'cumin seed', 1436: 'flounder fillets', 1437: 'monkfish fillets', 1438: 'turkey sausage', 1439: 'fire roasted diced tomatoes', 1440: 'artichoke hearts', 1441: 'chinese pepper', 1442: 'pickled onion', 1443: 'Barilla Oven-Ready Lasagne', 1444: 'oat groats', 1445: 'steamed rice', 1446: 'Gebhardt Chili Powder', 1447: 'vanilla wafer crumbs', 1448: 'radishes', 1449: 'dried beef', 1450: 'leg quarters', 1451: 'whole grain roll', 1452: 'solid white tuna in oil', 1453: 'green enchilada sauce', 1454: 'bay leaves', 1455: 'cherry vinegar', 1456: 'raspberry sauce', 1457: 'Mexican cheese', 1458: 'sour orange juice', 1459: 'ice cream', 1460: 'dill weed', 1461: 'salt pork', 1462: 'smoked sausage', 1463: 'frozen whip topping, thaw', 1464: 'garlic chives', 1465: 'kefalotyri', 1466: 'baby zucchini', 1467: 'cod fish', 1468: 'orange liqueur', 1469: 'low-fat salad dressing', 1470: 'pork loin', 1471: 'starch', 1472: 'rosé wine', 1473: 'turkey breakfast sausage', 1474: 'Italian cheese', 1475: 'stew', 1476: 'eggs', 1477: 'milk chocolate kisses', 1478: 'flan', 1479: 'large snails', 1480: 'Pure Wesson Vegetable Oil', 1481: 'bitter gourd', 1482: 'chicken wings', 1483: 'gluten free corn tortillas', 1484: 'champagne', 1485: 'dried cascabel chile', 1486: 'blood orange', 1487: 'picholine', 1488: 'greek style plain yogurt', 1489: 'light margarine', 1490: 'foie gras terrine', 1491: 'jujube', 1492: 'calvados', 1493: 'california chile', 1494: 'saki', 1495: 'black pepper', 1496: 'chili garlic paste', 1497: 'malt', 1498: 'blackberries', 1499: 'Mission Yellow Corn Tortillas', 1500: 'smoked pork neck bones', 1501: 'bacon rind', 1502: 'goat s milk cheese', 1503: 'reduced-fat cheese', 1504: 'rice vermicelli', 1505: 'banger', 1506: 'Edam', 1507: 'ragu cheesi classic alfredo sauc', 1508: 'clementine juice', 1509: 'chicken pieces', 1510: 'chuka soba noodles', 1511: 'large egg whites', 1512: 'fish fingers', 1513: 'guanciale', 1514: 'confit duck leg', 1515: 'cajeta', 1516: \"Frank's® RedHot® Original Cayenn\", 1517: 'whole wheat sourdough bread', 1518: 'poppy seed dressing', 1519: 'oyster liquor', 1520: 'rib eye steaks', 1521: 'whitefish', 1522: 'chicken breast halves', 1523: 'campari', 1524: 'italian loaf', 1525: 'rum extract', 1526: 'semi sweet mini chocolate chips', 1527: 'saltpeter', 1528: 'strozzapreti', 1529: 'tamarind extract', 1530: 'water spinach', 1531: 'baby carrots', 1532: 'celery heart', 1533: 'sweet potatoes & yams', 1534: 'low fat mild Italian turkey saus', 1535: 'lily buds', 1536: 'pork butt', 1537: 'Saffron Road Vegetable Broth', 1538: 'fine salt', 1539: 'cheese slices', 1540: 'Nielsen-Massey Vanilla Extract', 1541: 'framboise eau-de-vie', 1542: 'chocolate morsels', 1543: 'linguisa', 1544: 'shrimp chips', 1545: 'sweet chocolate', 1546: 'mahimahi', 1547: 'flax egg', 1548: 'chunky mild salsa', 1549: 'stellette', 1550: 'cooked rice', 1551: 'sazon goya with coriander and an', 1552: 'ground roasted sichuan peppers', 1553: 'gluten-free hoisin sauce', 1554: 'russet potatoes', 1555: 'loin pork roast', 1556: 'bibb lettuce', 1557: 'Fuyu persimmons', 1558: 'coarse semolina', 1559: 'thai chile', 1560: 'pork shoulder butt', 1561: 'proscuitto', 1562: 'crushed pretzels', 1563: 'mexican chorizo', 1564: 'gluten free cooking spray', 1565: 'dried raspberry', 1566: 'crème fraîche', 1567: 'molasses', 1568: 'cuminseed', 1569: 'Ortega Tostada Shells', 1570: 'dried minced onion', 1571: 'dressing', 1572: 'Minute White Rice', 1573: 'brown mustard seeds', 1574: 'chocolate graham crackers', 1575: 'reduced sodium italian style ste', 1576: 'peanut butter', 1577: 'irish bacon', 1578: 'pancit canton', 1579: 'unsweetened iced tea', 1580: 'raw sugar', 1581: 'beef shin', 1582: 'crumb topping', 1583: 'pineapple chunks in natural juic', 1584: 'madeira wine', 1585: 'firm silken tofu', 1586: 'crumbled gorgonzola', 1587: 'egg roll wraps', 1588: 'chopped celery', 1589: \"Campbell's Condensed Tomato Soup\", 1590: 'mushroom soup', 1591: 'cornish hens', 1592: 'edamame', 1593: 'cranberries', 1594: 'Doritos Tortilla Chips', 1595: 'america', 1596: 'duck drumsticks', 1597: 'powdered sugar', 1598: 'whole wheat thin spaghetti', 1599: 'pita loaves', 1600: 'bénédictine', 1601: 'banana bread', 1602: 'cherry coke', 1603: 'coarse-grain salt', 1604: 'wish bone red wine vinaigrett dr', 1605: 'glass noodles', 1606: 'ground pork sausage', 1607: 'vegetable fats', 1608: 'petrale sole', 1609: 'sirloin', 1610: 'asian black bean sauce', 1611: 'kalamata olive halves', 1612: 'pasilla', 1613: 'Spanish smoked paprika', 1614: 'quick-cooking oats', 1615: 'gruyere cheese', 1616: 'broccoli rabe', 1617: 'redfish', 1618: 'barley', 1619: 'ground sichuan pepper', 1620: 'parsley root', 1621: 'green tea bags', 1622: 'Jimmy Dean Pork Sausage', 1623: 'smoked turkey', 1624: 'snip fresh dill', 1625: 'low-fat coconut milk', 1626: 'cognac', 1627: 'frozen corn', 1628: 'rich turkey stock', 1629: 'sundried tomato pesto', 1630: 'coconut milk yogurt', 1631: \"Potatoes O'Brien\", 1632: 'low fat chunky mushroom pasta sa', 1633: 'orecchiette', 1634: 'crusty loaf', 1635: 'chocolate extract', 1636: 'borlotti', 1637: 'wheat flour', 1638: 'red vinegar', 1639: 'low-fat ricotta cheese', 1640: 'yellow bean sauce', 1641: 'haddock fillets', 1642: 'aioli', 1643: 'shredded lettuce', 1644: 'urad dal split', 1645: 'ravva', 1646: 'whole grain spelt flour', 1647: 'korean buckwheat noodles', 1648: 'chinese red vinegar', 1649: 'nonstick spray', 1650: 'yellowfin tuna', 1651: 'braeburn apple', 1652: 'extra firm tofu', 1653: 'peppered bacon', 1654: 'chinese black bean', 1655: 'prego traditional italian sauce', 1656: 'prunes', 1657: 'Ragu® Robusto!® Pasta Sauce', 1658: 'low-fat deli ham', 1659: 'achiote', 1660: 'water chestnuts', 1661: 'boneless skinless chicken breast', 1662: 'chile piquin', 1663: 'pumpkin', 1664: 'dried red chile peppers', 1665: 'whole wheat dough', 1666: 'lemon curd', 1667: 'cooking wine', 1668: 'ground fennel', 1669: 'store bought low sodium vegetabl', 1670: 'masoor dal', 1671: 'calabash', 1672: 'hazelnut liqueur', 1673: 'boneless veal shoulder', 1674: 'dried dates', 1675: 'yellow heirloom tomatoes', 1676: 'fontina cheese', 1677: 'lavash', 1678: 'guanabana', 1679: 'unsalted butter', 1680: 'baby corn', 1681: 'calimyrna figs', 1682: 'shiro miso', 1683: 'spanish chorizo', 1684: 'lipton onion soup mix', 1685: 'Soy Vay® Hoisin Garlic Marinade', 1686: 'flavored rice mix', 1687: 'nuts', 1688: 'ox tongue', 1689: 'Velveeta Queso Blanco', 1690: 'smoked bacon', 1691: 'Bisquick Original All-Purpose Ba', 1692: 'rouille', 1693: 'tzatziki', 1694: 'gluten-free pasta', 1695: 'toasted pine nuts', 1696: 'evapor low-fat milk', 1697: 'jack daniels', 1698: 'sweet potato starch', 1699: 'Gold Medal Flour', 1700: 'brine-cured black olives', 1701: 'ramps', 1702: 'single crust pie', 1703: 'round steaks', 1704: 'peeled diced tomatoes', 1705: 'reduced fat shredded cheese', 1706: 'Mexican vanilla extract', 1707: 'beef steak', 1708: 'dri leav thyme', 1709: 'stem ginger in syrup', 1710: 'ratatouille', 1711: 'pimento stuffed olives', 1712: 'round sourdough bread', 1713: 'green cauliflower', 1714: 'wagon wheels', 1715: 'baby lima beans', 1716: 'gingersnap crumbs', 1717: 'unsweetened applesauce', 1718: 'almond liqueur', 1719: 'teff', 1720: 'fresh pineapple', 1721: 'uncooked rigatoni', 1722: 'mini pepperoni slices', 1723: 'veal stock', 1724: 'crabmeat frozen', 1725: 'spiced rum', 1726: 'hong kong-style noodles', 1727: 'quinoa', 1728: 'shiromiso', 1729: 'carrot juice', 1730: 'branston pickle', 1731: \"soft goat's cheese\", 1732: 'shanks', 1733: 'grilled chicken', 1734: 'pomegranate juice', 1735: 'apple cider vinegar', 1736: 'cured meats', 1737: 'baking mix', 1738: 'bertolli organic tradit sauc', 1739: 'knorr italian side   creami garl', 1740: 'brine cured green olives', 1741: 'pinto beans', 1742: 'bows', 1743: 'cauliflower', 1744: 'Velveeta Cheese Spread', 1745: 'chaat masala', 1746: 'sharp cheddar cheese', 1747: 'rock shrimp', 1748: 'chillies', 1749: 'peach slices', 1750: 'pork sirloin', 1751: 'sloe gin', 1752: 'hoagie buns', 1753: 'italian-style meatballs', 1754: 'old fashioned stone ground grits', 1755: 'chocolate syrup', 1756: 'pork ribs', 1757: 'mild green chiles', 1758: 'giant white beans', 1759: 'horseradish root', 1760: 'macaroni', 1761: 'red bliss potato', 1762: 'beef boneless meat stew', 1763: 'wheat bran', 1764: 'mooli', 1765: 'smoked bratwurst', 1766: 'uncooked vermicelli', 1767: 'canned chicken', 1768: 'Thai chili garlic sauce', 1769: 'chocolate shavings', 1770: 'soft-wheat flour', 1771: 'kabocha squash', 1772: 'mozzarella cheese', 1773: 'soya cheese', 1774: 'meringue powder', 1775: 'light alfredo sauce', 1776: 'mitsuba', 1777: 'peach juice', 1778: 'liverwurst', 1779: 'tamarind concentrate', 1780: 'Thai fish sauce', 1781: 'olive oil flavored cooking spray', 1782: 'grapes', 1783: 'boneless chicken skinless thigh', 1784: 'conger eel', 1785: 'canola oil', 1786: 'cooked vegetables', 1787: 'lambs liver', 1788: 'grapefruit', 1789: 'wine vinegar', 1790: 'fish sauce', 1791: 'shortbread', 1792: 'stevia', 1793: 'leftover meat', 1794: 'Old Bay Blackened Seasoning', 1795: 'hot fudge topping', 1796: 'new york strip steaks', 1797: 'bird pepper', 1798: 'egg pasta', 1799: 'tea bags', 1800: 'Hawaiian salt', 1801: 'turbot', 1802: 'nigella seeds', 1803: 'brown lentils', 1804: 'coconut milk powder', 1805: 'cilantro pesto', 1806: 'pea eggplants', 1807: 'white vinegar', 1808: 'buckwheat', 1809: 'brown basmati rice', 1810: 'fresh tuna steaks', 1811: 'white asparagus', 1812: 'fresh prawn', 1813: 'ground thyme', 1814: 'ground bison', 1815: 'campanelle', 1816: 'grated parmesan cheese', 1817: 'european cucumber', 1818: 'reduced sodium chicken bouillon', 1819: 'parmigiano reggiano cheese', 1820: 'sparkling mineral water', 1821: 'confit', 1822: 'beefsteak tomatoes', 1823: 'spring rolls', 1824: 'cava', 1825: 'thyme sprig', 1826: 'tomato cream sauce', 1827: 'vegetable oil spray', 1828: 'whole wheat rotini', 1829: 'asian chili red sauc', 1830: 'kaiser rolls', 1831: 'crumbled ricotta salata cheese', 1832: 'meat drippings', 1833: 'boneless magret duck breast halv', 1834: 'hoagie rolls', 1835: 'chopped fresh herbs', 1836: 'tamarind water', 1837: 'amaretto liqueur', 1838: 'bacon slices', 1839: 'bacon salt', 1840: 'teriyaki sauce', 1841: 'queso asadero', 1842: 'sesame seeds', 1843: 'pocket bread', 1844: 'sazon', 1845: 'jambalaya', 1846: 'button mushrooms', 1847: 'avocado dressing', 1848: 'grenadine', 1849: 'chicken noodle soup', 1850: 'condensed reduced fat reduced so', 1851: 'flour for dusting', 1852: 'brisket', 1853: 'Kahlua Liqueur', 1854: 'table syrup', 1855: 'Progresso Artichoke Hearts', 1856: 'chicken breasts', 1857: 'cracker crumbs', 1858: 'sliced black olives', 1859: 'whole grain buns', 1860: 'roast beef', 1861: 'sweet chorizo', 1862: 'habanero hot sauce', 1863: 'mincemeat', 1864: 'jelly', 1865: 'melon liqueur', 1866: 'white miso', 1867: 'tuna drained and flaked', 1868: 'chili beans', 1869: 'leeks', 1870: 'date molasses', 1871: 'Melba toast', 1872: 'plain whole-milk yogurt', 1873: 'satsuma juice', 1874: 'fat-free refried beans', 1875: 'curry leaves', 1876: 'chocolate baking bar', 1877: 'dry rub', 1878: 'tater tots', 1879: 'kippers', 1880: 'ackee', 1881: 'Mexican oregano', 1882: 'Kim Crawford Sauvignon Blanc', 1883: 'soup bones', 1884: 'langoustines', 1885: 'sodium free chicken stock', 1886: 'pickled vegetables', 1887: 'sturgeon', 1888: 'lipton pure leaf unsweeten iced', 1889: 'fines herbes', 1890: 'buffalo sauce', 1891: 'baby arugula', 1892: 'distilled malt vinegar', 1893: 'chopped nuts', 1894: 'brioche buns', 1895: 'top loin', 1896: 'caramels', 1897: 'abalone', 1898: 'loaves', 1899: 'whole grain baguette', 1900: 'culantro', 1901: \"Best Food's Mayonnaise with Lime\", 1902: 'brown rice noodles', 1903: 'chili paste', 1904: 'wide egg noodles', 1905: 'boiled ham', 1906: 'crumbles', 1907: 'fudge brownie mix', 1908: 'raspberry sherbet', 1909: 'salsa', 1910: 'nonfat chicken broth', 1911: 'castellane', 1912: 'Mexican seasoning mix', 1913: 'chicken egg', 1914: 'ground nutmeg', 1915: 'hen of the woods', 1916: 'citric acid', 1917: 'lemonade', 1918: 'vegetable bouillon', 1919: 'eel', 1920: 'beansprouts', 1921: 'no salt added chicken broth', 1922: 'corn kernels', 1923: 'Barilla Plus Pasta', 1924: 'chitterlings', 1925: 'nonfat ricotta cheese', 1926: 'low sodium teriyaki sauce', 1927: 'sangria', 1928: 'freeze-dried strawberries', 1929: 'low sodium jarred chicken soup b', 1930: 'pita rounds', 1931: 'white wine vinegar', 1932: 'knorr tomato bouillon with chick', 1933: 'dragon fruit', 1934: 'chapati flour', 1935: 'coriander', 1936: 'smoked sweet Spanish paprika', 1937: 'black forest ham', 1938: 'Manzanilla olives', 1939: 'provolone cheese', 1940: 'hoja santa', 1941: 'cornbread stuffing mix', 1942: 'light corn syrup', 1943: 'Sicilian olives', 1944: 'turbinado', 1945: 'glucose', 1946: 'prepared pizza crust', 1947: 'hot red pepper flakes', 1948: 'instant tea powder', 1949: 'sliced beets', 1950: 'pan drippings', 1951: 'white peppercorns', 1952: 'toor dal', 1953: 'corn starch', 1954: 'beef stew seasoning mix', 1955: 'medium shrimp', 1956: 'hot chili sauce', 1957: 'chai tea concentrate', 1958: 'dark leafy greens', 1959: 'chopped walnuts', 1960: 'barley flour', 1961: 'almond syrup', 1962: 'mashed cauliflower', 1963: 'v 8 juice', 1964: 'boneless beef roast', 1965: 'caponata', 1966: 'baby eggplants', 1967: 'gelato', 1968: 'pecorino cheese', 1969: 'mustard greens', 1970: 'skinless salmon fillets', 1971: 'fresh bean', 1972: 'frozen seafood', 1973: 'asakusa nori', 1974: 'chocolate frosting', 1975: 'pudding powder', 1976: 'medium curry powder', 1977: 'filling', 1978: 'Italian seasoned diced tomatoes', 1979: 'knorr reduc sodium chicken flavo', 1980: 'manzanilla', 1981: 'smoked streaky bacon', 1982: 'long pasta', 1983: 'chunky style pasta sauce', 1984: 'Mazola Canola Oil', 1985: 'nuoc nam', 1986: 'smoked chorizo', 1987: 'cut up chicken', 1988: 'green soybeans', 1989: 'carne asada', 1990: 'vanilla bean ice cream', 1991: 'medjool date', 1992: 'nonfat half-and-half', 1993: 'pineapple rings', 1994: 'protein powder', 1995: 'chrysanthemum leaves', 1996: 'pink lady apple', 1997: 'lamb strips', 1998: 'pitted black olives', 1999: 'sweetbreads', 2000: 'arrowroot', 2001: 'cherry pie filling', 2002: 'kasu', 2003: 'Toulouse sausage', 2004: 'vanilla lowfat yogurt', 2005: 'honey mustard', 2006: 'tomatillos', 2007: 'active dry yeast', 2008: 'fat free less sodium beef broth', 2009: 'daikon', 2010: 'KRAFT Mexican Style 2% Milk Fine', 2011: 'maraschino', 2012: 'grated Gruyère cheese', 2013: 'small eggs', 2014: 'beet greens', 2015: 'pie crust', 2016: 'bone in', 2017: 'teas', 2018: 'unsweetened shredded dried cocon', 2019: 'dried soba', 2020: 'boneless beef rib eye steaks', 2021: 'rice vinegar', 2022: 'regular tofu', 2023: 'herb dressing', 2024: 'peach preserves', 2025: 'cabbage lettuce', 2026: 'wild salmon', 2027: 'basil', 2028: 'beef tenderloin', 2029: 'choy sum', 2030: 'tarama', 2031: 'plain breadcrumbs', 2032: 'chile sauce', 2033: 'cocoa', 2034: 'glace cherries', 2035: 'Land O Lakes® Butter', 2036: 'gluten', 2037: 'natto', 2038: 'yogurt cheese', 2039: 'non dairy sour cream', 2040: 'mild salsa', 2041: 'tartar sauce', 2042: 'hots', 2043: 'low sodium tomato paste', 2044: 'dried udon', 2045: 'soy', 2046: 'minced chicken', 2047: 'center cut pork chops', 2048: 'bean thread vermicelli', 2049: 'toffee sauce', 2050: 'Bengali 5 Spice', 2051: 'OREO® Cookies', 2052: 'ibarra', 2053: 'thin pizza crust', 2054: 'whole peel tomatoes, undrain and', 2055: 'Daiya', 2056: 'superfine sugar', 2057: 'salted cashews', 2058: 'meat cuts', 2059: 'ganache', 2060: 'granny smith apples', 2061: 'mirin', 2062: 'lavender flowers', 2063: 'lettuce', 2064: 'arugula', 2065: 'semi pearled farro', 2066: 'frozen spring roll wrappers', 2067: 'carnation', 2068: 'organic tomato', 2069: 'ornamental kale', 2070: 'frozen okra', 2071: 'french fries', 2072: 'chinese chili paste', 2073: 'McCormick Taco Seasoning', 2074: 'chunky pasta sauce', 2075: 'yardlong beans', 2076: 'butter oil', 2077: 'mung bean sprouts', 2078: 'white wine', 2079: 'orange bell pepper', 2080: 'mulato chiles', 2081: 'asparagus tips', 2082: 'rice paper', 2083: 'salted roast peanuts', 2084: 'soursop', 2085: 'natural peanut butter', 2086: 'tostitos', 2087: 'flowering garlic chives', 2088: 'medium whole wheat tortillas', 2089: 'grenadine syrup', 2090: 'kale', 2091: 'limeade concentrate', 2092: 'buckwheat soba noodles', 2093: 'pork sausage links', 2094: 'rice milk', 2095: 'nori', 2096: 'piquillo peppers', 2097: 'granular sucrolose sweetener', 2098: 'chees fresh mozzarella', 2099: 'golden caster sugar', 2100: 'coffee beans', 2101: 'jaggery', 2102: 'pekin duck breast halves', 2103: 'beef stew meat', 2104: 'new mexico chile pods', 2105: 'reduced sodium vegetable broth', 2106: 'fresh ginger root', 2107: 'sichuanese chili paste', 2108: 'satsumas', 2109: 'beer batter', 2110: 'full fat sour cream', 2111: 'curry leaf', 2112: 'nam pla', 2113: 'honey mustard dressing', 2114: 'San Marzano Crushed Tomatoes', 2115: 'whole garam masala', 2116: 'asian chile paste', 2117: 'veal cutlets', 2118: 'reduced fat firm tofu', 2119: 'meat', 2120: 'seafood stock', 2121: 'Nestle Table Cream', 2122: 'garlic cloves', 2123: 'apple jelly', 2124: 'wheat', 2125: 'soya flour', 2126: 'Hidden Valley® Greek Yogurt Orig', 2127: 'banh pho rice noodles', 2128: 'sliced chorizo', 2129: 'tomato jam', 2130: 'sliced green olives', 2131: 'dried peach', 2132: 'seafood seasoning', 2133: 'almond filling', 2134: 'jambon de bayonne', 2135: 'treviso', 2136: 'moose', 2137: 'beef stock cubes', 2138: 'graham cracker crusts', 2139: 'Hatch Green Chiles', 2140: 'fully cooked ham', 2141: 'extra large shrimp', 2142: 'cotija', 2143: 'tuna in oil', 2144: 'fresh lemon', 2145: 'day old bread', 2146: 'dried bonito', 2147: 'dried kidney beans', 2148: 'runny honey', 2149: 'grassfed beef', 2150: 'baked pita chips', 2151: 'ramen soup mix', 2152: 'less sodium chicken broth', 2153: 'white truffle oil', 2154: 'low-fat sesame-ginger dressing', 2155: 'wheat cereal', 2156: 'homemade beef stock', 2157: 'picante sauce', 2158: 'perilla', 2159: 'puy lentils', 2160: 'bertolli vodka sauc made with fr', 2161: 'fresh dill', 2162: 'coconut rum', 2163: 'white tuna', 2164: 'dhal', 2165: 'whole wheat seasoned breadcrumbs', 2166: 'gnocchetti sardi', 2167: 'shiitake', 2168: 'tamarind pulp', 2169: 'reduced fat provolone cheese', 2170: 'matcha green tea powder', 2171: 'bone broth', 2172: 'cooking oil', 2173: 'instant espresso powder', 2174: 'penne', 2175: 'chioggia', 2176: 'Old El Paso Enchilada Sauce', 2177: 'whole wheat pasta shells', 2178: 'beef stock', 2179: 'squash seeds', 2180: 'lady fingers', 2181: 'grappa', 2182: 'fresh cheese', 2183: 'lobster meat', 2184: 'Hidden Valley® Original Ranch Sa', 2185: 'cabbage head', 2186: 'fresh chicken stock', 2187: 'Old El Paso Flour Tortillas', 2188: 'apricot nectar', 2189: 'semolina', 2190: 'heeng', 2191: 'Knudsen Sour Cream', 2192: 'jello', 2193: 'vermicelli noodles', 2194: 'celery stick', 2195: 'fat-free cheddar cheese', 2196: 'pork stew meat', 2197: 'kumquats', 2198: 'deep-fried tofu', 2199: 'lime zest', 2200: 'lean bacon', 2201: 'chestnut mushrooms', 2202: 'chinese buns', 2203: 'red pepper', 2204: 'shredded mild cheddar cheese', 2205: 'Alfredo sauce', 2206: 'chive blossoms', 2207: 'enchilada sauce', 2208: 'chopped onion', 2209: 'soft buns', 2210: 'sirloin tip', 2211: 'licor 43', 2212: 'crushed peppercorn', 2213: 'cool whip', 2214: 'caviar', 2215: 'chile paste with garlic', 2216: 'no salt added canned tomatoes', 2217: 'fresh orange', 2218: 'pork rib chops', 2219: 'morsels', 2220: 'cheese spread', 2221: 'steak', 2222: 'smoked kielbasa', 2223: 'Chinese rice vinegar', 2224: 'Ragu Sauce', 2225: 'violets', 2226: 'garlic sauce', 2227: 'vanilla yogurt', 2228: 'white quinoa', 2229: 'Himalayan salt', 2230: 'nam prik', 2231: 'shaoxing', 2232: 'sugarcane juice', 2233: 'lambrusco', 2234: 'tongue', 2235: 'silver', 2236: 'pareve margarine', 2237: 'eye of the round', 2238: 'gomashio', 2239: 'Knorr Chicken Stock Cubes', 2240: 'thin rice stick noodles', 2241: 'light tuna', 2242: 'garlic naan', 2243: 'habanero pepper', 2244: 'stewing steak', 2245: 'chicken nugget', 2246: 'xanthan gum', 2247: 'apricot preserves', 2248: 'McCormick® Pure Vanilla Extract', 2249: 'coconut aminos', 2250: 'cod roe', 2251: 'sliced tomatoes', 2252: 'eye steaks', 2253: 'moong dal', 2254: 'wheat bread', 2255: 'bean threads', 2256: 'cubed bread', 2257: 'Sangiovese', 2258: 'chuck roast', 2259: 'chicken parts', 2260: 'zucchini', 2261: 'lamb bouillon cube', 2262: 'Hogue Cabernet Sauvignon', 2263: 'kokum', 2264: 'white frostings', 2265: 'chat masala', 2266: 'icing mix', 2267: 'giblet', 2268: 'Camellia Red Kidney Beans', 2269: 'smoked sea salt', 2270: 'green bellpepper', 2271: 'angus', 2272: 'small capers, rins and drain', 2273: 'graham flour', 2274: 'lean minced beef', 2275: 'yellow peas', 2276: 'au jus gravy mix', 2277: 'baby tatsoi', 2278: 'barramundi fillets', 2279: 'milk & cream', 2280: 'lo bok', 2281: 'egg substitute', 2282: 'spring mix', 2283: 'barley miso', 2284: 'Daisy Sour Cream', 2285: 'fudge cake mix', 2286: 'caesar salad dressing', 2287: 'whipped cream cheese', 2288: 'grit quick', 2289: 'taco bell home originals', 2290: 'dasheen', 2291: 'creamy gravy', 2292: 'caraway', 2293: 'bulgur wheat', 2294: 'ground meat', 2295: 'chopped cooked ham', 2296: 'red lentils', 2297: 'whole grain pasta', 2298: 'white bread crumbs', 2299: 'sausage casings', 2300: 'leaf parsley', 2301: 'irish oats', 2302: 'meat bones', 2303: 'jerk seasoning mix', 2304: 'lemon-lime soda', 2305: 'sweet relish', 2306: 'Elmlea Single Light', 2307: 'apricot jam', 2308: 'chicken demi-glace', 2309: 'hero rolls', 2310: 'empanada wrappers', 2311: '2% low fat cheddar chees', 2312: 'cornflour', 2313: 'chicken tenderloin', 2314: 'sunflower seeds', 2315: 'dry jack', 2316: 'chees mozzarella stick', 2317: 'pasilla pepper', 2318: 'buttermilk biscuits', 2319: 'roast turkey', 2320: 'Cinnamon Toast Crunch Cereal', 2321: 'blacan', 2322: 'true cinnamon', 2323: 'kalamata', 2324: 'coconut vinegar', 2325: 'whole wheat penne pasta', 2326: 'yuzu juice', 2327: 'gravy', 2328: 'swiss cheese', 2329: 'tomato chutney', 2330: 'pig', 2331: 'brown chicken stock', 2332: 'heavy whipping cream', 2333: 'couscous', 2334: 'homemade chicken stock', 2335: 'reduced fat reduced sodium cream', 2336: 'country style italian bread', 2337: 'fried rice', 2338: 'eggplant', 2339: 'sardines', 2340: 'baked tortilla chips', 2341: 'Saigon cinnamon', 2342: 'oregano', 2343: 'red grape', 2344: 'tubetti', 2345: 'silver tequila', 2346: 'non-fat sour cream', 2347: 'liquid smoke', 2348: 'whole nutmegs', 2349: 'sherry wine vinegar', 2350: 'ladys house seasoning', 2351: 'garlic powder', 2352: 'banana flower', 2353: 'linguine, cook and drain', 2354: 'queso crema', 2355: 'praline syrup', 2356: 'garlic paste', 2357: 'bonito', 2358: 'oven-ready lasagna noodles', 2359: 'parmigiana-reggiano', 2360: 'beef drippings', 2361: 'radish sprouts', 2362: 'tupelo honey', 2363: 'creme de cacao', 2364: 'almond oil', 2365: 'rotini', 2366: 'dried allspice berries', 2367: 'black sea bass', 2368: 'corn niblets', 2369: 'taco sauce', 2370: 'frozen sweet corn', 2371: 'agave nectar', 2372: 'unbaked pie crusts', 2373: 'seasoned flour', 2374: 'sliced carrots', 2375: 'plum tomatoes', 2376: 'buckwheat flour', 2377: 'vanilla pudding', 2378: 'adzuki beans', 2379: 'beef fillet', 2380: 'arctic char', 2381: 'fresh asparagus', 2382: 'soft tofu', 2383: 'dough', 2384: 'Vietnamese coriander', 2385: '(    oz.) tomato sauce', 2386: 'lamb cubes', 2387: 'black cumin seeds', 2388: 'granary bread', 2389: 'less sodium soy sauce', 2390: 'chipotle chile powder', 2391: 'shrimp paste', 2392: 'bass', 2393: 'water chestnut powder', 2394: 'red kidnei beans, rins and drain', 2395: 'sesame butter', 2396: 'amber rum', 2397: 'curly kale', 2398: 'low sodium store bought chicken', 2399: 'black rice vinegar', 2400: 'genoise', 2401: 'bigoli', 2402: 'togarashi', 2403: 'pasta shell small', 2404: 'tamarind', 2405: 'chocolate flavored liqueur', 2406: 'pork shoulder', 2407: 'soybean oil', 2408: 'instant coffee', 2409: 'seasoning salt', 2410: 'Bertolli® Classico Olive Oil', 2411: 'tawny port', 2412: 'watermelon', 2413: 'salted roasted pecans', 2414: 'fresh ginger', 2415: 'skinless chicken breasts', 2416: 'soy milk', 2417: 'Hurst Family Harvest Chipotle Li', 2418: 'ammonium bicarbonate', 2419: 'aka miso', 2420: 'low-fat mayonnaise', 2421: 'freshly grated parmesan', 2422: 'whole wheat linguine', 2423: 'cashew nuts', 2424: 'anjou pears', 2425: 'pink beans', 2426: 'pistachio nuts', 2427: 'strip loin', 2428: 'chocolate bars', 2429: 'Poire Williams', 2430: 'breast', 2431: 'green onion bottoms', 2432: 'gran marnier', 2433: 'toasted sesame seeds', 2434: 'nonfat dried milk', 2435: 'sliced pears', 2436: 'fruit', 2437: 'ice cubes', 2438: 'Gold Medal All Purpose Flour', 2439: 'French lentils', 2440: 'conchiglie', 2441: 'Budweiser', 2442: 'dried oregano', 2443: 'Nakano Seasoned Rice Vinegar', 2444: 'plantains', 2445: 'toasted almonds', 2446: 'lemon twists', 2447: 'sobrasada', 2448: 'gray salt', 2449: 'lima beans', 2450: 'aloe juice', 2451: 'light kidney beans', 2452: 'sticky rice', 2453: 'whipping heavy cream', 2454: 'low sodium stock', 2455: 'red food coloring', 2456: 'Manischewitz Potato Starch', 2457: 'hamachi', 2458: 'ground white pepper', 2459: 'Mo Qua', 2460: 'reduced fat sharp cheddar cheese', 2461: 'custard powder', 2462: 'meyer lemon', 2463: 'wild mushrooms', 2464: 'boneless skinless chicken breast', 2465: 'pinenuts', 2466: 'smoked haddock', 2467: 'glucose syrup', 2468: '(15 oz.) refried beans', 2469: 'spice cake mix', 2470: 'cream of potato soup', 2471: 'confectioners sugar', 2472: 'onion flakes', 2473: 'bawang goreng', 2474: 'small pasta', 2475: 'string beans', 2476: 'beaujolais', 2477: 'condensed chicken broth', 2478: 'cinnamon sugar', 2479: 'lime rind', 2480: 'tuong', 2481: 'pork leg', 2482: 'grape leaves', 2483: 'green olives', 2484: 'ladyfingers', 2485: 'chile pepper', 2486: 'beef kidney', 2487: 'top round roast', 2488: 'bread mix', 2489: 'ragu cheesi doubl cheddar sauc', 2490: 'whipped dessert topping', 2491: 'varnish clams', 2492: 'citrus peel', 2493: 'crema', 2494: 'ears', 2495: 'yellow curry paste', 2496: 'dried pinto beans', 2497: 'kasuri methi', 2498: 'chile powder', 2499: 'shiraz', 2500: 'dangmyun', 2501: 'mild curry powder', 2502: 'filet mignon', 2503: 'smoked ham hocks', 2504: 'frying oil', 2505: 'mixed vegetables', 2506: 'chile con queso', 2507: 'italian sauce', 2508: 'white corn tortillas', 2509: 'blackcurrant syrup', 2510: 'coarse sugar', 2511: 'whole wheat fettuccine', 2512: 'unsalted peanut butter', 2513: 'whole wheat thin italian pizza c', 2514: 'blueberries', 2515: 'whole wheat pizza dough', 2516: 'swede', 2517: 'brownies', 2518: 'ground black pepper', 2519: 'reduced sodium condensed cream o', 2520: 'celery root', 2521: 'veal loin chops', 2522: 'dried lavender flowers', 2523: 'seafood', 2524: 'instant pudding mix', 2525: 'American cheese', 2526: 'brioche', 2527: 'peach vodka', 2528: 'cake yeast', 2529: 'crab sticks', 2530: 'black mission figs', 2531: 'burro banana', 2532: 'yoplait', 2533: 'baking potatoes', 2534: 'sirloin tip roast', 2535: 'whole wheat pita pockets', 2536: 'panela', 2537: 'abura age', 2538: 'nut meal', 2539: 'artisan bread', 2540: 'kewra essence', 2541: 'Alaskan king crab legs', 2542: 'squid tube', 2543: 'pitted cherries', 2544: 'chilcostle chile', 2545: 'chilean sea bass fillets', 2546: 'apple slice', 2547: 'reduced-sodium tamari sauce', 2548: 'duck', 2549: 'tenderloin', 2550: 'crescent rolls', 2551: 'hamachi fillets', 2552: 'pork tenderloin medallions', 2553: 'tagliatelle', 2554: 'pasta shapes', 2555: 'marzipan', 2556: 'pastry tart shell', 2557: 'irish cream liqueur', 2558: 'dried cloud ears', 2559: 'raspberry jam', 2560: 'low fat part skim ricotta chees', 2561: 'kale leaves', 2562: 'borage', 2563: 'condensed cream of chicken soup', 2564: 'dry white wine', 2565: 'double concentrate tomato paste', 2566: 'Stonefire Italian Thin Pizza Cru', 2567: 'dried apple', 2568: 'lamb racks', 2569: 'butternut', 2570: 'sweet potato vermicelli', 2571: 'orange extract', 2572: 'chicken breast tenders', 2573: 'hollandaise sauce', 2574: 'pizza crust mix', 2575: 'mahimahi fillet', 2576: 'ciabatta', 2577: 'dried coconut flakes', 2578: 'pork stock', 2579: 'crusty bread', 2580: 'hot cocoa mix', 2581: 'pizza sauce', 2582: 'polenta', 2583: 'dried shallots', 2584: 'muscovy', 2585: 'red jalapeno peppers', 2586: 'candied citron peel', 2587: 'garlic juice', 2588: 'cooked white rice', 2589: 'frozen onion rings', 2590: 'marjoram leaves', 2591: 'capocollo', 2592: 'calamata olives', 2593: 'mortadella', 2594: 'quick oats', 2595: 'achiote paste', 2596: 'bicarbonate of soda', 2597: 'frozen strawberries', 2598: 'sweet bean sauce', 2599: 'chopped green chilies', 2600: 'unsalted dry roast peanuts', 2601: 'goose fat', 2602: 'tamari soy sauce', 2603: 'thai noodles', 2604: 'purple grapes', 2605: 'Greek dressing', 2606: 'corn syrup', 2607: 'roasted cashews', 2608: 'condensed fiesta nacho cheese so', 2609: 'sugar cane', 2610: 'boneless moulard duck breast hal', 2611: 'chocolate truffle', 2612: 'ragu old world style sweet tomat', 2613: 'strawberries', 2614: 'black sesame seeds', 2615: 'low sodium beef broth', 2616: 'white chocolate', 2617: 'green tomatoes', 2618: 'fully cooked luncheon meat', 2619: 'merluza', 2620: 'cake', 2621: 'veal loin', 2622: 'nuoc mam', 2623: 'wild asparagus', 2624: 'skinless cod fillets', 2625: 'vegetable gumbo', 2626: 'white rice flour', 2627: 'crushed peppermint candy', 2628: 'arak', 2629: 'sodium free chicken broth', 2630: 'cummin', 2631: 'serrano', 2632: 'Crisco Pure Canola Oil', 2633: 'spelt', 2634: 'chili', 2635: 'tortelloni', 2636: 'Domino Light Brown Sugar', 2637: 'stir fry vegetable blend', 2638: 'orange marmalade', 2639: 'blanched almonds', 2640: 'yellow corn', 2641: 'pitted date', 2642: 'mo hanh', 2643: 'candied pineapple', 2644: 'Nido Milk Powder', 2645: 'spot prawns', 2646: 'Progresso Diced Tomatoes', 2647: 'panko', 2648: 'lemon lime beverage', 2649: 'catsup', 2650: 'peach pie filling', 2651: 'brown sugar', 2652: 'verjuice', 2653: 'cube steaks', 2654: 'frozen meatballs', 2655: 'non dairy yogurt', 2656: 'reduced fat cheddar cheese', 2657: 'california avocado', 2658: 'pitted Medjool dates', 2659: 'piri-piri sauce', 2660: 'fat free greek yogurt', 2661: 'tofu puffs', 2662: 'medium-grain rice', 2663: 'boysenberries', 2664: 'ground turkey sausage', 2665: 'port wine', 2666: 'pozole', 2667: 'free-range eggs', 2668: 'raita', 2669: 'Zatarains Creole Seasoning', 2670: 'organic sugar', 2671: 'Country Crock® Spread', 2672: 'sugar pearls', 2673: 'roasted chili paste', 2674: 'shredded American cheese', 2675: 'tea cake', 2676: 'ready-made pie crusts', 2677: 'chocolate ice cream', 2678: 'bone-in chicken breasts', 2679: 'dried lentils', 2680: 'absinthe', 2681: 'reduced fat coconut milk', 2682: 'pina colada mix', 2683: 'skinless mahi mahi fillets', 2684: 'doritos', 2685: 'cipollini', 2686: 'boneless country pork ribs', 2687: 'file powder', 2688: 'Bertolli® Alfredo Sauce', 2689: 'cactus', 2690: 'high-gluten flour', 2691: 'yuzu', 2692: 'toasted buns', 2693: 'pomegranate seeds', 2694: 'candied chestnuts', 2695: 'spring water', 2696: 'turtle', 2697: 'jerusalem artichokes', 2698: 'cider vinegar', 2699: 'cinnamon hot candy', 2700: 'dried oysters', 2701: 'boneless chuck roast', 2702: 'mushroom soy sauce', 2703: 'KRAFT Shredded Cheddar Cheese', 2704: 'creole mustard', 2705: 'unsalted pumpkinseed kernels', 2706: 'tex mex seasoning', 2707: 'onion rings', 2708: 'flageolet', 2709: 'mandarin orange juice', 2710: 'milk', 2711: 'dry gin', 2712: 'evaporated skim milk', 2713: 'Kikkoman Soy Sauce', 2714: 'taco seasoning mix', 2715: 'arrow root', 2716: 'roast red peppers, drain', 2717: 'amba', 2718: 'beef consomme', 2719: 'blue curaçao', 2720: 'spicy mayonnaise', 2721: 'ground chile', 2722: 'oat flour', 2723: 'porcini', 2724: 'black treacle', 2725: 'mutton', 2726: 'chocolate sauce', 2727: 'eye of round roast', 2728: 'lamb neck fillets', 2729: 'rotel tomatoes', 2730: 'new mexico red chile powder', 2731: 'chinese pancakes', 2732: 'Cavenders Greek Seasoning', 2733: 'pot stickers', 2734: 'salmon sashimi', 2735: 'English mustard', 2736: 'breakfast sausage links', 2737: 'green tea', 2738: 'boneless sirloin', 2739: 'lean steak', 2740: 'honeycomb tripe', 2741: 'ground coffee', 2742: 'beef rump steaks', 2743: 'mango juice', 2744: 'ponzu', 2745: \"Hellmann's Dijonnaise Creamy Dij\", 2746: 'herb seasoning', 2747: 'Fisher Pecans', 2748: 'heirloom tomatoes', 2749: 'sauterne', 2750: 'manioc flour', 2751: 'pickling cucumbers', 2752: 'ground chicken', 2753: 'pudding', 2754: 'membrillo', 2755: 'club soda', 2756: 'rosemary sprigs', 2757: 'garlic chili sauce', 2758: 'seedless cucumber', 2759: 'lime juice', 2760: 'baguette', 2761: 'rotini pasta, cook and drain', 2762: 'artichokes', 2763: 'manicotti pasta', 2764: 'tomato ketchup', 2765: 'sole', 2766: 'celery seed', 2767: 'porter', 2768: 'cornstarch noodles', 2769: 'asadero', 2770: 'frozen broad beans', 2771: 'five spice', 2772: 'whole wheat french bread', 2773: 'butterscotch filling', 2774: 'soda', 2775: 'Wolf Brand Chili', 2776: 'vegan Worcestershire sauce', 2777: 'double-acting baking powder', 2778: 'Biryani Masala', 2779: 'pita wraps', 2780: 'jambalaya mix', 2781: 'borlotti beans', 2782: 'boneless chicken thigh fillets', 2783: 'extra-lean ground beef', 2784: 'Guinness Lager', 2785: 'peaches in syrup', 2786: 'palm oil', 2787: 'low-fat vegetarian chili with be', 2788: 'sweet sherry', 2789: 'shredded reduced fat reduced sod', 2790: 'red chili peppers', 2791: 'smoked ham', 2792: 'pork cutlets', 2793: 'minced meat', 2794: 'jam', 2795: 'frankfurters', 2796: 'soy marinade', 2797: 'black cherries', 2798: 'pork chops', 2799: 'glutinous rice', 2800: 'whole wheat pizza crust', 2801: 'lemon cake mix', 2802: 'chapatti flour', 2803: 'dark meat', 2804: 'low fat coleslaw dressing', 2805: 'hoisin sauce', 2806: 'shaved chocolate', 2807: 'salmon', 2808: 'pressed tofu', 2809: 'large eggs', 2810: 'southwest seasoning', 2811: 'butter pecan cake mix', 2812: 'fast-rising active dry yeast', 2813: 'pepper', 2814: 'marshmallow vodka', 2815: 'nonfat plain greek yogurt', 2816: 'pork spare ribs', 2817: 'shrimp and crab boil seasoning', 2818: 'semisweet baking chocolate', 2819: 'flatbread', 2820: 'nian gao', 2821: 'cheese curds', 2822: 'non fat chicken stock', 2823: 'liquid egg substitute', 2824: 'white cannellini beans', 2825: 'dried hibiscus blossoms', 2826: 'chocolate chip cookie mix', 2827: 'açai', 2828: 'oyster mushrooms', 2829: 'veal chops', 2830: 'boneless steak', 2831: 'red chili powder', 2832: 'Knorr Chicken Stock Pots', 2833: 'rice noodles', 2834: 'royal olives', 2835: 'green cardamom pods', 2836: 'pomegranate molasses', 2837: 'tempeh', 2838: 'beaten eggs', 2839: 'braggs liquid aminos', 2840: 'self-rising cornmeal', 2841: 'crumbled blue cheese', 2842: 'shortcakes', 2843: 'maitake mushrooms', 2844: 'japanese eggplants', 2845: 'gyoza', 2846: 'blue corn tortilla chips', 2847: 'enokitake', 2848: 'green lentil', 2849: 'table salt', 2850: 'ale', 2851: 'mango', 2852: 'ground turkey', 2853: 'rustic rub', 2854: 'kashmiri chile', 2855: 'coconut syrup', 2856: 'tequila', 2857: 'chile negro', 2858: 'low-fat vanilla ice cream', 2859: 'focaccia', 2860: 'Boston lettuce', 2861: 'canned peas and carrots', 2862: 'naan', 2863: 'bagel chips', 2864: 'Crisco Pure Vegetable Oil', 2865: 'annatto', 2866: 'marinara sauce', 2867: 'dry lasagna', 2868: 'vegan parmesan cheese', 2869: 'asafetida powder', 2870: 'rocket leaves', 2871: 'roe', 2872: 'instant butterscotch pudding mix', 2873: 'quick-cooking tapioca', 2874: 'lime leaves', 2875: 'piment despelette', 2876: 'single malt Scotch', 2877: 'crushed pineapple', 2878: 'reduced sodium beef broth', 2879: 'korean chile', 2880: 'coconut flour', 2881: 'croutons', 2882: 'mussels, well scrubbed', 2883: 'pickled garlic', 2884: 'pork tongue', 2885: 'smoked paprika', 2886: 'Swerve Sweetener', 2887: 'robiola', 2888: 'frozen peach slices', 2889: 'ramen', 2890: 'pickapeppa sauce', 2891: 'fromage blanc', 2892: 'sweetened red beans', 2893: 'guajillo', 2894: 'blanco tequila', 2895: 'queso blanco', 2896: 'fingerling potatoes', 2897: 'jamaican pumpkin', 2898: 'sashimi grade tuna', 2899: 'lite coconut milk', 2900: 'ground ginger', 2901: 'pearl couscous', 2902: 'blue cheese', 2903: 'cream sauce', 2904: 'sauerkraut juice', 2905: 'strip steaks', 2906: 'powdered garlic', 2907: 'beef hot dogs', 2908: 'empanada', 2909: 'asti spumante', 2910: 'dhaniya powder', 2911: 'whole wheat penne rigate', 2912: 'baby back ribs', 2913: 'prebaked pizza crusts', 2914: 'chinese winter melon', 2915: 'mirlitons', 2916: 'frozen green beans', 2917: 'frozen vegetables', 2918: 'Pillsbury™ classic pizza crust', 2919: 'red swiss chard', 2920: 'round loaf', 2921: 'hazelnut butter', 2922: 'barbecue rub', 2923: 'pepperidge farm puff pastry shee', 2924: 'graham cracker crumbs', 2925: 'Massaman curry paste', 2926: 'low-fat firm silken tofu', 2927: 'italian salad dressing', 2928: 'sea salt flakes', 2929: 'chili pepper flakes', 2930: 'knorr parslei minicub', 2931: 'gluten free cornmeal', 2932: 'habas', 2933: 'cucumber salad', 2934: \"Colman's Mustard Powder\", 2935: 'beef smoked sausage', 2936: 'Neapolitan ice cream', 2937: 'bread dough', 2938: 'spaghetti', 2939: 'fat-free mayonnaise', 2940: 'lotus roots', 2941: 'apple puree', 2942: 'croissants', 2943: 'tonic water', 2944: 'red sockeye', 2945: 'water', 2946: 'unsweetened coconut milk', 2947: 'cream of mushroom soup', 2948: 'Knorr Fish Stock Cubes', 2949: 'english walnuts', 2950: 'brown sauce', 2951: 'milk chocolate pieces', 2952: 'osetra caviar', 2953: 'ascorbic acid', 2954: 'pot roast', 2955: 'icing', 2956: 'shredded mozzarella cheese', 2957: 'dried chile peppers', 2958: 'Italian basil', 2959: 'bok choy', 2960: 'goat', 2961: 'strawberry gelatin', 2962: 'loose leaf black tea', 2963: 'sweet pepper', 2964: 'fresh tomatoes', 2965: 'dried guajillo chiles', 2966: 'bread slices', 2967: 'brewed espresso', 2968: 'broccoli romanesco', 2969: 'country style bread', 2970: 'smoked whitefish', 2971: 'kelp', 2972: 'chocolate sticks', 2973: 'spearmint', 2974: 'Braeburn Apple', 2975: '95% lean ground beef', 2976: 'refrigerated chocolate chip cook', 2977: 'frozen bread dough', 2978: 'dry hard cider', 2979: 'mixed greens', 2980: 'vanilla soy milk', 2981: 'flanken short ribs', 2982: 'white almond bark', 2983: 'bengal gram', 2984: 'chèvre', 2985: 'burgundy', 2986: 'toasted nori', 2987: 'chestnut purée', 2988: 'beef for stew', 2989: 'unbaked pie shells', 2990: 'mozzarella balls', 2991: 'yellow mustard seeds', 2992: 'sirloin tip steak', 2993: 'skinless chicken thighs', 2994: 'meringue nests', 2995: 'cornichons', 2996: 'almond milk', 2997: 'fresh mint', 2998: 'fresh thyme leaves', 2999: 'low sodium black beans', 3000: 'brown shrimp', 3001: 'challa', 3002: 'barolo', 3003: 'green peas', 3004: 'dried tart cherries', 3005: 'herbs', 3006: 'cassia cinnamon', 3007: 'asparagus bean', 3008: 'iodized salt', 3009: 'salt free seasoning', 3010: 'drumstick', 3011: 'frozen mashed potatoes', 3012: 'gluten free lasagna noodle', 3013: 'rennet', 3014: 'pastry cream', 3015: 'toffee bits', 3016: 'low-fat sour cream', 3017: 'cornish game hens', 3018: 'grated carrot', 3019: 'frozen cherries', 3020: 'raw honey', 3021: 'banana extract', 3022: \"i can't believ it' not butter! m\", 3023: 'Nutella', 3024: 'herbsaint', 3025: 'roasted white sesame seeds', 3026: 'jerk seasoning', 3027: 'rum raisin ice cream', 3028: 'whole wheat berries', 3029: 'white rice', 3030: 'peeled prawns', 3031: 'turkey breast', 3032: 'steak sauce', 3033: 'gelatin sheet', 3034: 'kirby cucumbers', 3035: 'reduced sugar orange marmalade', 3036: 'pecan halves', 3037: 'low sodium worcestershire sauce', 3038: 'farina', 3039: 'black bean stir fry sauce', 3040: 'piecrust', 3041: 'gold potatoes', 3042: 'pepper flakes', 3043: 'jumbo shells', 3044: 'oats', 3045: 'gluten free barbecue sauce', 3046: 'pearl barley', 3047: 'globe eggplant', 3048: 'chicken base', 3049: 'fish steaks', 3050: 'halibut steak', 3051: 'walnuts', 3052: 'center cut pork roast', 3053: 'asafetida', 3054: 'pasta sauce', 3055: 'pancetta', 3056: 'pisco brandy', 3057: 'bresaola', 3058: 'no-salt-added black beans', 3059: 'cassava meal', 3060: 'large garlic cloves', 3061: 'cocktail pumpernickel bread', 3062: 'medium dry sherry', 3063: 'beef demi-glace', 3064: 'cooked chicken', 3065: 'quail', 3066: 'coarse ground mustard', 3067: 'pandan essence', 3068: 'paella rice', 3069: 'Jell-O Gelatin Dessert', 3070: 'yellow crookneck squash', 3071: 'sliced almonds', 3072: 'organic butter', 3073: 'part-skim ricotta cheese', 3074: 'Texas toast bread', 3075: 'frozen garden peas', 3076: 'frozen orange juice concentrate', 3077: 'potato flour', 3078: 'cachaca', 3079: 'boneless chop pork', 3080: 'kimchi juice', 3081: 'Vegeta Seasoning', 3082: 'dried pear', 3083: 'cake mix', 3084: 'paprika paste', 3085: 'guacamole', 3086: 'madeleine', 3087: 'matzo meal', 3088: 'salt free herb seasoning', 3089: 'squash', 3090: 'shredded lowfat monterey jack ch', 3091: 'barilla piccolini mini', 3092: 'sweet italian sausage', 3093: 'nondairy whipped topping', 3094: 'frozen banana leaf', 3095: 'curing salt', 3096: 'rock sugar', 3097: 'chili powder', 3098: 'sub rolls', 3099: 'spaghetti, cook and drain', 3100: 'dried fish flakes', 3101: 'black salt', 3102: 'foie gras', 3103: 'pancake', 3104: 'fresh green bean', 3105: 'deep dish pie crust', 3106: 'Rice Krispies Cereal', 3107: 'green cardamom', 3108: 'low-fat pasta sauce', 3109: 'rosewater', 3110: 'yaki-nori', 3111: 'red mustard', 3112: 'shelled pistachios', 3113: 'dried chile', 3114: 'sauce tomato', 3115: 'fried eggs', 3116: 'char siu sauce', 3117: 'sourdough starter', 3118: 'boneless, skinless chicken breas', 3119: 'red beets', 3120: 'pistachios', 3121: 'short rib', 3122: 'bagels', 3123: 'sorghum syrup', 3124: 'rice bran', 3125: 'white onion', 3126: 'sesame salt', 3127: 'cream filled chocolate sandwich', 3128: 'almond extract', 3129: 'bottom round roast', 3130: 'lamb loin', 3131: 'liqueur', 3132: 'ciabatta buns', 3133: 'cooked deli ham', 3134: 'pizza doughs', 3135: 'rosemary', 3136: 'ginger liqueur', 3137: 'oliv pit ripe', 3138: 'textured soy protein', 3139: 'jamaican jerk season', 3140: 'sour cherries', 3141: 'cashew milk', 3142: 'nacho cheese tortilla chips', 3143: 'straw mushrooms', 3144: 'diced tomatoes', 3145: 'low fat low sodium chicken broth', 3146: 'purple onion', 3147: 'urad dal', 3148: 'instant yeast', 3149: 'smoked eel', 3150: 'Domino Confectioners Sugar', 3151: 'white cake mix', 3152: 'whole milk', 3153: 'croissant dough', 3154: 'gnocchi', 3155: 'condensed reduced fat reduced so', 3156: 'garlic and herb seasoning', 3157: 'pear tomatoes', 3158: 'mini chocolate chips', 3159: 'yellow squash', 3160: 'dr pepper', 3161: 'nonfat cream cheese', 3162: 'dried chipotle pepper', 3163: 'manchego cheese', 3164: 'pumpkin pie spice', 3165: 'Greek black olives', 3166: 'lentilles du puy', 3167: 'rotisserie chicken', 3168: 'mini m&ms', 3169: 'dried beans', 3170: 'treviso radicchio', 3171: 'forest mushroom', 3172: 'KRAFT Shredded Mozzarella Cheese', 3173: 'anchovies', 3174: 'banana squash', 3175: 'diced lamb', 3176: 'soaking liquid', 3177: 'gluten-free rolled oats', 3178: 'diced mushrooms', 3179: 'whole wheat sandwich bread', 3180: 'forest fruit', 3181: 'assam', 3182: 'hash brown', 3183: 'pinhead oatmeal', 3184: 'angel hair', 3185: 'Godiva Chocolate Liqueur', 3186: 'panang curry paste', 3187: 'lobster tails', 3188: 'chicken schmaltz', 3189: 'emerils original essence', 3190: 'nonfat powdered milk', 3191: 'jasmine', 3192: 'salted fish', 3193: 'raspberry liqueur', 3194: 'celery flakes', 3195: 'taco meat', 3196: 'king salmon', 3197: 'fresh green peas', 3198: 'fontina', 3199: 'fine egg noodles', 3200: 'coconut', 3201: 'boned lamb shoulder', 3202: 'lime', 3203: 'dillweed', 3204: 'veal', 3205: 'pasta', 3206: 'whole peppercorn', 3207: 'chocolate cake mix', 3208: 'farro', 3209: 'ginger root', 3210: 'remoulade', 3211: 'chiffonade', 3212: 'grapeseed oil', 3213: 'knorr reduc sodium chicken flavo', 3214: 'stone ground mustard', 3215: 'duck stock', 3216: 'yellow hominy', 3217: 'pork blade steaks', 3218: 'matzos', 3219: 'dried currants', 3220: 'ragu old world style tradit past', 3221: 'white sesame seeds', 3222: 'Homemade Yogurt', 3223: 'ice', 3224: 'gala apples', 3225: 'dip mix', 3226: 'lamb stock', 3227: 'nonhydrogenated margarine', 3228: 'ground cinnamon', 3229: 'grape tomatoes', 3230: 'mixed nuts', 3231: 'chocolate candy bars', 3232: 'dry coconut', 3233: 'serrano chile', 3234: 'baked beans', 3235: 'uncook medium shrimp, peel and d', 3236: 'sambal olek', 3237: 'coke zero', 3238: 'cheddar cheese', 3239: 'refrigerated four cheese ravioli', 3240: 'vinegar', 3241: 'regular or convert rice', 3242: 'bourbon whiskey', 3243: 'beef bouillon granules', 3244: 'oriental radish', 3245: 'nori furikake', 3246: 'pâté', 3247: 'canned corn', 3248: 'watermelon radishes', 3249: 'low fat monterey jack cheese', 3250: 'softened butter', 3251: 'chourico', 3252: 'butter salt', 3253: 'Ritz Crackers', 3254: 'cremini', 3255: 'snapper fillets', 3256: 'fettuccine, cook and drain', 3257: 'melted fat', 3258: 'vegetarian protein crumbles', 3259: 'whole peeled tomatoes', 3260: 'kamut flour', 3261: 'cereal', 3262: 'kingfish', 3263: 'roasted almonds', 3264: 'pearl rice', 3265: 'low-fat plain greek yogurt', 3266: 'white hominy', 3267: 'shoga', 3268: 'crushed red pepper', 3269: 'chicken heart', 3270: 'sharp white cheddar cheese', 3271: 'fishcake', 3272: 'pangasius', 3273: 'sushi grade tuna', 3274: 'baby spinach leaves', 3275: 'red wine vinaigrette', 3276: 'raw tiger prawn', 3277: 'chocolate wafer cookies', 3278: 'smoked turkey drumstick', 3279: 'tilapia fillets', 3280: 'apricot halves', 3281: 'albacore', 3282: 'organic buttermilk', 3283: 'dipping chocolate', 3284: 'kaffir lime', 3285: 'cacao powder', 3286: 'Irish Red ale', 3287: 'tofu sour cream', 3288: \"Uncle Ben's Ready Rice Whole Gra\", 3289: 'jamaican jerk', 3290: 'soft taco size flour tortillas', 3291: 'fish paste', 3292: 'powdered buttermilk', 3293: 'bermuda onion', 3294: 'minced onion', 3295: 'semisweet vegan chocolate chips', 3296: 'red chile powder', 3297: 'clams, well scrub', 3298: 'hickory-flavored liquid smoke', 3299: 'lamb breast', 3300: 'cranberry beans', 3301: 'pancake batter', 3302: 'raw cane sugar', 3303: 'frangipane', 3304: 'palm vinegar', 3305: 'fish bones', 3306: 'frozen pie crust', 3307: 'steel-cut oatmeal', 3308: 'bread machine yeast', 3309: 'fat free less sodium chicken bro', 3310: 'cumberland sausage', 3311: 'mussels', 3312: 'salad dressing mix', 3313: 'veal tongue', 3314: 'grapefruit juice', 3315: 'falafel', 3316: 'whole grain dijon mustard', 3317: 'long buns', 3318: 'chopped potatoes', 3319: 'converted rice', 3320: 'honeydew', 3321: 'Italian seasoned panko bread cru', 3322: 'wafer', 3323: 'chinese black vinegar', 3324: 'dried rice noodles', 3325: 'chopped cooked meat', 3326: 'pike', 3327: 'amaretti', 3328: 'sazon seasoning', 3329: 'sweet white miso paste', 3330: 'chinese roast pork', 3331: 'homemade chicken broth', 3332: 'sake', 3333: 'firmly packed brown sugar', 3334: 'cod', 3335: '(10 oz.) frozen chopped spinach,', 3336: 'dried tomatoes', 3337: 'bechamel', 3338: 'imitation vanilla flavoring', 3339: 'skinless and boneless chicken br', 3340: 'egg beaters', 3341: 'peeled shrimp', 3342: 'asafoetida powder', 3343: 'frozen pastry puff sheets', 3344: 'wish bone ranch dress', 3345: 'whole wheat rigatoni', 3346: 'chile verde', 3347: 'anchovy paste', 3348: 'young coconut meat', 3349: 'Knorr® Pasta Sides™ - Chicken fl', 3350: 'chicken livers', 3351: 'fat free less sodium vegetable b', 3352: 'dried shrimp', 3353: 'arrowroot powder', 3354: 'chipotles in adobo', 3355: 'boneless beef short ribs', 3356: 'bacon fat', 3357: 'herbed goat cheese', 3358: 'sunflower seed butter', 3359: 'polish sausage', 3360: 'shortbread cookies', 3361: 'frozen sweet peas', 3362: 'skinless flounder fillets', 3363: 'dried kelp', 3364: 'groundnut', 3365: 'dry sherry', 3366: 'lamb leg steaks', 3367: 'grass-fed butter', 3368: 'fat free reduced sodium chicken', 3369: 'jamon serrano', 3370: 'peach purée', 3371: 'honey', 3372: 'pickled beets', 3373: 'chuck', 3374: 'canned jalapeno peppers', 3375: 'marjoram', 3376: 'italian style seasoning', 3377: 'besan (flour)', 3378: 'opo squash', 3379: 'chocolate milk mix', 3380: 'hops', 3381: 'taleggio', 3382: 'baking chocolate', 3383: 'glace de viande', 3384: 'mojo marinade', 3385: 'andouille sausage', 3386: 'cream style cottage cheese', 3387: 'black pudding', 3388: 'chickpea flour', 3389: 'dry mustard', 3390: 'grated jack cheese', 3391: 'unsulphured molasses', 3392: 'blackberry brandy', 3393: 'milk chocolate', 3394: 'jelli strawberri', 3395: 'pane di casa', 3396: 'mushrooms', 3397: 'lemonade concentrate', 3398: 'firm tofu', 3399: 'butter extract', 3400: 'teardrop tomatoes', 3401: 'fettuccine pasta', 3402: 'Oscar Mayer Deli Fresh Smoked Ha', 3403: 'frozen chopped spinach', 3404: 'Meyer lemon juice', 3405: 'raspberry puree', 3406: 'pork heart', 3407: 'olive tapenade', 3408: 'passover wine', 3409: 'grated horseradish', 3410: 'szechwan peppercorns', 3411: 'Bob Evans Italian Sausage', 3412: 'sweet soy', 3413: 'red vermouth', 3414: 'sweetener', 3415: 'poppy seeds', 3416: 'sundried tomato paste', 3417: 'arame', 3418: 'sourdough loaf', 3419: 'Quinoa Flour', 3420: 'reduced sodium fat free chicken', 3421: 'vinaigrette', 3422: 'crostini', 3423: 'cappuccino', 3424: 'wonton skins', 3425: 'white bread slices', 3426: 'meat loaf mixture', 3427: 'vidalia onion', 3428: 'toasted pumpkinseeds', 3429: 'saffron', 3430: 'hearts of romaine', 3431: 'whole grain mustard', 3432: 'boneless pork shoulder roast', 3433: 'sweet corn', 3434: 'sugar substitute', 3435: 'duck breast halves', 3436: 'sack', 3437: 'Johnsonville Mild Italian Sausag', 3438: 'hot chocolate mix', 3439: 'tiger prawn', 3440: 'rice syrup', 3441: 'frozen peppers and onions', 3442: 'pita bread', 3443: 'frozen peas and carrots', 3444: 'Chinese sesame paste', 3445: 'cortland apples', 3446: 'Neufchâtel', 3447: 'shallots', 3448: 'boneless pork shoulder', 3449: 'garlic flakes', 3450: 'Niçoise olives', 3451: 'small red beans', 3452: 'vine leaves', 3453: 'frozen mixed vegetables', 3454: 'celery powder', 3455: 'cuban peppers', 3456: 'smoked turkey sausage', 3457: 'roasted salted cashews', 3458: 'grained', 3459: 'candy bar', 3460: 'Crystal Farms® Shredded Cheddar', 3461: 'blanco chees queso', 3462: 'honey graham crackers', 3463: 'sea bass', 3464: 'lentils', 3465: 'sour mix', 3466: 'parsley leaves', 3467: 'beets', 3468: 'meat sauce', 3469: 'chicken breast fillets', 3470: 'ciabatta roll', 3471: 'non stick spray', 3472: 'cherry peppers', 3473: 'mandarin pancakes', 3474: 'Goya Hot Sauce', 3475: 'curly leaf spinach', 3476: 'shank half', 3477: 'powdered vanilla pudding mix', 3478: 'stevia powder', 3479: 'diced tomatoes with garlic and o', 3480: 'sandwich bread', 3481: 'grape vine leaves', 3482: 'jasmine rice', 3483: 'light soy sauce', 3484: 'roasting hen', 3485: 'gluten-free tamari sauce', 3486: 'meat extract', 3487: 'pancake mix', 3488: 'beef rib roast', 3489: 'nonfat frozen yogurt', 3490: 'sambal chile paste', 3491: 'fresno pepper', 3492: 'macadamia nuts', 3493: 'ahi tuna steaks', 3494: 'bone-in chicken', 3495: 'ground turkey breast', 3496: 'graham crackers', 3497: 'Nilla Wafers', 3498: 'oatmeal', 3499: 'porcini powder', 3500: 'maple sugar', 3501: 'lamb loin chops', 3502: 'pumpkin seed mole', 3503: 'camembert', 3504: 'maldon sea salt', 3505: 'potsticker wrappers', 3506: 'tostada shells', 3507: 'ground cayenne pepper', 3508: 'pitas', 3509: \"JOHNSONVILLE® Hot 'N Spicy Brats\", 3510: 'corkscrew pasta', 3511: 'low-fat canned coconut milk', 3512: 'fry mix', 3513: 'toasted peanuts', 3514: 'ground turmeric', 3515: 'nutmeg', 3516: 'coffee granules', 3517: 'Knorr® Vegetable recipe mix', 3518: 'fine grind white cornmeal', 3519: 'valencia rice', 3520: 'tapioca pearls', 3521: 'cream yogurt', 3522: 'ocean perch', 3523: 'sushi nori', 3524: 'greek seasoning', 3525: 'light mayonnaise', 3526: 'dried lavender blossoms', 3527: 'chopped parsley', 3528: 'crust', 3529: 'syrup', 3530: 'creamy peanut butter', 3531: 'extra wide egg noodles', 3532: 'quince paste', 3533: 'raspberry lambic', 3534: 'crab meat', 3535: 'guajillo chile powder', 3536: 'chopped almonds', 3537: 'meat marinade', 3538: 'olive oil spray', 3539: 'cajun remoulade', 3540: 'unsweetened cocoa powder', 3541: 'dark molasses', 3542: 'mature cheddar', 3543: 'Flora Cuisine', 3544: 'baton', 3545: 'dark soy', 3546: 'flavored syrup', 3547: 'shark steak', 3548: 'soy glaze', 3549: 'grouper', 3550: 'kirsch', 3551: 'and carrot green pea', 3552: 'savoy cabbage', 3553: 'rump roast', 3554: 'green chilies', 3555: 'yellow food coloring', 3556: 'red wine vinegar', 3557: 'tart filling', 3558: 'free range chicken breasts', 3559: 'chana dal', 3560: 'evaporated low-fat 2% milk', 3561: 'light coconut milk', 3562: 'chopped garlic', 3563: 'stick butter', 3564: 'fermented black beans', 3565: 'gluten-free chicken stock', 3566: 'whole kernel corn, drain', 3567: 'fajita size flour tortillas', 3568: 'frozen raspberries', 3569: 'espresso', 3570: 'cooking apples', 3571: 'cardoons', 3572: 'Klondike Rose red skin potato', 3573: 'light agave nectar', 3574: 'reduced fat mozzarella', 3575: 'whole wheat tortillas', 3576: 'canned coconut milk', 3577: 'gochugaru', 3578: 'fermented bean curd', 3579: 'dry roasted peanuts', 3580: 'whole wheat bread flour', 3581: 'thai black glutinous rice', 3582: 'iced tea', 3583: 'shrimp heads', 3584: 'calamansi', 3585: 'rainbow trout', 3586: 'sliced fresh fruit', 3587: 'pizza shells', 3588: 'duck bones', 3589: 'shoulder meat', 3590: 'chia seeds', 3591: 'ground nuts', 3592: 'chicken chorizo sausages', 3593: 'hominy grits', 3594: 'seville oranges', 3595: 'ginger juice', 3596: 'poblano peppers', 3597: 'white sugar', 3598: 'buffalo mozarella', 3599: 'soy yogurt', 3600: 'low-fat caesar dressing', 3601: 'speck', 3602: 'baobab fruit powder', 3603: 'chocolate spread', 3604: 'fresh chevre', 3605: 'low fat graham cracker crumbs', 3606: 'black', 3607: 'white cornmeal', 3608: 'aquavit', 3609: 'pepperidge farm puff pastry', 3610: 'cantal', 3611: '2% lowfat greek yogurt', 3612: 'ragu', 3613: 'Chinese rose wine', 3614: 'ground allspice', 3615: 'fresh salmon', 3616: 'double cream', 3617: 'shredded zucchini', 3618: 'Barilla Linguine', 3619: 'pickle wedges', 3620: 'feet', 3621: 'marshmallow creme', 3622: 'fresh lemon juice', 3623: 'poundcake', 3624: 'lotus leaves', 3625: 'diet dr. pepper', 3626: 'anise basil', 3627: 'head cauliflower', 3628: 'hearts of palm', 3629: 'vegetarian chicken', 3630: 'evaporated milk', 3631: 'brewed tea', 3632: 'white corn', 3633: 'boy choy', 3634: 'dark chocolate cocoa powder', 3635: 'claws', 3636: 'salted peanuts', 3637: 'yams', 3638: 'lemon soda', 3639: 'white grape juice', 3640: 'corn kernel whole', 3641: 'aonori', 3642: 'tamale filling', 3643: 'peanut butter chips', 3644: 'white fleshed fish', 3645: 'hothouse cucumber', 3646: 'plain yogurt', 3647: 'leaf lettuce', 3648: 'guava', 3649: 'haloumi', 3650: 'solid pack pumpkin', 3651: 'mackerel fillets', 3652: 'Tabasco Pepper Sauce', 3653: 'kosher salt', 3654: 'tart crust', 3655: 'low-fat flour tortillas', 3656: 'snow crab', 3657: 'curly-leaf parsley', 3658: 'cannellini beans', 3659: 'hot italian turkey sausage links', 3660: 'reduced sodium teriyaki sauce', 3661: 'smoked fully cooked ham', 3662: 'red vinegar white white, wine,', 3663: 'risotto', 3664: 'Vadouvan curry', 3665: 'toasted nuts', 3666: 'shaved parmesan cheese', 3667: 'citrus slices', 3668: 'frozen chopped broccoli', 3669: 'Crystal Farms Reduced Fat Shredd', 3670: 'red miso', 3671: 'Kraft Shredded Pepper Jack Chees', 3672: 'brown rice spaghetti', 3673: 'cheese sticks', 3674: 'lasagne', 3675: 'flaked oats', 3676: 'peppermint', 3677: 'creole style seasoning', 3678: 'caribbean jerk seasoning', 3679: 'vegetable juice cocktail', 3680: 'chicken wingettes', 3681: 'dandelion', 3682: 'vodka', 3683: 'papalo', 3684: 'Johnsonville Andouille Fully Coo', 3685: 'mild curry paste', 3686: 'chunky tomato sauce', 3687: 'sweet pickle relish', 3688: 'shrimp powder', 3689: 'reduced fat whipped topping', 3690: 'pink peppercorns', 3691: 'pappardelle pasta', 3692: 'raspberry vinegar', 3693: 'Earth Balance Buttery Spread', 3694: 'waffle', 3695: 'diced pimentos', 3696: 'lowfat pepper jack cheese', 3697: 'crushed graham crackers', 3698: 'progresso reduced sodium chicken', 3699: 'top sirloin', 3700: 'frozen lemonade concentrate, tha', 3701: 'leg of lamb', 3702: 'mild olive oil', 3703: 'shrimp shells', 3704: 'london broil', 3705: 'whole wheat spaghettini', 3706: 'Dungeness crabs', 3707: 'fino sherry', 3708: 'lobster stock', 3709: 'reduced fat italian dressing', 3710: 'phyllo', 3711: 'greater yam', 3712: 'sandwich buns', 3713: 'pippin apples', 3714: 'bouquet', 3715: 'diced chicken', 3716: 'wakame', 3717: 'mustard seeds', 3718: 'zesty italian dressing', 3719: 'radish slices', 3720: 'kasha', 3721: 'oyster-flavor sauc', 3722: 'sweet italian pork sausage', 3723: 'low sodium tomato juice', 3724: 'Crystal Hot Sauce', 3725: 'celery', 3726: 'large curd cottage cheese', 3727: 'clover honey', 3728: 'pain au levain', 3729: 'thai jasmine rice', 3730: 'small potatoes', 3731: 'steamed white rice', 3732: 'beef bouillon powder', 3733: 'green beans', 3734: 'garlic bulb', 3735: 'roma tomatoes', 3736: 'french rolls', 3737: 'havarti cheese', 3738: 'golden brown sugar', 3739: 'key lime juice', 3740: 'spring roll skins', 3741: 'fideos', 3742: 'halibut fillets', 3743: 'pummelo', 3744: 'hijiki', 3745: 'edible flowers', 3746: 'cubed meat', 3747: 'medium salsa', 3748: 'anise liqueur', 3749: 'fresh marjoram', 3750: 'marrons glacés', 3751: 'prepared guacamole', 3752: 'yellow summer squash', 3753: 'chestnuts', 3754: 'White Lily Flour', 3755: 'salt free southwest chipotle sea', 3756: 'turkey thigh', 3757: 'tonkatsu sauce', 3758: 'knorr rice side   cheddar brocco', 3759: 'corn muffin', 3760: 'kidney', 3761: 'italian pork sausage', 3762: 'semisweet chocolate chunks', 3763: 'San Marzano tomatoes', 3764: 'cream cheese spread', 3765: 'hard cheese', 3766: 'lean minced lamb', 3767: 'Kraft Sun Dried Tomato Vinaigret', 3768: 'ancho powder', 3769: 'sliced mango', 3770: 'toasted walnuts', 3771: 'soya bean', 3772: 'macaroni and cheese dinner', 3773: 'Herdez Salsa Verde', 3774: 'cauliflowerets', 3775: 'seville orange juice', 3776: 'roasted chestnuts', 3777: 'napa cabbage', 3778: 'tangerine zest', 3779: 'american cheese food', 3780: 'unsweetened almond milk', 3781: 'ngo gai', 3782: 'shark', 3783: 'Old El Paso™ taco seasoning mix', 3784: 'crumb crust', 3785: 'unsalted pecans', 3786: 'light pancake syrup', 3787: 'fresno chiles', 3788: 'Tyson Crispy Chicken Strips', 3789: 'fresh chives', 3790: 'endive', 3791: 'cranberry juice', 3792: 'redfish fillet', 3793: 'mexicorn', 3794: 'twists', 3795: 'TACO BELL® HOME ORIGINALS® Taco', 3796: 'honey dijon mustard', 3797: 'fresh sea bass', 3798: 'umeboshi', 3799: 'worcestershire sauce low sodium', 3800: 'veggie crumbles', 3801: 'tubettini', 3802: 'all potato purpos', 3803: 'lumpia wrappers', 3804: 'hot water', 3805: 'Knorr® Beef Bouillon', 3806: 'chocolatecovered espresso beans', 3807: 'salad greens', 3808: 'crescent dinner rolls', 3809: 'roasted pistachios', 3810: 'hake fillets', 3811: 'mild sausage', 3812: 'flowering chinese chives', 3813: 'italian eggplant', 3814: 'biscuit mix', 3815: 'chopped leaves', 3816: 'small shells', 3817: 'fingerling', 3818: 'diced tomatoes in juice', 3819: 'Ibarra Chocolate', 3820: 'frozen hash browns', 3821: 'mochiko', 3822: 'apple cider', 3823: 'turkey breast steaks', 3824: 'spaghetti squash', 3825: 'white cheddar cheese', 3826: 'cilantro leaves', 3827: 'strong white bread flour', 3828: 'fat-free parmesan cheese', 3829: 'almond paste', 3830: 'fresh fava bean', 3831: 'ragu old world style pasta sauc', 3832: 'lamb shoulder', 3833: 'coarse salt', 3834: 'bottled clam juice', 3835: 'boneless chops', 3836: 'goya sazon', 3837: 'levain bread', 3838: 'hoagi or roll', 3839: 'low sodium gluten free soy sauce', 3840: 'polenta corn meal', 3841: 'bulb', 3842: 'beef carpaccio', 3843: 'sheep’s milk cheese', 3844: 'ajwain', 3845: 'chocolate liqueur', 3846: 'Baileys Irish Cream Liqueur', 3847: 'oat milk', 3848: 'green chile sauce', 3849: 'whole okra', 3850: 'cardamon', 3851: 'spicy pork sausage', 3852: 'brandy extract', 3853: 'pastry', 3854: 'low fat mozzarella', 3855: 'cod cheeks', 3856: 'cooked vermicelli', 3857: 'mayonaise', 3858: 'dessert wine', 3859: 'low-fat coffee ice cream', 3860: 'chicken bouillon granules', 3861: \"Quorn Chik''n Tenders\", 3862: 'pork bones', 3863: 'low-fat shredded cheddar cheese', 3864: 'whole cloves', 3865: 'splenda no calorie sweetener', 3866: 'thick curds', 3867: 'spam', 3868: 'morel', 3869: 'rape', 3870: 'sweet basil', 3871: 'cantaloupe', 3872: 'rendered bacon fat', 3873: 'snaps', 3874: 'stewing beef', 3875: 'soup', 3876: 'chocolate ice cream mix', 3877: 'cooked pumpkin', 3878: 'steamer', 3879: 'caramel ice cream', 3880: 'Gourmet Garden Parsley', 3881: 'chicken consomme', 3882: 'ranch dip mix', 3883: 'fajita seasoning mix', 3884: 'crumpet', 3885: 'feta cheese crumbles', 3886: 'cold water', 3887: 'frozen artichoke hearts', 3888: 'nacho chips', 3889: 'black truffle oil', 3890: 'sea bream', 3891: 'self rising flour', 3892: 'toast', 3893: 'diced apples', 3894: 'chicharron', 3895: 'canning salt', 3896: 'chunky tomatoes', 3897: 'fresh chervil', 3898: 'blanched hazelnuts', 3899: 'honeydew melon', 3900: 'pitted green olives', 3901: 'basil dried leaves', 3902: 'curds', 3903: 'poultry', 3904: 'scotch bonnet chile', 3905: 'umeboshi paste', 3906: 'turmeric root', 3907: 'dry bread crumbs', 3908: 'fresh parmesan cheese', 3909: 'food gel', 3910: 'mie', 3911: 'cuttlefish balls', 3912: 'rutabaga', 3913: 'red', 3914: 'pappadams', 3915: 'vanilla flavoring', 3916: 'nonfat yogurt', 3917: 'green mango', 3918: 'warm buns', 3919: 'corn tortilla chips', 3920: 'chunky salsa', 3921: 'Bertolli® Arrabbiata Sauce', 3922: 'canned snails', 3923: 'whole grain English muffins', 3924: 'muscat', 3925: 'poultry seasoning', 3926: 'sheepshead', 3927: 'hand', 3928: 'dark turkey meat', 3929: 'Ro-Tel Diced Tomatoes & Green Ch', 3930: 'sugar cane juice', 3931: 'dark chocolate chip', 3932: 'vegetable stock', 3933: 'prepared lasagne', 3934: 'beef', 3935: 'boneless chicken breast', 3936: 'Quorn crumbles', 3937: 'fruit cocktail', 3938: 'hot pork sausage', 3939: 'sesame', 3940: 'light cream cheese', 3941: 'preserved lemon', 3942: 'whole baby okra', 3943: 'veggies', 3944: 'greek-style vinaigrette', 3945: 'shoepeg corn', 3946: 'food paste color', 3947: 'orchid', 3948: 'pepperoni slices', 3949: 'cola-flavored carbonated beverag', 3950: 'florets', 3951: 'canned beans', 3952: 'reduced sodium chicken flavor st', 3953: 'low salt chicken broth', 3954: 'mashed potatoes', 3955: 'sorbet', 3956: 'butter pecan ice cream', 3957: 'balm', 3958: 'ceylon cinnamon', 3959: 'wheatberries', 3960: 'pickling salt', 3961: 'andouille sausage links', 3962: 'franks', 3963: 'crumbled cornbread', 3964: 'reduced fat cream cheese', 3965: 'bread crumbs', 3966: 'lamb cutlet', 3967: 'Old El Paso Taco Seasoning Mix', 3968: 'Texas Pete Hot Sauce', 3969: 'long-grain rice', 3970: 'v8', 3971: \"devil's food cake mix\", 3972: 'bread yeast', 3973: 'country white bread', 3974: 'lapsang', 3975: 'smoked almonds', 3976: 'Ragu Traditional Sauce', 3977: 'roasted peanuts', 3978: 'soy sauce', 3979: 'full fat coconut milk', 3980: 'poppadoms', 3981: 'pesto sauce', 3982: 'wieners', 3983: 'lamb for stew', 3984: 'vin santo', 3985: 'chinese wheat noodles', 3986: 'unsalted almonds', 3987: 'canned tuna', 3988: 'low-fat spaghetti sauce', 3989: 'frozen corn kernels', 3990: 'nappa cabbage', 3991: 'knorr chicken flavor bouillon', 3992: 'callaloo', 3993: 'deli rolls', 3994: 'country bread', 3995: 'chinese jujubes', 3996: 'Italian bread', 3997: 'pasta water', 3998: 'beef cheek', 3999: 'imitation crab meat', 4000: 'vital wheat gluten', 4001: 'smoked mozzarella', 4002: 'smithfield ham', 4003: 'chocolate curls', 4004: 'shredded basil', 4005: 'furikake', 4006: 'strained yogurt', 4007: 'candied jalapeno', 4008: 'coconut butter', 4009: 'potatoes', 4010: 'unsweetened chocolate', 4011: 'dende oil', 4012: 'low fat tortilla chip', 4013: 'peanut oil', 4014: 'nonfat vanilla yogurt', 4015: 'butter flavor vegetable shorteni', 4016: 'wonton noodles', 4017: 'amberjack fillet', 4018: 'wine', 4019: 'Royal Baking Powder', 4020: 'boneless skinless chicken tender', 4021: 'Tuaca Liqueur', 4022: 'unbleached flour', 4023: 'fatback', 4024: 'cardamom', 4025: 'Bragg Liquid Aminos', 4026: 'wide rice noodles', 4027: 'coriander seeds', 4028: 'black bass', 4029: 'whipped topping', 4030: 'iceberg lettuce', 4031: 'vegan yogurt', 4032: 'Breyers® Natural Vanilla Ice Cre', 4033: 'wheat starch', 4034: 'fenugreek leaves', 4035: 'horseradish sauce', 4036: 'salad', 4037: 'chinese plum sauce', 4038: 'oil', 4039: 'frozen carrots', 4040: 'accompaniment', 4041: 'garland chrysanthemum', 4042: 'white peaches', 4043: 'bell pepper', 4044: 'french style sandwich rolls', 4045: 'gherkins', 4046: 'beef base', 4047: 'lasagna noodles, cooked and drai', 4048: 'pure vanilla extract', 4049: 'albacore tuna in water', 4050: 'lillet', 4051: 'merguez sausage', 4052: 'sweet tea', 4053: 'tricolor quinoa', 4054: 'brill', 4055: 'fatfre cream of chicken soup', 4056: '40% less sodium taco seasoning', 4057: 'whole milk greek yogurt', 4058: 'pinot grigio', 4059: 'celery ribs', 4060: 'oyster sauce', 4061: 'buckwheat noodles', 4062: 'shredded Monterey Jack cheese', 4063: 'tomato purée', 4064: '1% low-fat buttermilk', 4065: 'coffee liqueur', 4066: 'kielbasa', 4067: 'capon', 4068: 'lamb shanks', 4069: 'chicken cutlets', 4070: 'sweet rice flour', 4071: 'english breakfast tea', 4072: 'italian salad dressing mix', 4073: 'gluten free vanilla extract', 4074: 'sweet white miso', 4075: 'queso panela', 4076: 'clotted cream', 4077: 'bottled low sodium salsa', 4078: 'spiny lobsters', 4079: 'wholemeal flour', 4080: 'haricots verts', 4081: 'buttercream frosting', 4082: 'passion fruit juice', 4083: 'Soy Vay® Toasted Sesame Dressing', 4084: 'pork tail', 4085: 'ragu pizza quick sauc', 4086: 'eye of round steak', 4087: 'kamaboko', 4088: 'garlic oil', 4089: 'swiss chard', 4090: 'reduced fat reduced sodium tomat', 4091: 'lasagna noodles', 4092: 'La Victoria Red Chile Sauce', 4093: 'shoulder steak', 4094: 'hemp seeds', 4095: 'butterscotch sauce', 4096: 'store bought low sodium chicken', 4097: 'chicken drumsticks', 4098: 'walnut oil', 4099: 'miso paste', 4100: 'bottle gourd', 4101: 'veget soup mix', 4102: 'cauliflower flowerets', 4103: 'and fat free half half', 4104: 'saffron powder', 4105: 'mashed banana', 4106: 'sole fillet', 4107: 'creamed coconut', 4108: 'torn romain lettuc leav', 4109: 'calamari steak', 4110: 'low sodium beef bouillon granule', 4111: 'alum', 4112: 'reduced fat ranch dressing', 4113: 'acai juice', 4114: 'custard', 4115: 'toasted wheat germ', 4116: 'brown rice penne', 4117: 'roasted pumpkin seeds', 4118: 'hot curry powder', 4119: 'fresh chile', 4120: 'table cream', 4121: 'vanilla ice cream', 4122: 'cucuzza', 4123: 'condensed cream', 4124: '33% less sodium smoked fully coo', 4125: 'crumbled goat cheese', 4126: 'light lager', 4127: 'leek tops', 4128: 'ground hazelnuts', 4129: 'cut up cooked chicken', 4130: 'Elmlea single', 4131: 'greek style seasoning', 4132: 'jumbo macaroni shells', 4133: 'KRAFT Zesty Italian Dressing', 4134: 'color food orang', 4135: 'satsuma orange', 4136: 'sourdough', 4137: 'asian wheat noodles', 4138: 'gluten-free oat', 4139: 'creole seafood seasoning', 4140: 'sparkling rosé wine', 4141: 'dried parsley', 4142: 'Classico Pasta Sauce', 4143: 'chicken soup base', 4144: 'spanish rice', 4145: 'orange flavored brandy', 4146: 'pepper leaves', 4147: 'collard green leaves', 4148: 'double-dark soi sauc', 4149: 'chicken sausage', 4150: 'knockwurst', 4151: 'gravlax', 4152: 'english muffins, split and toast', 4153: 'bolillo', 4154: 'black cod fillets', 4155: 'butterscotch chips', 4156: 'meat fats', 4157: 'smoked gouda', 4158: 'korean chile paste', 4159: 'lean ground turkey', 4160: 'sparkling wine', 4161: 'minced peperoncini', 4162: 'buttermilk', 4163: 'conch', 4164: 'baked ham', 4165: 'any', 4166: 'ginger syrup', 4167: 'prime rib', 4168: 'frozen mango', 4169: 'dark miso', 4170: 'pecorino romano cheese', 4171: 'salmon roe', 4172: 'chilegarlic sauce', 4173: 'ramen noodles seasoning', 4174: 'frozen cod fillets', 4175: 'Mazola Corn Oil', 4176: 'ginger purée', 4177: 'escargot', 4178: 'fat', 4179: 'cabrales', 4180: 'meatloaf', 4181: 'whole grain thin spaghetti', 4182: 'cookie crumbs', 4183: 'crabapples', 4184: 'kippered herring fillets', 4185: 'KRAFT Zesty Lime Vinaigrette Dre', 4186: 'toasted cashews', 4187: 'curry mix', 4188: 'corn mix muffin', 4189: 'legumes', 4190: 'Ragu Golden Veggie Fettuccine Pa', 4191: 'creme anglaise', 4192: 'masur dal', 4193: 'cream powder', 4194: 'yellow bell pepper', 4195: 'tahini', 4196: 'Jiffy Corn Muffin Mix', 4197: 'Mission Corn Tortillas', 4198: 'psyllium husks', 4199: 'dried porcini mushrooms', 4200: 'yellow miso', 4201: 'curry', 4202: 'Hidden Valley® Original Ranch® S', 4203: 'white pepper', 4204: 'boneless chicken thighs', 4205: 'calabrese sausage', 4206: 'knorr homestyl stock   beef', 4207: 'corn', 4208: 'herb vinegar', 4209: 'Mizkan Rice Vinegar', 4210: 'redcurrant jelly', 4211: 'low-fat feta', 4212: 'genoa salami', 4213: 'lamb', 4214: 'sunchokes', 4215: 'extra lean ground beef', 4216: 'sliced green onions', 4217: 'amber', 4218: 'popcorn chicken', 4219: 'golden beets', 4220: 'pepperoni turkei', 4221: 'cherry syrup', 4222: 'Taco Bell Taco Seasoning Mix', 4223: 'fine granulated sugar', 4224: 'fennel seeds', 4225: 'breadfruit', 4226: 'hummus', 4227: 'cross rib roast', 4228: 'whipped butter', 4229: 'soppressata', 4230: 'skinless boneless turkey breast', 4231: 'bow-tie pasta', 4232: 'boneless duck breast', 4233: 'pearl tapioca', 4234: 'condiments', 4235: 'breadcrumb mix', 4236: 'candy canes', 4237: 'swanson chicken broth', 4238: 'low fat shred cheddar chees shar', 4239: 'red delicious apples', 4240: 'fat skimmed chicken broth', 4241: 'whole wheat lasagna noodles', 4242: 'vegetable bouillon cube', 4243: 'linguine', 4244: 'English muffins', 4245: 'quatre épices', 4246: 'japanese radish', 4247: 'medium firm tofu', 4248: 'boneless skinless turkey breasts', 4249: 'serrano peppers', 4250: 'konbu', 4251: 'cones', 4252: 'parma ham', 4253: 'bologna', 4254: 'spring greens', 4255: 'fresh corn', 4256: 'hot pepper rings', 4257: 'achiote powder', 4258: 'Tokyo negi', 4259: 'lemon extract', 4260: 'prosciutto', 4261: 'gorgonzola', 4262: 'french fri frozen', 4263: 'root beer', 4264: 'apple butter', 4265: 'japanese pumpkin', 4266: 'sour cream', 4267: 'anise powder', 4268: 'reduced fat chunky peanut butter', 4269: 'katsuo bushi', 4270: 'basil leaves', 4271: 'black turtle beans', 4272: 'vegetable stock powder', 4273: 'mahi mahi fillets', 4274: 'masago', 4275: 'pumpkin seed oil', 4276: 'brine', 4277: 'sandwiches', 4278: 'galanga', 4279: 'ear of corn', 4280: 'veggie patties', 4281: 'Equal Sweetener', 4282: 'cereal flakes', 4283: 'Wish-Bone® Robusto Italian Dress', 4284: 'fresh coriander', 4285: 'toasted baguette', 4286: 'white cabbage', 4287: 'JOHNSONVILLE Hot & Spicy Sausage', 4288: 'natural low-fat yogurt', 4289: 'cold milk', 4290: 'toasted sesame oil', 4291: 'fresh blueberries', 4292: 'filo', 4293: 'shrimp tails', 4294: 'peaches in light syrup', 4295: 'cream of tartar', 4296: 'dried navy beans', 4297: 'petits pois', 4298: 'brown rice syrup', 4299: 'low sodium vegetable broth', 4300: 'chilli bean sauce', 4301: 'crimini mushrooms', 4302: 'mesquite seasoning', 4303: 'yellow rock sugar', 4304: 'hyssop', 4305: 'dried orange peel', 4306: 'saltines', 4307: 'cannelloni', 4308: 'german mustard', 4309: 'balsamic vinaigrette salad dress', 4310: 'boudin', 4311: 'kelp noodles', 4312: 'skate wing', 4313: 'peeled tomatoes', 4314: 'cayenne', 4315: 'bread, cut into italian loaf', 4316: 'annatto oil', 4317: 'freshly ground pepper', 4318: 'grana', 4319: 'fava beans', 4320: 'black truffles', 4321: 'korma paste', 4322: 'Scotch whisky', 4323: 'codfish', 4324: 'meat seasoning', 4325: 'risotto rice', 4326: 'low-fat cheddar cheese', 4327: 'roasting chickens', 4328: 'black onion seeds', 4329: 'veal kidneys', 4330: 'petite peas', 4331: 'unsalted pistachios', 4332: 'graviera', 4333: 'farfalline', 4334: 'chicken broth low fat', 4335: 'cilantro', 4336: 'reduced sodium beef stock', 4337: 'KRAFT Original Barbecue Sauce', 4338: 'Lea & Perrins Worcestershire Sau', 4339: 'yellow cake mix', 4340: 'crab', 4341: 'CURRY GUY Smoked Garam Masala', 4342: 'vanilla', 4343: 'patis', 4344: 'chocolate', 4345: 'sugarcane sticks', 4346: 'romana', 4347: 'butter flavor shortening', 4348: 'steak fillets', 4349: 'shortening', 4350: 'napa cabbage leaves', 4351: 'veal bones', 4352: 'veal medallions', 4353: 'low-fat soy milk', 4354: 'smoked & dried fish', 4355: 'arborio rice', 4356: 'blackberry jam', 4357: 'yellowtail snapper fillets', 4358: 'eggroll wrappers', 4359: 'garnish', 4360: 'canned salmon', 4361: 'corn tortillas', 4362: 'olives', 4363: 'ground rosemary', 4364: 'pork roast', 4365: 'hot smoked paprika', 4366: 'burgers', 4367: 'tahini paste', 4368: 'black lentil', 4369: 'raspberry fruit spread', 4370: 'Success White Rice', 4371: 'plum jam', 4372: 'Oscar Mayer Cotto Salami', 4373: 'lemon', 4374: 'white flour', 4375: 'gluten-free broth', 4376: 'cold meatloaf', 4377: 'cold cut', 4378: 'chocolate drink', 4379: 'garbanzo beans', 4380: 'basmati rice', 4381: 'canned tomatoes', 4382: 'Asian sweet chili sauce', 4383: 'safflower', 4384: 'matsutake mushrooms', 4385: 'Kitchen Bouquet', 4386: 'baby leaf lettuce', 4387: 'gram flour', 4388: 'butter beans', 4389: 'limeade', 4390: 'seasoning', 4391: 'Italian turkey sausage', 4392: 'coffee ice cream', 4393: 'low sodium low fat pasta sauce', 4394: 'condensed french onion soup', 4395: 'ground sirloin', 4396: 'veal shoulder', 4397: 'cola', 4398: 'miswa', 4399: 'champagne grapes', 4400: 'low-fat baked tortilla chips', 4401: 'white distilled vinegar', 4402: 'frozen tater tots', 4403: 'long grain brown rice', 4404: 'cooked brisket', 4405: 'white tequila', 4406: 'frozen petit pois', 4407: 'Knorr® Pasta Sides™ - Alfredo', 4408: 'maifun', 4409: 'raclette', 4410: 'portuguese rolls', 4411: 'white button mushrooms', 4412: 'less sodium beef broth', 4413: 'red raspberries', 4414: 'Anaheim chile', 4415: 'roast breast of chicken', 4416: 'bone-in chicken breast halves', 4417: 'Best Foods® Real Mayonnaise', 4418: 'cream cheese frosting', 4419: 'bouillon powder', 4420: 'fat free yogurt', 4421: 'mexican style 4 cheese blend', 4422: 'dumpling skins', 4423: 'vegetable demi-glace', 4424: 'tobiko', 4425: 'head on shrimp', 4426: 'olive oil cooking spray', 4427: 'dry fettuccine', 4428: 'angled loofah', 4429: 'tri tip', 4430: 'bhaji', 4431: 'tuna fillets', 4432: 'pansies', 4433: 'sorrel', 4434: 'quick cooking brown rice', 4435: 'sesame paste', 4436: 'chinese baby corn', 4437: 'white italian tuna in olive oil', 4438: 'chocolate leaves', 4439: 'unsweetened vanilla almond milk', 4440: 'havarti', 4441: 'unflavored gelatin', 4442: 'Heinz Worcestershire Sauce', 4443: 'medium tomatoes', 4444: 'fat free cream cheese', 4445: 'sodium reduced beef broth', 4446: 'cooking fat', 4447: 'rice pilaf', 4448: 'reduced fat monterey jack cheese', 4449: 'roasted hazelnuts', 4450: 'raw almond', 4451: 'sambal ulek', 4452: \"tony chachere's seasoning\", 4453: 'marmalade', 4454: 'lard', 4455: 'corn flour', 4456: 'unsalted beef stock', 4457: 'baby okra', 4458: 'baking spray', 4459: 'boneless pork tenderloin', 4460: 'unsmoked bacon', 4461: 'biga', 4462: 'orzo', 4463: 'buttermilk self-rising white cor', 4464: 'nonpareils', 4465: 'msg', 4466: 'pasta spiral', 4467: 'low fat cream of celery soup', 4468: 'corn salsa', 4469: 'condensed soup', 4470: 'lemon vodka', 4471: 'brownie layer', 4472: 'tarragon vinegar', 4473: 'pie shell', 4474: 'Reblochon', 4475: 'dried shiitake mushrooms', 4476: 'flaxseed', 4477: 'grain alcohol', 4478: 'pita chips', 4479: 'garlic bread', 4480: 'garlic shoots', 4481: 'turkey legs', 4482: 'turkey sausage links', 4483: 'greens', 4484: 'stilton', 4485: 'jimmies', 4486: 'corn bread crumbs', 4487: 'Fisher Pecan Halves', 4488: 'diced tomatoes and green chilies', 4489: 'cream of tomato soup', 4490: 'minced ginger', 4491: 'red cabbage', 4492: 'xuxu', 4493: 'yam noodles', 4494: 'wish-bone', 4495: 'kabuli channa', 4496: 'buckwheat groats', 4497: 'luke warm water', 4498: 'bird chile', 4499: 'whole grain rotini', 4500: 'condensed golden mushroom soup', 4501: 'kumquats in syrup', 4502: 'sliced turkey', 4503: 'mint', 4504: '(14 oz.) sweetened condensed mil', 4505: 'dark corn syrup', 4506: 'cabbage', 4507: 'dry pasta', 4508: 'short pasta', 4509: 'caster sugar', 4510: 'tenderloin roast', 4511: 'old ginger', 4512: 'fruit filling', 4513: 'low sodium canned chicken broth', 4514: 'nori flakes', 4515: 'salt water', 4516: 'whole wheat english muffins', 4517: 'savoiardi', 4518: 'low sodium vegetable stock', 4519: 'frozen sweetened raspberries', 4520: 'morcilla', 4521: 'ajinomoto', 4522: 'candied lemon peel', 4523: 'sweet & sour stir fry sauce', 4524: 'garlic pepper blend', 4525: 'pot pie', 4526: 'ranch-style seasoning', 4527: 'Jarlsberg', 4528: 'chenpi', 4529: 'karo syrup', 4530: 'cane vinegar', 4531: 'quick yeast', 4532: 'shanghai noodles', 4533: 'chinese turnip', 4534: 'seasoned croutons', 4535: 'Haas avocados', 4536: 'triple sec', 4537: 'Amaretti Cookies', 4538: 'currant jelly', 4539: 'boiling water', 4540: 'Kikkoman Less Sodium Soy Sauce', 4541: 'skinless chicken breast fillets', 4542: 'breasts halves', 4543: 'warm water', 4544: 'scallions', 4545: 'wish-bone light asian sesame gin', 4546: 'hakusai', 4547: 'tuna steaks', 4548: 'Lipton Sparkling Diet Green Tea', 4549: 'white creme de cacao', 4550: 'tikka paste', 4551: 'breadstick', 4552: 'lamb neck', 4553: 'frozen crabmeat, thaw and drain', 4554: 'natural sugar', 4555: 'whole crab', 4556: 'CURRY GUY Smoked Spicy Salt', 4557: 'low sodium chicken broth', 4558: 'McCormick Poppy Seed', 4559: 'low-fat chicken broth', 4560: 'grilled chicken strips', 4561: 'whipped cream', 4562: 'chicken stock cubes', 4563: 'fresh thyme', 4564: 'pastis', 4565: 'fresh raspberries', 4566: 'canadian bacon', 4567: 'white sandwich bread', 4568: 'flax seed meal', 4569: 'stuffing', 4570: 'lemon thyme', 4571: 'frozen banana', 4572: 'sugar pea', 4573: 'masa', 4574: 'peppadews', 4575: 'Pillsbury Thin Pizza Crust', 4576: 'peeled deveined shrimp', 4577: 'onion salt', 4578: 'part-skim mozzarella', 4579: 'ground cloves', 4580: 'chicken bones', 4581: 'dates', 4582: 'heavy cream', 4583: 'black gram', 4584: 'whole wheat spaghetti noodles', 4585: 'rice mix', 4586: 'pita wedges', 4587: 'daal', 4588: 'fowl', 4589: 'kim chee', 4590: 'garlic pepper seasoning', 4591: 'hibiscus', 4592: 'clamato juice', 4593: 'egg noodles', 4594: 'dried pineapple', 4595: 'ziti', 4596: 'crispy rice cereal', 4597: 'radicchio leaves', 4598: 'bottled chili sauce', 4599: 'ouzo', 4600: 'dark ale', 4601: 'rapid rise yeast', 4602: 'white arborio rice', 4603: 'creamer potatoes', 4604: 'prepared pie crusts', 4605: 'cola soft drink', 4606: 'bartlett pears', 4607: 'pumpernickel', 4608: 'sorghum flour', 4609: 'pollock', 4610: 'light tuna packed in olive oil', 4611: 'wheat free soy sauce', 4612: 'sweet baking chocolate', 4613: 'cultured buttermilk', 4614: 'white grapefruit juice', 4615: 'dry vermouth', 4616: 'asian pear', 4617: 'rice', 4618: 'italian plum tomatoes', 4619: 'cucumber', 4620: 'vegan bouillon cubes', 4621: 'panettone', 4622: 'fresh oregano', 4623: 'cress', 4624: 'berries', 4625: 'Challenge Butter', 4626: 'decorating sugars', 4627: 'caraway seeds', 4628: 'branzino', 4629: 'kirschwasser', 4630: 'Jose Cuervo Gold Tequila', 4631: 'green cabbage', 4632: 'chicken stock', 4633: 'Red Gold® diced tomatoes', 4634: 'bacon, crisp-cooked and crumbled', 4635: 'semisweet chocolate', 4636: 'Philadelphia Cream Cheese', 4637: 'paratha', 4638: 'nama shoyu', 4639: 'cumin', 4640: 'cheese tortellini', 4641: 'egg roll wrappers', 4642: 'light cream', 4643: 'custard dessert mix', 4644: 'cubed pumpkin', 4645: 'burger buns', 4646: 'Old El Paso™ mild red enchilada', 4647: 'italian seasoned dry bread crumb', 4648: 'ricard', 4649: 'whipping cream', 4650: 'ground veal', 4651: 'fresh curry', 4652: 'currant', 4653: 'sucanat', 4654: 'shao hsing wine', 4655: 'vegetarian oyster sauce', 4656: 'french sandwich rolls', 4657: 'cockles', 4658: 'lower sodium soy sauce', 4659: 'stone flower', 4660: 'black mustard seeds', 4661: 'kewra', 4662: 'shiitake mushroom caps', 4663: 'spaghetti sauce seasoning mix', 4664: 'canned low sodium chicken broth', 4665: 'boneless skinless chicken thigh', 4666: 'matcha', 4667: 'habanero powder', 4668: 'Belgian endive', 4669: 'chambord', 4670: 'sliced chicken', 4671: 'asian', 4672: 'sesame oil', 4673: 'shrimp stock', 4674: 'avocado oil', 4675: 'pineapple salsa', 4676: 'superfine white sugar', 4677: 'ginger', 4678: 'tapioca', 4679: 'garlic mayonnaise', 4680: 'bocconcini', 4681: 'string cheese', 4682: 'chili habanero pepper', 4683: 'pink salmon', 4684: 'instant chicken bouillon granule', 4685: 'chopped green bell pepper', 4686: 'burger rolls', 4687: 'truffle salt', 4688: 'instant chicken bouillon', 4689: 'DeLallo Extra Virgin Olive Oil', 4690: 'instant oats', 4691: 'mushroom powder', 4692: 'chicken-flavored soup powder', 4693: 'liquorice', 4694: 'Korean chile flakes', 4695: 'atlantic cod fillets', 4696: 'gluten flour', 4697: 'seaweed', 4698: 'shell steak', 4699: 'boneless beef round steak', 4700: 'filipino eggplant', 4701: 'cornflakes', 4702: 'diced yellow onion', 4703: 'baby potatoes', 4704: 'walnut halves', 4705: 'glazed pecans', 4706: 'espresso powder', 4707: 'vegetables', 4708: 'turkey burger', 4709: 'fillet of beef', 4710: 'raw milk', 4711: 'fresh pork fat', 4712: 'chocolate sprinkles', 4713: 'McCormick Ground Cumin', 4714: 'yam bean', 4715: 'cannelloni shells', 4716: 'food colouring', 4717: 'red chile sauce', 4718: 'crackers', 4719: 'low-fat cheddar', 4720: 'mustard', 4721: 'whole wheat bread cubes', 4722: 'mostarda', 4723: 'pastina', 4724: 'orange juice concentrate', 4725: 'fresh cranberries', 4726: 'low-fat buttermilk', 4727: 'multigrain cereal', 4728: 'flavored tortilla chips', 4729: 'crushed pistachio', 4730: 'Yoplait® Greek 2% caramel yogurt', 4731: 'chinese sausage', 4732: 'low fat plain yoghurt', 4733: 'fresh ham', 4734: 'solid white tuna', 4735: 'seedless red grapes', 4736: 'fresh chorizo', 4737: 'avocado leaves', 4738: 'dried wood ear mushrooms', 4739: 'chicken flavored rice', 4740: 'cointreau', 4741: 'barley flakes', 4742: '8 ounc ziti pasta, cook and drai', 4743: 'Good Seasons Italian Dressing Mi', 4744: 'low-fat refried beans', 4745: 'shiso leaves', 4746: 'fresh brussels sprouts', 4747: 'hot pepper', 4748: 'shredded low-fat cheddar cheese', 4749: 'soy crumbles', 4750: 'red preserved bean curd', 4751: 'mole sauce', 4752: 'Pillsbury Pie Crusts', 4753: 'Thai eggplants', 4754: 'alfredo sauce mix', 4755: 'durum wheat flour', 4756: 'reduced fat ricotta cheese', 4757: 'vegetable juice', 4758: 'Swanson Chicken Broth', 4759: 'white grapefruit', 4760: 'toasted pecans', 4761: 'gyoza wrappers', 4762: 'cold coffee', 4763: 'plain low fat greek yogurt', 4764: 'cooked meat', 4765: 'quail eggs', 4766: 'carbonated water', 4767: 'chinese red rice vinegar', 4768: 'Boursin', 4769: 'cooked bone in ham', 4770: 'honey roasted peanuts', 4771: 'dried split peas', 4772: 'Emmenthal', 4773: 'long green beans', 4774: 'gluten free marinara sauce', 4775: 'açai powder', 4776: 'benne seed', 4777: 'Dutch-processed cocoa powder', 4778: 'shredded low-fat jarlsberg chees', 4779: 'pickled carrots', 4780: 'whole wheat pita rounds', 4781: 'prosecco', 4782: 'full-fat plain yogurt', 4783: 'crusty sandwich rolls', 4784: 'shredded reduced fat cheddar che', 4785: 't-bone steak', 4786: 'fresh oregano leaves', 4787: 'century eggs', 4788: 'Oscar Mayer Bacon', 4789: 'Grand Marnier', 4790: 'frozen fruit', 4791: 'ricotta', 4792: 'mustard sauce', 4793: 'peach sorbet', 4794: 'huitlacoche', 4795: 'lamb seasoning', 4796: 'dried dill', 4797: 'phyllo dough', 4798: 'clam juice', 4799: 'all-purpose flour', 4800: 'kangkong', 4801: 'tempura batter', 4802: 'sub buns', 4803: 'salmon caviar', 4804: 'tuscan sausage', 4805: 'broccolini', 4806: 'Johnsonville Andouille Dinner Sa', 4807: 'frozen mini ravioli', 4808: 'pear nectar', 4809: 'Pepperidge Farm Puff Pastry Shee', 4810: 'onion tops', 4811: 'queso anejo', 4812: 'rounds', 4813: 'pea shoots', 4814: 'long beans', 4815: 'black trumpet mushrooms', 4816: 'crusty rolls', 4817: 'dri oregano leaves, crush', 4818: 'English toffee bits', 4819: 'vanilla sugar', 4820: 'frozen mixed berries', 4821: 'cabbage leaves', 4822: 'gingersnap cookie crumbs', 4823: 'dried chestnuts', 4824: 'free range egg', 4825: 'roasted bell peppers', 4826: 'cake flour', 4827: 'large egg yolks', 4828: 'traditional italian sauce', 4829: 'low sodium vegetable juice', 4830: 'water crackers', 4831: 'minced pork', 4832: 'jumbo pasta shells', 4833: 'jerk sauce', 4834: 'portobello caps', 4835: 'grana padano', 4836: 'mixed seafood', 4837: 'McCormick Ground Ginger', 4838: 'Pernod Liqueur', 4839: 'Smithfield Ham', 4840: 'Marshmallow Fluff', 4841: 'sofrito', 4842: 'pickle relish', 4843: 'cinnamon', 4844: 'chickpeas', 4845: 'french onion soup', 4846: 'coconut meat', 4847: 'fresh spinach leaves, rins and p', 4848: 'green chard', 4849: 'shredded Italian cheese', 4850: 'raw cashews', 4851: 'unagi', 4852: 'sweet and sour mix', 4853: 'pumpkin seeds', 4854: 'cheese ravioli', 4855: 'agar agar flakes', 4856: 'black peppercorns', 4857: 'breakfast sausages', 4858: 'japanese style bread crumbs', 4859: 'citrus', 4860: 'vegetarian refried beans', 4861: 'tuna packed in water', 4862: 'extra firm silken tofu', 4863: 'potato chips', 4864: 'banana blossom', 4865: 'belacan', 4866: 'strawberry ice cream', 4867: 'strawberry extract', 4868: 'medium egg noodles', 4869: 'Spring! Water', 4870: 'plain seltzer', 4871: 'soft-shelled crabs', 4872: 'taco seasoned cheese', 4873: 'branca menta', 4874: 'fresh chili', 4875: 'ground Italian sausage', 4876: 'red capsicum', 4877: 'tangerine', 4878: 'parmigiano', 4879: 'pork shanks', 4880: 'Yuzukosho', 4881: 'strawberry preserves', 4882: 'extra light olive oil', 4883: 'organic vegetable broth', 4884: 'italian sausage', 4885: 'orange blossom honey', 4886: 'serrano ham', 4887: 'mustard powder', 4888: 'chinese hot mustard', 4889: 'catfish', 4890: 'marmite', 4891: 'peasant bread', 4892: 'tamarind purée', 4893: 'Jimmy Dean All Natural Regular P', 4894: 'hungarian paprika', 4895: 'filet mignon steaks', 4896: 'keema', 4897: 'anchovy filets', 4898: 'aged Manchego cheese', 4899: 'arrowroot starch', 4900: 'marinade', 4901: 'corn oil', 4902: 'asparagus', 4903: 'powdered sugar icing', 4904: 'red chard', 4905: 'Spice Islands Ground Cumin Seed', 4906: 'vermouth', 4907: 'standing rib roast', 4908: 'hungarian hot paprika', 4909: 'refrigerated buttermilk biscuits', 4910: 'dark lager', 4911: 'nuoc cham', 4912: 'cream cheese lowfat', 4913: 'razor clams', 4914: 'frozen broccoli', 4915: 'top round steak', 4916: 'salted anchovies', 4917: 'baking powder', 4918: 'chicken strips', 4919: 'free-range chickens', 4920: 'almond meal', 4921: 'tortellini, cook and drain', 4922: 'cherry gelatin', 4923: 'bihon', 4924: 'chayotes', 4925: 'preserves', 4926: 'country ham', 4927: 'guinea hens', 4928: 'duck drippings', 4929: 'spareribs', 4930: 'pork neck', 4931: 'duxelles', 4932: 'fresh spinach', 4933: 'gari', 4934: 'figs', 4935: 'black bean sauce', 4936: 'frozen chopped spinach, thawed a', 4937: 'vegan chicken flavored bouillon', 4938: 'chocolate milk', 4939: 'chile de arbol', 4940: 'roast duck meat', 4941: 'uni', 4942: 'tikka masala curry paste', 4943: 'boneless ham', 4944: 'fast rising yeast', 4945: 'red bell pepper', 4946: 'yoghurt natural low fat', 4947: 'Spanish olives', 4948: 'Jamaican allspice', 4949: 'Manischewitz Matzo Meal', 4950: 'cooked chicken breasts', 4951: 'carnation condensed milk', 4952: 'delicata squash', 4953: 'nonfat vanilla frozen yogurt', 4954: 'dried fruit', 4955: 'black moss', 4956: 'fresh dates', 4957: 'kaffir lime leaves', 4958: 'hing (powder)', 4959: 'sun-dried tomatoes', 4960: 'corn bread', 4961: 'muenster cheese', 4962: 'instant white rice', 4963: 'kha', 4964: 'pisco', 4965: 'seafood breader', 4966: 'Amarena cherries', 4967: 'mineral water', 4968: 'fried wonton strips', 4969: 'ginseng', 4970: 'phyllo pastry', 4971: 'rack of lamb', 4972: 'chopped hazelnuts', 4973: 'herb cheese', 4974: 'golden mushroom soup', 4975: 'turkey ham', 4976: 'Southern Comfort Liqueur', 4977: 'rockfish', 4978: 'Spice Islands Oregano', 4979: 'crema mexicana', 4980: 'dried strawberries', 4981: 'english breakfast tea bags', 4982: 'half & half', 4983: 'Flora Original', 4984: 'cannoli shells', 4985: 'wild rice', 4986: 'salsa verde', 4987: 'coriander powder', 4988: 'burdock', 4989: 'tamales', 4990: 'salted pistachios', 4991: 'meringue', 4992: 'wine syrup', 4993: 'pink grapefruit juice', 4994: 'lamb fillet', 4995: 'Jameson Irish Whiskey', 4996: 'bai cai', 4997: 'butter crackers', 4998: 'pattypan squash', 4999: 'green bell pepper, slice', 5000: 'mixed fruit', 5001: 'slider buns', 5002: 'Philadelphia Cooking Creme', 5003: 'dri leav rosemari', 5004: 'filet', 5005: 'Italian turkey sausage links', 5006: 'roasted pepitas', 5007: 'helix snails', 5008: 'coconut water', 5009: 'semi-soft cheese', 5010: 'gluten-free spaghetti', 5011: 'chunky tomato salsa', 5012: 'maca powder', 5013: 'low sodium chicken stock', 5014: 'kefir', 5015: 'goose liver', 5016: 'soy nuts', 5017: 'bread ciabatta', 5018: 'stew meat', 5019: 'pork spareribs', 5020: 'steamed brown rice', 5021: 'boquerones', 5022: 'fresh tomato salsa', 5023: 'capellini', 5024: 'Knorr Onion Minicubes', 5025: 'kirschenliqueur', 5026: 'whole wheat bread dough', 5027: 'veal scallopini', 5028: 'tortilla wraps', 5029: 'essence', 5030: 'allspice', 5031: 'Mizkan Oigatsuo Tsuyu Soup Base', 5032: 'finely chopped fresh parsley', 5033: 'baby spinach', 5034: 'chinese celery', 5035: 'leftover gravy', 5036: 'Kraft Mayonnaise', 5037: 'sausage links', 5038: 'masala', 5039: 'low-fat vanilla yogurt', 5040: 'Kraft Miracle Whip Dressing', 5041: 'anise seed', 5042: 'stir fry sauce', 5043: 'country loaf', 5044: 'low-fat sharp cheddar cheese', 5045: 'pilsner', 5046: 'rye bread', 5047: 'veal shanks', 5048: 'creole spice mix', 5049: 'SYD Hot Rub', 5050: 'crusty whole wheat toast', 5051: 'pork bouillon cube', 5052: 'dark rum', 5053: 'Bartlett Pear', 5054: 'capicola', 5055: 'unsalted roasted peanuts', 5056: 'snail shells', 5057: 'whole grain bread', 5058: 'bottled balsamic vinaigrette', 5059: 'creamed horseradish', 5060: 'Betty Crocker™ oatmeal cookie mi', 5061: 'blood orange juice', 5062: 'pineapple syrup', 5063: 'low-sodium fat-free chicken brot', 5064: '1% low-fat cottage cheese', 5065: 'mini phyllo dough shells', 5066: 'dried arbol chile', 5067: 'wasabi', 5068: 'orange bitters', 5069: 'Makers Mark Whisky', 5070: 'diced ham', 5071: 'coconut flakes', 5072: 'rice stick noodles', 5073: 'toasted unsweetened coconut', 5074: 'lean ground meat', 5075: 'pie crust mix', 5076: 'italian vinaigrette', 5077: 'whole wheat pita', 5078: 'alcohol', 5079: 'reduced fat Mexican cheese', 5080: 'garlic salt', 5081: 'Bordelaise sauce', 5082: 'nutritional yeast', 5083: 'honey-flavored greek style yogur', 5084: 'cooking liquid', 5085: 'herb seasoned stuffing', 5086: 'alfalfa sprouts', 5087: 'italian tomatoes', 5088: 'hot spanish paprika', 5089: 'low-fat turkey kielbasa', 5090: 'artichok heart marin', 5091: 'coleslaw dressing', 5092: 'reduced sodium black beans', 5093: 'cranberry juice cocktail', 5094: 'balsamic vinaigrette', 5095: 'red bell pepper, sliced', 5096: 'scrod', 5097: 'comice pears', 5098: 'vegetable gumbo mixture', 5099: 'fruit puree', 5100: 'gluten-free oyster sauce', 5101: 'V8 Juice', 5102: 'hellmannâ€™ or best food canola', 5103: 'butter lettuce', 5104: 'tentacles', 5105: 'vegan sour cream', 5106: 'picholine olives', 5107: 'brown rice vinegar', 5108: 'peanut brittle', 5109: 'coconut sugar', 5110: 'lump crab meat', 5111: 'fronds', 5112: 'Sargento® Traditional Cut Shredd', 5113: 'chocolate cookie crumbs', 5114: 'fresh sage', 5115: 'prepared mustard', 5116: 'melissa', 5117: 'brown gravy', 5118: 'katsuo dashi', 5119: 'fresh parsley', 5120: 'caramel sauce', 5121: 'broiler-fryers', 5122: 'carnaroli rice', 5123: 'gorgonzola dolce', 5124: 'other', 5125: 'duck sauce', 5126: 'baby gem lettuce', 5127: 'sourdough bread', 5128: 'carp', 5129: 'salt free cajun creole seasoning', 5130: 'scrod fillets', 5131: 'tapioca flour', 5132: 'vanilla frosting', 5133: 'almond flour', 5134: 'seasoned black beans', 5135: 'country crock calcium plus vitam', 5136: 'ground cumin', 5137: 'apple juice concentrate', 5138: 'seasoned panko bread crumbs', 5139: 'monkfish', 5140: 'egg whites', 5141: 'malt powder', 5142: 'umeboshi plum vinegar', 5143: 'butternut squash', 5144: 'brioche bread', 5145: 'powdered gelatin', 5146: 'slivered almonds', 5147: 'limoncello', 5148: 'lavender honey', 5149: 'wondra', 5150: 'canned black beans', 5151: 'preserv raspberri seedless', 5152: 'arbol chile', 5153: 'small pearl tapioca', 5154: 'sesame seed paste', 5155: 'smoked mackerel', 5156: 'ginger paste', 5157: 'blood', 5158: 'frozen pound cake', 5159: 'prune puree', 5160: 'microgreens', 5161: 'bread rolls', 5162: 'garam masala', 5163: 'organic chicken', 5164: 'extra lean minced beef', 5165: 'multi-grain penne pasta', 5166: 'chipped beef', 5167: 'condensed cheddar cheese soup', 5168: 'extra', 5169: 'french dressing', 5170: 'veal for stew', 5171: 'mint chocolate chip ice cream', 5172: 'blueberry pie filling', 5173: 'sugar syrup', 5174: 'starchy potatoes', 5175: 'instant potato flakes', 5176: 'broth', 5177: 'carnitas', 5178: 'pickled radish', 5179: 'mascarpone', 5180: 'kochujang', 5181: 'crushed ice', 5182: 'shell pasta', 5183: 'pastry flour', 5184: 'mandarin juice', 5185: 'veal rib chops', 5186: 'mung bean noodles', 5187: 'japanese cucumber', 5188: 'sour milk', 5189: 'Johnsonville Smoked Sausage', 5190: 'glaze', 5191: 'pork rub', 5192: 'seedless green grape', 5193: 'sweet red bean paste', 5194: 'plain low-fat yogurt', 5195: 'cooked turkey', 5196: 'natural pistachios', 5197: 'king crab', 5198: 'Honeysuckle White® Hot Italian T', 5199: 'knorr chipotl minicub', 5200: 'nonfat sweetened condensed milk', 5201: 'tarragon', 5202: 'white rum', 5203: 'tallow', 5204: 'shredded cheddar cheese', 5205: 'sparkling sugar', 5206: 'lager', 5207: 'garden cress', 5208: 'diced potatoes', 5209: 'sun dried tomato dressing', 5210: 'pork belly', 5211: 'smoked cheddar cheese', 5212: 'dried mint flakes', 5213: 'Spice Islands Bay Leaves', 5214: 'canton noodles', 5215: 'blue crabs', 5216: 'asian fish sauce', 5217: 'kalamansi juice', 5218: 'methi leaves', 5219: 'deli ham', 5220: 'italian meatballs', 5221: 'spring roll wrappers', 5222: 'beef bouillon', 5223: 'Knorr® Fiesta Sides Spanish Rice', 5224: 'chilled seltzer', 5225: 'cornbread', 5226: 'slaw mix', 5227: 'star anise', 5228: 'rusk', 5229: 'skin on bone in chicken legs', 5230: 'whole allspice', 5231: 'BACARDI® Mixers Margarita Mix', 5232: 'ikura', 5233: 'tomato salsa', 5234: 'chocolate glaze', 5235: 'brine-cured olives', 5236: 'red apples', 5237: 'barbecue seasoning', 5238: 'fried garlic', 5239: 'field peas', 5240: 'turbot fillets', 5241: 'suckling pig', 5242: 'tomato soup', 5243: 'duck breasts', 5244: 'fat-free cottage cheese', 5245: 'pies', 5246: 'Dole Seven Lettuces', 5247: 'penne rigate', 5248: 'salmon steaks', 5249: 'yellow onion', 5250: 'black olives', 5251: 'white bread', 5252: 'bear', 5253: 'Tipo 00 flour', 5254: 'chopped fresh thyme', 5255: 'taco shells', 5256: 'fuji apples', 5257: 'saffron threads', 5258: 'ground asafetida', 5259: 'soft margarine', 5260: 'collards', 5261: 'coke', 5262: 'pita pockets', 5263: 'Pace Chunky Salsa', 5264: 'powdered milk', 5265: 'tostadas', 5266: 'green tea leaves', 5267: 'water packed artichoke hearts', 5268: 'barley grits', 5269: 'sweet peas', 5270: 'beans', 5271: 'bisquick', 5272: 'foccacia', 5273: 'bitter melon', 5274: 'green gram', 5275: 'ditalini pasta', 5276: 'diced bacon', 5277: 'dried scallops', 5278: 'Kung Pao sauce', 5279: 'raw pistachios', 5280: 'hot chili paste', 5281: 'trout caviar', 5282: 'shelled shrimp', 5283: 'salted mixed nuts', 5284: 'low sodium low fat vegetable bro', 5285: 'crushed cornflakes', 5286: 'red radishes', 5287: 'beef ribs', 5288: 'A Taste of Thai Rice Noodles', 5289: 'chicken and rice soup', 5290: 'new potatoes', 5291: 'buttermilk ranch dressing', 5292: 'toasted slivered almonds', 5293: 'penne pasta', 5294: 'fresh angel hair', 5295: 'onion soup', 5296: 'pie dough', 5297: 'ketchup', 5298: 'serrano chilies', 5299: 'tex-mex shredded cheese', 5300: 'nonfat mozzarella cheese', 5301: 'frozen shelled edamame', 5302: 'chocolate mousse', 5303: 'lean beef', 5304: 'whole wheat orzo', 5305: 'cajun-creole seasoning mix', 5306: 'Cholula Hot Sauce', 5307: 'tomatoes with juice', 5308: 'spaghettini', 5309: 'asiago', 5310: 'cracked wheat', 5311: 'reduced fat alfredo sauce', 5312: 'goat cheese', 5313: 'fresh white truffles', 5314: 'chinese cinnamon', 5315: 'ranch dip', 5316: 'boneless chicken cutlet', 5317: 'pimentos', 5318: 'hoop cheese', 5319: 'potato flakes', 5320: 'crème de menthe', 5321: 'banana puree', 5322: 'blade steak', 5323: 'pecans', 5324: 'and cook drain pasta ziti', 5325: 'bouquet garni', 5326: 'large flour tortillas', 5327: 'instant tapioca', 5328: 'chile paste', 5329: 'fat-free shredded cheddar cheese', 5330: 'caramel syrup', 5331: 'Yoplait® Greek 100 blackberry pi', 5332: 'low-fat ricotta', 5333: 'sweet bean paste', 5334: 'Flora Buttery', 5335: 'instant couscous', 5336: 'broad beans', 5337: 'tarragon leaves', 5338: 'grated orange', 5339: 'asafoetida', 5340: 'old-fashioned oats', 5341: 'chile colorado', 5342: 'whole milk yoghurt', 5343: 'knorr pasta side   cheesi chedda', 5344: 'KRAFT Mexican Style Finely Shred', 5345: 'shredded low-fat mozzarella chee', 5346: 'soft shelled crabs', 5347: 'citric acid powder', 5348: 'Progresso Black Beans', 5349: \"za'atar\", 5350: 'cream style corn', 5351: '40% less sodium taco seasoning m', 5352: 'bone-in pork chops', 5353: 'egg bread', 5354: 'blanched almond flour', 5355: 'hot pepperoni', 5356: 'finely ground coffee', 5357: 'ketjap', 5358: 'brown beech mushrooms', 5359: 'small green chile', 5360: 'mole poblano', 5361: 'black radish', 5362: 'meat tenderizer', 5363: 'pickled jalapenos', 5364: 'fat-free reduced-sodium chicken', 5365: 'turnip greens', 5366: 'miso sesame grilling sauce', 5367: 'black chicken', 5368: 'cream cheese, soften', 5369: 'low-fat natural yogurt', 5370: 'riso', 5371: 'roasted unsalted cashews', 5372: 'mild Italian sausage', 5373: 'dried sardines', 5374: 'wildflower honey', 5375: 'semi firm tofu', 5376: 'red currants', 5377: 'olive oil', 5378: 'sliced apples', 5379: 'broccoli', 5380: 'chocolate chips', 5381: 'chinese rock sugar', 5382: 'less sodium reduced fat ham', 5383: 'apricots', 5384: 'brats', 5385: 'lemon dressing', 5386: 'vegetable-filled ravioli', 5387: 'Guinness Beer', 5388: 'soup pasta', 5389: 'curry sauce mix', 5390: 'swordfish steaks', 5391: 'Pace Picante Sauce', 5392: 'aged cheddar cheese', 5393: 'cornflake cereal', 5394: 'boiling potatoes', 5395: 'tasso', 5396: 'almonds', 5397: 'long green chilies', 5398: 'dried chickpeas', 5399: 'burrata', 5400: 'boneless center cut pork chops', 5401: 'low fat cream', 5402: 'italian rolls', 5403: 'manicotti shells', 5404: 'vanilla wafers', 5405: 'chopped fresh chives', 5406: 'reposado', 5407: 'strawberry compote', 5408: 'crushed red pepper flakes', 5409: 'reduced sodium soy sauce', 5410: 'cholesterol free egg substitute', 5411: 'caciocavallo', 5412: 'canola mayonnaise', 5413: 'chocolate instant pudding', 5414: 'bing cherries', 5415: 'chinese parsley', 5416: 'vidalia', 5417: 'dairy free coconut ice cream', 5418: 'low sodium soy sauce', 5419: 'cane syrup', 5420: 'simple syrup', 5421: 'field lettuce', 5422: 'Burgundy wine', 5423: 'sauerkraut', 5424: 'celtic salt', 5425: 'pork tenderloin', 5426: 'lower sodium beef broth', 5427: 'sandwich wraps', 5428: 'wish bone guacamol ranch dress', 5429: 'sago', 5430: 'brewed coffee', 5431: 'lemon wedge', 5432: 'pepitas', 5433: 'cactus pad', 5434: 'coconut chips', 5435: 'sliced mushrooms', 5436: 'chipotle puree', 5437: 'taco seasoning reduced sodium', 5438: 'bulk italian sausag', 5439: 'melted butter', 5440: 'Accent Seasoning', 5441: 'pinot noir', 5442: 'Herdez Salsa Casera', 5443: 'light molasses', 5444: 'knoblauch', 5445: 'sweet cherries', 5446: 'hard salami', 5447: 'cherry juice', 5448: 'shredded low-fat sharp cheddar', 5449: 'liver sausage', 5450: 'Mexican cheese blend', 5451: 'ume plum vinegar', 5452: 'dried mango', 5453: 'bock beer', 5454: 'hot sauce', 5455: 'plums', 5456: 'romaine lettuce', 5457: 'clams', 5458: 'gingersnap cookies', 5459: 'chopped cilantro', 5460: 'alphabet pasta', 5461: 'chicken leg quarters', 5462: 'sweet corn kernels', 5463: 'mint extract', 5464: 'rigatoni', 5465: 'coconut oil', 5466: 'raisins', 5467: 'laurel leaves', 5468: 'grated nutmeg', 5469: 'daikon sprouts', 5470: 'schmaltz', 5471: 'pimenton', 5472: 'Hidden Valley® Farmhouse Origina', 5473: 'canned chicken broth', 5474: 'tap water', 5475: 'green figs', 5476: 'ginger ale', 5477: 'green apples', 5478: 'poblano chilies', 5479: 'apricot brandy', 5480: 'cream cheese with chives and oni', 5481: 'pineapple juice', 5482: 'baby goat', 5483: 'corned beef', 5484: 'pandan extract', 5485: 'slider rolls', 5486: 'white vermouth', 5487: 'loin', 5488: 'haddock', 5489: 'turkey kielbasa', 5490: 'sweet and sour sauce', 5491: 'rib-eye roast', 5492: 'fresh poblano pepper', 5493: 'sweet rice wine', 5494: 'edible gold leaf', 5495: 'double smoked bacon', 5496: 'pizza crust', 5497: 'Pure Wesson Canola Oil', 5498: 'Corn Flakes Cereal', 5499: 'clam sauce', 5500: 'medium eggs', 5501: \"Campbell's Condensed Cheddar Che\", 5502: 'nigari tofu', 5503: 'process cheese spread', 5504: 'chili seasoning mix', 5505: 'dried salted codfish', 5506: 'vanilla vodka', 5507: 'beurre manié', 5508: 'banana liqueur', 5509: 'small yellow onion', 5510: 'ground coriander', 5511: 'jack', 5512: 'baked pizza crust', 5513: 'Green Giant™ sliced mushrooms', 5514: 'sugar cookie dough', 5515: 'quick-cooking barley', 5516: 'tortillas', 5517: 'dried mission figs', 5518: 'fresh orange juice', 5519: 'regular chicken broth', 5520: 'maple syrup', 5521: 'Jif Creamy Peanut Butter', 5522: 'jamaica', 5523: 'sponge cake', 5524: 'satsuma imo', 5525: 'wheat beer', 5526: 'plain dry bread crumb', 5527: 'Mazola® Chicken Flavor Bouillon', 5528: \"Uncle Ben's Original Converted B\", 5529: 'sage', 5530: 'Praline Liqueur', 5531: 'capsicum', 5532: 'frozen spinach', 5533: 'low sodium canned chicken stock', 5534: 'bay scallops', 5535: 'cilantro stems', 5536: 'onions', 5537: 'beef rib short', 5538: 'reduced sodium cream of mushroom', 5539: 'Chartreuse Liqueur', 5540: 'bucatini', 5541: 'ricotta salata', 5542: 'triscuits', 5543: 'cactus leaf', 5544: 'vegetable shortening', 5545: 'uncle bens', 5546: 'self raising flour', 5547: 'shoulder roast', 5548: 'chocolate graham cracker crumbs', 5549: 'less sodium fat free chicken bro', 5550: 'parsley flakes', 5551: 'shredded monterey jack cheese', 5552: 'regular cucumber', 5553: 'champagne vinegar', 5554: 'light brown sugar', 5555: 'sweet vermouth', 5556: 'perch fillets', 5557: 'goma', 5558: 'vindaloo paste', 5559: 'homemade vegetable stock', 5560: 'tofu', 5561: 'summer squash', 5562: 'ground chuck', 5563: 'vanilla glaze', 5564: 'brazil nuts', 5565: 'salmon fillets', 5566: 'green papaya', 5567: 'rose essence', 5568: 'seeds', 5569: 'tortilla shells', 5570: 'ice water', 5571: 'sausage meat', 5572: 'milkfish', 5573: 'cherries', 5574: 'cloud ear fungus', 5575: 'Angostura bitters', 5576: 'elderflower cordial', 5577: 'biscuits', 5578: 'white tuna in water', 5579: 'butter cooking spray', 5580: 'baking yeast', 5581: 'jeera', 5582: 'cinnamon ice cream', 5583: 'shredded coconut', 5584: 'scotch', 5585: 'tumeric', 5586: 'flavored vinegar', 5587: 'balsamic reduction', 5588: 'pomelo', 5589: 'spanish paprika', 5590: 'smoked chicken sausages', 5591: 'smoked turkey breast', 5592: 'chinese five-spice powder', 5593: 'frozen cranberry juice concentra', 5594: 'cinnamon rolls', 5595: 'eau de vie', 5596: 'persimmon', 5597: 'lobster', 5598: 'whitefish fillets', 5599: 'poppyseeds', 5600: 'abbamele', 5601: 'pear juice', 5602: 'pork lard', 5603: 'chateaubriand', 5604: 'fish fillets', 5605: 'Japanese turnips', 5606: 'sorghum molasses', 5607: 'sports drink', 5608: 'burger style crumbles', 5609: 'fresh basil leaves', 5610: 'aleppo', 5611: 'beef sirloin', 5612: 'Spike Seasoning', 5613: 'drum', 5614: 'cooking salt', 5615: 'raisin bread', 5616: 'low-fat bottled italian dressing', 5617: 'pineapple juice concentrate', 5618: 'red enchilada sauce', 5619: 'chervil', 5620: 'katakuriko', 5621: 'karashi', 5622: 'pointed peppers', 5623: 'dumpling dough', 5624: 'turkey bacon', 5625: 'brown rice flour', 5626: 'prepar salsa', 5627: 'canned chopped tomatoes', 5628: 'chicken-apple sausage', 5629: 'soup mix', 5630: 'scones', 5631: 'curly endive', 5632: 'sweet potatoes', 5633: 'pandanus leaf', 5634: 'cooked rigatoni', 5635: 'low-fat tartar sauce', 5636: 'flour tortillas', 5637: 'cocktail cherries', 5638: 'sherry wine', 5639: 'cubed mango', 5640: 'Bertolli Tomato & Basil Sauce', 5641: 'diced bell pepper', 5642: 'Louisiana Hot Sauce', 5643: 'black-eyed peas', 5644: 'soft-shell clams', 5645: 'chocolate covered coffee beans', 5646: 'lemon pepper', 5647: 'chinese radish', 5648: 'butter', 5649: 'pecan meal', 5650: 'green chile', 5651: 'Indian spice', 5652: 'lap cheong', 5653: 'flat iron steaks', 5654: 'red pepper flakes', 5655: 'pure olive oil', 5656: 'tuna', 5657: 'veal scallops', 5658: 'paneer cheese', 5659: 'seafood base', 5660: 'reduced sodium ham', 5661: 'stock', 5662: 'pineapple chunks', 5663: 'chicken meat', 5664: 'smoked salmon', 5665: 'chuck steaks', 5666: 'kohlrabi', 5667: 'flaked', 5668: 'gluten free all purpose flour', 5669: 'cheese cubes', 5670: 'wing sauce', 5671: 'fresh red chili', 5672: 'angel food cake', 5673: 'fresh veget', 5674: 'uncooked ziti', 5675: 'chop green chilies, undrain', 5676: 'soft corn tortillas', 5677: 'long pepper', 5678: 'crayfish', 5679: 'candied cherries', 5680: 'lettuce leaves', 5681: 'Heinz Ketchup', 5682: 'navy beans', 5683: 'sazon goya', 5684: 'flour tortillas (not low fat)', 5685: 'chop fine pecan', 5686: 'buttercup squash', 5687: 'low-fat goat cheese', 5688: 'spicy salami', 5689: 'red curry paste', 5690: 'polenta prepar', 5691: 'padron peppers', 5692: 'fresh mexican cheese', 5693: 'roasted garlic', 5694: 'cauliflower florets', 5695: 'Kroger Black Beans', 5696: 'chimichurri', 5697: 'yu choy', 5698: 'Velveeta', 5699: 'potato starch', 5700: 'lady apples', 5701: 'chipotle', 5702: 'watermelon seeds', 5703: 'greek seasoning mix', 5704: 'orange roughy fillet', 5705: 'rice sticks', 5706: 'sodium reduced chicken broth', 5707: 'duck liver', 5708: 'mentsuyu', 5709: 'dried cornhusks', 5710: 'veal demi-glace', 5711: 'gravenstein apple', 5712: 'red serrano peppers', 5713: 'corn-on-the-cob', 5714: 'fig jam', 5715: 'sourdough baguette', 5716: 'chili con carne', 5717: 'dry milk powder', 5718: 'ogura-an', 5719: 'pernod', 5720: 'dried apricot', 5721: 'dill', 5722: 'roasted ground cumin', 5723: 'asian eggplants', 5724: 'dried black beans', 5725: 'Lipton® Recipe Secrets® Onion So', 5726: 'vanilla pods', 5727: 'zucchini blossoms', 5728: 'Skippy Creamy Peanut Butter', 5729: 'mini bananas', 5730: 'doenzang', 5731: 'sage leaves', 5732: 'plum wine', 5733: 'grissini', 5734: 'cured chorizo', 5735: 'bloody mary mix', 5736: 'shiso', 5737: 'rose hip tea bags', 5738: 'jerk rub seasoning', 5739: 'raw prawn', 5740: 'liquid', 5741: 'oat bran', 5742: 'ground flaxseed', 5743: 'bosc pears', 5744: 'pullman loaf', 5745: 'acorn squash', 5746: 'fatfree lowsodium chicken broth', 5747: 'yellowtail', 5748: 'jumbo shrimp', 5749: 'taro', 5750: 'mung bean vermicelli', 5751: 'crushed garlic', 5752: 'reduced sodium chicken broth', 5753: 'azuki bean', 5754: 'Mrs. Dash', 5755: 'refrigerated pizza dough', 5756: 'mission figs', 5757: 'biscuit dough', 5758: 'semi-sweet chocolate morsels', 5759: 'garlic herb feta', 5760: 'light brown muscavado sugar', 5761: 'chicken fingers', 5762: 'sweet mustard', 5763: 'cranberry sauce', 5764: 'yellow chives', 5765: 'kasseri', 5766: 'spinach leaves', 5767: 'branzino fillets', 5768: 'nonfat yogurt plain', 5769: 'carbonated beverages', 5770: 'fillet red snapper', 5771: 'stout', 5772: 'calamansi juice', 5773: 'hot sausage', 5774: 'vanilla extract', 5775: 'boneless lamb', 5776: 'fresh tarragon', 5777: 'mild pork sausage', 5778: 'dried minced garlic', 5779: 'casings', 5780: 'shimeji mushrooms', 5781: 'poured fondant', 5782: 'low sodium broth', 5783: 'color food green', 5784: 'fat free lemon curd', 5785: 'american cheese slices', 5786: 'store bought low sodium chicken', 5787: 'beef sausage', 5788: '1% low-fat milk', 5789: 'hot cherry pepper', 5790: 'flavoring', 5791: 'shoulder lamb chops', 5792: '33% less sodium cooked ham', 5793: 'organic chicken broth', 5794: 'dinosaur kale', 5795: 'lemon peel', 5796: 'okra pods', 5797: 'granulated white sugar', 5798: 'vegetable seasoning', 5799: 'cooked quinoa', 5800: 'hot chili', 5801: 'whole wheat flour', 5802: 'green peppercorns', 5803: 'onion soup mix', 5804: 'imitation seafood', 5805: 'liquid sweetener', 5806: 'fresh mozzarella balls', 5807: 'bacon grease', 5808: 'center cut bacon', 5809: 'pickling liquid', 5810: 'frozen lemonade concentrate', 5811: 'date sugar', 5812: 'zinfandel', 5813: 'leaves', 5814: 'mellow white miso', 5815: 'bittersweet chocolate', 5816: 'chives', 5817: 'gin', 5818: 'extract', 5819: 'topside steak', 5820: 'red snapper', 5821: 'hot italian turkey sausage', 5822: 'dried rosemary', 5823: 'crushed pineapples in juice', 5824: 'pink food coloring', 5825: 'darjeeling tea leaves', 5826: 'basil mayonnaise', 5827: 'sliced cucumber', 5828: 'sandwich rolls', 5829: 'lemon olive oil', 5830: 'sansho', 5831: 'creole seasoning mix', 5832: 'nonfat italian dressing', 5833: 'rabbit', 5834: 'Jack Daniels Whiskey', 5835: 'aged balsamic vinegar', 5836: 'pepper jack', 5837: 'prepared coleslaw', 5838: 'frozen ravioli', 5839: 'sweet mini bells', 5840: 'pimento stuffed green olives', 5841: 'firmly packed light brown sugar', 5842: 'sliced ham', 5843: 'hot salsa', 5844: 'chinese black mushrooms', 5845: 'chicken breast tenderloins', 5846: 'muscadine grapes', 5847: 'cream', 5848: 'pork butt roast', 5849: 'fat free frozen top whip', 5850: 'apricot jelly', 5851: 'Cara Cara orange', 5852: 'homemade meatballs', 5853: 'vietnamese fish sauce', 5854: 'Louisiana Cajun Seasoning', 5855: 'tri-tip steak', 5856: 'plain soy yogurt', 5857: 'graham cracker pie crust', 5858: 'pepperoncini', 5859: 'rendered duck fat', 5860: 'Sriracha', 5861: 'frozen brussels sprouts', 5862: 'vinaigrette dressing', 5863: 'peppermint schnapps', 5864: 'crumbs', 5865: 'asian barbecue sauce', 5866: 'reduced fat milk', 5867: \"I Can't Believe It's Not Butter!\", 5868: 'tenderloin steaks', 5869: 'Swanson Vegetable Broth', 5870: 'stir fry beef meat', 5871: 'asian dressing', 5872: 'poolish', 5873: 'winter melon', 5874: 'muenster', 5875: 'frozen mixed thawed vegetables,', 5876: 'pumpkin purée', 5877: 'verjus', 5878: 'crisps', 5879: 'chicken legs', 5880: 'refrigerated bread dough', 5881: 'Johnsonville Hot & Spicy Breakfa', 5882: 'extra-virgin olive oil', 5883: 'top sirloin steak', 5884: 'tomatoes', 5885: 'quickcooking grits', 5886: 'cubed pancetta', 5887: 'nonfat cottage cheese', 5888: 'hass avocado', 5889: 'portabello mushroom', 5890: 'jalape', 5891: 'fat-trimmed beef flank steak', 5892: 'low-fat milk', 5893: 'pasta shells', 5894: 'amaranth', 5895: 'pickling spices', 5896: 'sushi rice', 5897: 'dumpling wrappers', 5898: 'lowfat plain greekstyl yogurt', 5899: 'chicken flavor stuffing mix', 5900: 'vanilla almondmilk', 5901: 'mantou', 5902: 'coulis', 5903: 'swordfish fillets', 5904: 'fenugreek seeds', 5905: 'rice crackers', 5906: 'reduced fat swiss cheese', 5907: 'bone-in ribeye steak', 5908: 'green bell pepper', 5909: 'brown cardamom', 5910: 'low-fat smoked sausage', 5911: 'Doubanjiang', 5912: 'rose water', 5913: 'mango chutney', 5914: 'large tomato', 5915: 'prepared horseradish', 5916: 'banana leaves', 5917: 'French bread loaves', 5918: 'sherry vinegar', 5919: 'base', 5920: 'Bertolli Garlic Alfredo Sauce', 5921: 'crisco', 5922: 'ground chicken breast', 5923: 'organic soy sauce', 5924: 'hickory smoke', 5925: 'culinary lavender', 5926: 'dark chocolate', 5927: 'batter', 5928: 'cook egg hard', 5929: 'sliced shallots', 5930: 'asafetida (powder)', 5931: 'soy-based liquid seasoning', 5932: 'cream cheese', 5933: 'bean soup', 5934: 'espresso beans', 5935: 'chicken in water', 5936: 'amaretto', 5937: 'KRAFT Shredded Colby & Monterey', 5938: 'shredded pepper jack cheese', 5939: 'game', 5940: 'cuttlefish', 5941: 'coconut juice', 5942: 'Lipton® Iced Tea Brew Family Siz', 5943: 'sliced leeks', 5944: 'shredded coleslaw mix', 5945: 'papaya', 5946: 'wasabe', 5947: 'shirataki', 5948: 'potato gnocchi', 5949: 'turkey giblet stock', 5950: 'frozen broccoli florets', 5951: 'somen', 5952: 'ground mustard', 5953: 'Balsamico Bianco', 5954: 'caramel ice cream topping', 5955: 'condensed cream of celery soup', 5956: 'frozen limeade concentrate', 5957: 'grated cotija', 5958: 'burgundy wine', 5959: 'chicken thigh fillets', 5960: 'lingcod', 5961: 'tamarind pod', 5962: 'chocolate chunks', 5963: 'fish broth', 5964: 'barbecued pork', 5965: \"hellmann' or best food real mayo\", 5966: 'kiwi', 5967: 'amontillado sherry', 5968: 'kampyo', 5969: 'chuck short ribs', 5970: 'fine sea salt', 5971: 'wood ear mushrooms', 5972: 'pancetta slices', 5973: 'sandwich steak', 5974: 'pork and beans', 5975: 'knorr tomato bouillon with chick', 5976: 'straight bourbon whiskey', 5977: 'less sodium mushroom flavored so', 5978: 'orzo pasta', 5979: 'ground poppy seed', 5980: 'splenda granular', 5981: 'whole wheat penne', 5982: 'Gourmet Garden Oregano', 5983: 'bananas', 5984: 'salted seaweed', 5985: 'skinned boned duck breast halves', 5986: 'natural yogurt', 5987: 'jamaican curry powder', 5988: 'dinner rolls', 5989: 'oil of orange', 5990: 'puff pastry cups', 5991: 'apple schnapps', 5992: 'lime peel', 5993: 'spinach tortilla', 5994: 'chocolate candy', 5995: 'cane sugar', 5996: 'plain chocolate', 5997: 'large sausage casing', 5998: 'granular no-calorie sucralose sw', 5999: 'roast pork seasoning mix', 6000: 'min', 6001: 'Bisquick Baking Mix', 6002: 'idli', 6003: 'ancho', 6004: 'organic low sodium chicken broth', 6005: \"Cox's Orange Pippin\", 6006: 'shredded low-fat cheddar', 6007: 'Mexican beer', 6008: 'whole wheat cereal', 6009: 'yellowfin', 6010: 'pectin', 6011: 'tandoori seasoning', 6012: 'fructose', 6013: 'honey glazed ham', 6014: 'grill seasoning', 6015: 'refried black beans', 6016: 'quinces', 6017: 'glutinous rice flour', 6018: 'feta cheese', 6019: 'chestnut flour', 6020: 'organic coconut oil', 6021: 'giardiniera', 6022: 'demi-glace', 6023: 'Shaoxing wine', 6024: 'pork loin rib chops', 6025: 'Marcona almonds', 6026: 'roasted red peppers', 6027: 'Kraft Sharp Cheddar Cheese', 6028: 'muscovado sugar', 6029: 'penn pasta, cook and drain', 6030: 'low sodium 96% fat free ham', 6031: 'kosher wine', 6032: 'black bean sauce with garlic', 6033: 'large free range egg', 6034: 'all purpose seasoning', 6035: 'celery salt', 6036: 'cooking spray', 6037: 'chuck tender', 6038: 'powdered egg whites', 6039: 'cooked barley', 6040: 'Kerrygold Pure Irish Butter', 6041: 'herbes de provence', 6042: 'dark crème de cacao', 6043: 'soba', 6044: 'low-fat greek yogurt', 6045: 'pasta sheets', 6046: 'organic granulated sugar', 6047: 'italian style stewed tomatoes', 6048: 'skate', 6049: 'margarita mix', 6050: 'dark beer', 6051: 'bouillon', 6052: 'longan', 6053: 'licorice root', 6054: 'turkey meat', 6055: 'pink salt', 6056: 'mixed bell peppers', 6057: 'mango nectar', 6058: 'mesquite flavored seasoning mix', 6059: 'whole wheat spaghetti', 6060: 'riblets', 6061: 'fresh herbs', 6062: 'savoy spinach', 6063: 'Yakisoba noodles', 6064: 'long grain and wild rice mix', 6065: 'condensed reduced fat reduced so', 6066: 'lox', 6067: 'boneless beef chuck roast', 6068: 'banh hoi', 6069: 'gluten-free bread', 6070: 'fruit juice', 6071: 'raspberry juice', 6072: 'vanilla beans', 6073: 'oil packed anchovy fillets', 6074: 'condensed cream of potato soup', 6075: 'dried mushrooms', 6076: 'vanilla low-fat frozen yogurt', 6077: 'dried sage', 6078: 'mian', 6079: 'Galliano', 6080: 'fresh peas', 6081: 'cream sweeten whip', 6082: 'chard', 6083: 'beef liver', 6084: 'sunflower kernels', 6085: 'filé', 6086: 'yoghurt', 6087: 'bran flakes', 6088: 'torpedo rolls', 6089: 'buns', 6090: 'reduced sodium canned chicken br', 6091: 'wasabi powder', 6092: 'vegan cheese', 6093: 'Truvía® Baking Blend', 6094: 'honey liqueur', 6095: 'shredded cabbage', 6096: 'soba noodles', 6097: 'golden delicious apples', 6098: 'beer', 6099: 'hillshire farms low fat sausage', 6100: 'chicken', 6101: 'bone marrow', 6102: '25% less sodium chicken broth', 6103: 'sirloin steak', 6104: 'gluten free chicken broth', 6105: 'mentaiko', 6106: 'frozen stir fry vegetable blend', 6107: 'lager beer', 6108: 'lotus seed paste', 6109: 'crouton italian season', 6110: 'yukon gold potatoes', 6111: 'chicken fillets', 6112: 'frozen limeade', 6113: 'lemon rind', 6114: 'golden zucchini', 6115: 'fresh masa', 6116: 'radicchio', 6117: 'thai green curry paste', 6118: 'bitters', 6119: 'watercress leaves', 6120: 'condensed milk', 6121: 'low sodium garbanzo beans', 6122: 'crema mexican', 6123: 'cavolo nero', 6124: 'gluten-free baking powder', 6125: 'minced beef', 6126: 'ground beef', 6127: 'popcorn', 6128: 'candied peel', 6129: 'seafood glaze', 6130: 'chicken thighs', 6131: 'shredded parmesan cheese', 6132: 'rich chicken stock', 6133: 'toasted coconut', 6134: 'hubbard squash', 6135: 'erythritol', 6136: 'reduced fat mayonnaise', 6137: 'tree ears', 6138: 'apples', 6139: 'goose', 6140: 'ground cardamom', 6141: 'sturgeon fillets', 6142: 'tomato juice', 6143: 'proscuitto di parma', 6144: 'comino', 6145: 'fresh pasta', 6146: 'ground peanut', 6147: 'hatcho miso', 6148: 'dried prawns', 6149: 'sago pearls', 6150: 'Jose Cuervo', 6151: 'ground sumac', 6152: 'poblano chiles', 6153: 'pork liver', 6154: 'mozzarella string cheese', 6155: 'pineapple preserves', 6156: 'bbq sauce', 6157: 'chiles', 6158: 'frisee', 6159: 'lime slices', 6160: 'reduced sodium garbanzos', 6161: 'chili flakes', 6162: 'hazelnuts', 6163: 'lipton recip secret golden onion', 6164: 'sprite', 6165: 'Mae Ploy Sweet Chili Sauce', 6166: 'Sargento® Artisan Blends® Shredd', 6167: 'boiling onions', 6168: 'hot bean paste', 6169: 'refrigerated seamless crescent d', 6170: 'crumbled cheese', 6171: 'saltine crumbs', 6172: 'pancit bihon', 6173: 'fritos', 6174: 'pigeon peas', 6175: 'yolk', 6176: 'dill pickles', 6177: 'farmer cheese', 6178: 'frozen whole kernel corn', 6179: 'matzo cake meal', 6180: 'truffle puree', 6181: 'roasted almond oil', 6182: 'dried barberries', 6183: 'low-fat vegetable primavera spag', 6184: 'watercress', 6185: 'BACARDI® Superior', 6186: 'split yellow lentils', 6187: 'garlic', 6188: 'dijon mustard', 6189: 'lamb rib roast', 6190: 'navel oranges', 6191: 'pasta wagon wheel', 6192: 'fat free ground turkey breast', 6193: 'arhar dal', 6194: 'gouda', 6195: 'ancho chile pepper', 6196: 'szechuan sauce', 6197: 'ground tumeric', 6198: 'ravioli', 6199: 'cheese dip', 6200: 'crabmeat', 6201: 'sunflower oil', 6202: 'citrus fruit', 6203: 'broiler', 6204: 'bean soup mix', 6205: 'smoked trout fillets', 6206: 'seasoning mix', 6207: 'wensleydale', 6208: 'liquor', 6209: 'cooked brown rice', 6210: 'marrons', 6211: 'halloumi cheese', 6212: 'chicken gravy', 6213: 'raw peeled prawns', 6214: 'coarse kosher salt', 6215: 'pitted kalamata olives', 6216: 'baked corn tortilla chips', 6217: 'gaeta olives', 6218: 'Soy Vay® Veri Veri Teriyaki® Mar', 6219: 'pak choi', 6220: 'nonfat dry milk powder', 6221: 'bone-in short ribs', 6222: 'low-fat plain yogurt', 6223: 'galangal', 6224: 'king prawns', 6225: 'peaches in heavy syrup', 6226: 'Thai red curry paste', 6227: 'biscotti', 6228: 'kahlua', 6229: 'peeled fresh ginger', 6230: 'short-grain rice', 6231: 'KRAFT Reduced Fat Shredded Mozza', 6232: 'chipotle peppers', 6233: '2% milk shredded mozzarella chee', 6234: 'mahlab', 6235: 'maida flour', 6236: 'rice wine', 6237: 'queso manchego', 6238: 'chicken salad', 6239: 'broiler-fryer chicken', 6240: 'gold tequila', 6241: 'lemon juice', 6242: 'ramen noodle soup', 6243: 'whole wheat submarine loaves', 6244: 'puffed rice', 6245: 'tapenade', 6246: 'white radish', 6247: 'medium cheddar cheese', 6248: 'orange', 6249: 'cheese soup', 6250: 'caster', 6251: 'vegan mayonnaise', 6252: 'fiber one', 6253: 'harissa paste', 6254: 'organic unsalted butter', 6255: 'Pam Cooking Spray', 6256: 'cracker meal', 6257: 'au jus mix', 6258: 'white rice vinegar', 6259: 'hot Italian sausages', 6260: 'broccoli stems', 6261: 'muffin mix', 6262: 'marshmallows', 6263: 'black fungus', 6264: 'applewood smoked bacon', 6265: 'Progresso™ Chicken Broth', 6266: 'kappa', 6267: 'small curd cottage cheese', 6268: 'snow pea shoots', 6269: 'red quinoa', 6270: 'loin pork chops', 6271: 'chicken bouillon', 6272: 'grated parmesan romano', 6273: 'meatballs', 6274: 'white mushrooms', 6275: 'salsify', 6276: 'paprika', 6277: 'digestive biscuit', 6278: 'knorr chicken flavor bouillon cu', 6279: 'cream of chicken soup', 6280: '1% low-fat chocolate milk', 6281: 'tomatillo salsa', 6282: 'oil-cured black olives', 6283: 'veal escalopes', 6284: 'tuaca', 6285: 'tamarind paste', 6286: 'vanilla bean seeds', 6287: 'no-calorie sweetener', 6288: 'refined sugar', 6289: 'dried cherry', 6290: 'tangelos', 6291: 'Knorr Beef Stock Cubes', 6292: 'loosely packed fresh basil leave', 6293: 'orange glaze', 6294: 'cinnamon sticks', 6295: 'minute rice', 6296: 'guava paste', 6297: 'chicory', 6298: 'coffee', 6299: 'shellfish', 6300: 'instant espresso', 6301: 'cipollini onions', 6302: 'virgin olive oil', 6303: 'english breakfast tea leaves', 6304: 'Wholesome Sweeteners Organic Sug', 6305: 'Thai chili paste', 6306: 'Pam No-Stick Cooking Spray', 6307: 'asian rice noodles', 6308: 'shoyu', 6309: 'frogs legs', 6310: 'venison roast', 6311: 'instant banana cream pudding', 6312: 'tandoori masala mix', 6313: 'friselle', 6314: 'minute steaks', 6315: 'boar', 6316: 'gumbo', 6317: 'flat leaf spinach', 6318: 'flat cut', 6319: 'drambuie', 6320: 'calamari', 6321: 'spanish onion', 6322: 'char fillets', 6323: 'lean ground pork', 6324: 'old bay seasoning', 6325: 'chili sauce', 6326: 'cheddar cheese soup', 6327: 'skim milk', 6328: 'sauce', 6329: 'broccoli florets', 6330: 'seasoned ground turkey', 6331: 'nashi', 6332: 'mixed peel', 6333: 'dark rye flour', 6334: 'spelt flour', 6335: 'dried apple rings', 6336: 'mochi', 6337: 'lavender', 6338: 'red grapefruit', 6339: 'rhubarb', 6340: 'red rice', 6341: 'khoa', 6342: 'tomatoes on the vine', 6343: 'pistou', 6344: 'ground lamb', 6345: 'mace', 6346: 'fideos pasta', 6347: 'farofa', 6348: 'hanger steak', 6349: 'crushed tomatoes', 6350: 'Irish whiskey', 6351: 'mullet', 6352: 'flat leaf parsley', 6353: 'mixed mushrooms', 6354: 'bone in skin on chicken thigh', 6355: 'burrito seasoning mix', 6356: 'chicken pan drippings', 6357: 'cavatelli', 6358: 'Azteca Flour Tortillas', 6359: 'tart shells', 6360: \"pig's trotters\", 6361: 'juniper berries', 6362: 'sorghum', 6363: 'roast beef deli meat', 6364: 'puff paste', 6365: 'cream of shrimp soup', 6366: 'butter cake', 6367: 'swordfish', 6368: 'cavatappi', 6369: 'blue cheese dressing', 6370: 'dried black mushrooms', 6371: 'diced celery', 6372: 'hard cider', 6373: 'ground pecans', 6374: 'baby radishes', 6375: 'braising steak', 6376: 'KRAFT Shredded Low-Moisture Part', 6377: 'cake pound prepar', 6378: 'low-fat yogurt', 6379: 'pie pastry', 6380: 'bean curd', 6381: 'mrs. dash seasoning mix', 6382: 'shrimp meat', 6383: 'barilla', 6384: 'fennel bulb', 6385: 'reduced fat cream of mushroom so', 6386: 'peanuts', 6387: 'salad seasoning mix', 6388: 'chinese celery cabbage', 6389: 'smoked rashers', 6390: 'masa dough', 6391: 'sweet soy sauce', 6392: 'Old El Paso™ refried beans', 6393: 'chow mein noodles', 6394: 'Madeira', 6395: 'soft-boiled egg', 6396: '7 Up', 6397: 'mein', 6398: 'vanilla custard', 6399: 'moonshine', 6400: 'romano cheese', 6401: 'ras el hanout', 6402: 'New York Style Panetini® toasts', 6403: 'green pepper', 6404: 'mezcal', 6405: 'gravy granules', 6406: 'parsley sprigs', 6407: 'Frangelico', 6408: 'raspberry preserves', 6409: 'hot chili oil', 6410: 'hazelnut oil', 6411: 'extra sharp white cheddar cheese', 6412: 'boiled eggs', 6413: 'leg of veal', 6414: 'jumbo shell pasta , cook and dra', 6415: 'fresh udon', 6416: 'soda water', 6417: 'wax beans', 6418: 'center-cut salmon fillet', 6419: 'white zinfandel', 6420: 'cooking cream', 6421: 'french bread', 6422: 'carrots', 6423: 'cinnamon candy canes', 6424: 'cardamom seeds', 6425: 'shanghai bok choy', 6426: 'lower sodium chicken broth', 6427: 'bottled italian dressing', 6428: 'grated kefalotiri', 6429: 'fresh basil', 6430: 'low moisture mozzarella', 6431: 'chipotle paste', 6432: 'Robert Mondavi Fume Blanc', 6433: 'palm sugar', 6434: 'peas', 6435: 'chicken carcass', 6436: 'oloroso sherry', 6437: 'hog casings', 6438: 'boneless sirloin steak', 6439: 'green grape', 6440: 'Tapatio Hot Sauce', 6441: 'tart apples', 6442: 'tuna, drain and flake', 6443: 'noodles', 6444: 'low-fat vanilla wafers', 6445: 'jamaican jerk rub', 6446: 'garden peas', 6447: 'poussins', 6448: 'chipotle chile', 6449: 'fine grain salt', 6450: 'meat glaze', 6451: 'rice bran oil', 6452: 'five-spice powder', 6453: 'split black lentils', 6454: 'bacon bits', 6455: 'TABASCO® Chipotle Pepper Sauce', 6456: 'mint leaves', 6457: 'cinnamon graham crackers', 6458: 'Knorr® Pasta Sides™ - Butter & H', 6459: 'artichoke bottoms', 6460: 'praline', 6461: 'finger chili', 6462: 'mushroom caps', 6463: 'truffle oil', 6464: 'clarified butter', 6465: 'bacon drippings', 6466: 'snow pea pods', 6467: 'allspice berries', 6468: 'fruitcake', 6469: 'chinese cabbage', 6470: 'frozen peaches', 6471: 'fresh shiitake mushrooms', 6472: 'orgeat syrup', 6473: 'Gochujang base', 6474: 'cheese sauce', 6475: 'potato starch flour', 6476: 'peppercorns', 6477: 'vietnamese rice paper', 6478: 'butter-flavored spray', 6479: 'corn husks', 6480: 'pomegranate', 6481: 'lemon pudding', 6482: 'chopped pecans', 6483: 'fillets', 6484: 'cherry tomatoes', 6485: 'guajillo chiles', 6486: 'top loin steaks', 6487: 'unsweetened pineapple juice', 6488: 'ceci bean', 6489: 'dried mixed herbs', 6490: 'mousse', 6491: 'lapsang souchong', 6492: 'dried cranberries', 6493: 'braising beef', 6494: 'swanson beef broth', 6495: 'tandoori spices', 6496: 'ricotta cheese', 6497: 'lumpia skins', 6498: 'yellow rice', 6499: 'Spice Islands® Minced Garlic', 6500: 'candy sprinkles', 6501: 'clementine sections', 6502: 'beef broth', 6503: 'won ton wrappers', 6504: 'boneless pork loin', 6505: 'clementines', 6506: 'no-salt-added diced tomatoes', 6507: 'citron', 6508: 'cake batter', 6509: 'blueberri preserv', 6510: 'water chestnuts, drained and cho', 6511: 'small tomatoes', 6512: 'salami', 6513: 'liver pate', 6514: 'chinese rice wine', 6515: 'whole wheat crackers', 6516: 'cajun seasoning', 6517: 'shredded extra sharp cheddar che', 6518: 'turkey broth', 6519: 'whole almonds', 6520: 'white kidney beans', 6521: 'white chocolate chips', 6522: 'dulong', 6523: 'italian style rolls', 6524: 'rotel pasta, cook and drain', 6525: 'pickles', 6526: 'cream cheese with chives', 6527: 'sugar cubes', 6528: 'papad', 6529: 'mint sprigs', 6530: 'fresh bay leaves', 6531: 'blackstrap molasses', 6532: 'channa dal', 6533: 'genmai miso', 6534: 'salted butter', 6535: 'Goya Extra Virgin Olive Oil', 6536: 'lamb rib chops', 6537: 'chinese duck sauce', 6538: 'thousand island dressing', 6539: 'prepar pesto', 6540: 'pure vanilla', 6541: 'roquefort cheese', 6542: 'yeast', 6543: 'shell-on shrimp', 6544: 'nopales', 6545: 'gemelli', 6546: 'Ranch Style Beans', 6547: 'precooked meatballs', 6548: 'blackpepper', 6549: 'sliced olives', 6550: 'oregano leaves', 6551: 'winesap', 6552: 'mexican cooking sauce', 6553: 'gravy mix mushroom', 6554: 'turkey', 6555: 'fat skimmed reduced sodium chick', 6556: 'salad oil', 6557: 'boneless skin on chicken thighs', 6558: 'won ton skins', 6559: 'organic vegetable stock', 6560: 'low-fat white sauce', 6561: 'Heath Candy Bars', 6562: 'light beer', 6563: 'colby cheese', 6564: 'tagliarini', 6565: 'unseasoned breadcrumbs', 6566: 'mini marshmallows', 6567: 'Kikkoman Oyster Sauce', 6568: 'capers', 6569: 'frozen lima beans', 6570: 'italian chicken sausage', 6571: 'low sodium parmesan cheese', 6572: 'whole wheat baguette', 6573: 'smooth natural peanut butter', 6574: 'beluga lentil', 6575: 'assorted fresh vegetables', 6576: 'low sodium pinto beans', 6577: 'back bacon', 6578: 'cajun style stewed tomatoes', 6579: 'dried rigatoni', 6580: 'baking apples', 6581: 'whole wheat couscous', 6582: 'Italian cheese blend', 6583: 'golden syrup', 6584: 'pork blood', 6585: 'italian pizza crust', 6586: 'arepa flour', 6587: 'honey whiskey', 6588: 'yogurt dressing', 6589: 'shortcrust pastry', 6590: 'malt syrup', 6591: 'bouillon cube', 6592: 'Estancia Pinot Noir', 6593: 'rigatoni or large tube pasta', 6594: 'non-dairy margarine', 6595: 'Chambord Liqueur', 6596: 'snow peas', 6597: 'juice', 6598: 'persian cucumber', 6599: 'bread flour', 6600: 'Meyer lemon peel', 6601: 'boneless salmon fillets', 6602: 'side pork', 6603: 'vegetable soup', 6604: 'knorr garlic minicub', 6605: 'mini cucumbers', 6606: 'harusame', 6607: 'gluten free blend', 6608: 'sablefish', 6609: 'stewing hen', 6610: 'parsley', 6611: 'porterhouse steaks', 6612: 'anise', 6613: 'soda bread', 6614: 'pasilla chile pepper', 6615: 'creamed spinach', 6616: 'sprouts', 6617: 'granola', 6618: 'purple potatoes', 6619: 'catfish fillets', 6620: 'nonfat mayonnaise', 6621: 'dipping sauces', 6622: 'rome apples', 6623: 'cubed beef', 6624: 'caul fat', 6625: 'chocolate chip cookie dough ice', 6626: 'turkey tenderloins', 6627: 'Old El Paso Green Chiles', 6628: 'lesser galangal', 6629: 'turkey salami', 6630: 'hard shelled clams', 6631: 'buffalo mozzarella', 6632: 'chicken wing drummettes', 6633: 'Philadelphia Light Cream Cheese', 6634: 'small new potatoes', 6635: 'shungiku', 6636: 'carrot sticks', 6637: 'puff pastry sheets', 6638: 'beef gravy', 6639: 'brown mushroom', 6640: 'asian noodles', 6641: 'madagascar bourbon vanilla extra', 6642: 'ancho chili ground pepper', 6643: 'pie filling', 6644: 'extra sharp cheddar cheese', 6645: 'frozen basil', 6646: 'brandy', 6647: 'buttermilk cornbread', 6648: 'all purpose unbleached flour', 6649: 'veal breast', 6650: 'rosemary leaves', 6651: 'enriched white rice', 6652: 'instant espresso granules', 6653: 'greek yogurt', 6654: 'Tuttorosso Diced Tomatoes', 6655: 'bittersweet baking chocolate', 6656: 'vanilla low-fat ic cream', 6657: 'chunk light tuna in water', 6658: 'cornbread crumbs', 6659: 'seedless raspberry jam', 6660: 'bread and butter pickles', 6661: 'kiwi fruits', 6662: 'annatto seeds', 6663: 'red bartlett pears', 6664: 'toasted sunflower seeds', 6665: 'kecap manis', 6666: 'coleslaw', 6667: 'long green pepper', 6668: 'roasted rice powder', 6669: 'cracked black pepper', 6670: 'coars ground black pepper', 6671: 'rosemary needles', 6672: 'pork cubes', 6673: 'quahog clams', 6674: 'skinless chicken fillets', 6675: 'Castelvetrano olives', 6676: 'soft rolls', 6677: 'Heinz Chili Sauce', 6678: 'bacardi', 6679: 'pork meat', 6680: 'teriyaki marinade', 6681: 'Holland House White Wine Vinegar', 6682: 'jamaican jerk spice', 6683: 'miso', 6684: 'Taiwanese bok choy', 6685: 'granulated garlic', 6686: 'Smart Balance Cooking Spray', 6687: 'sweet pickle juice', 6688: 'pork picnic roast', 6689: 'chicken breast strips', 6690: 'Hidden Valley® Original Ranch® D', 6691: 'riesling', 6692: 'whole wheat rotini pasta', 6693: 'french baguette', 6694: 'Franks Hot Sauce', 6695: 'strip loin steak', 6696: 'Gourmet Garden garlic paste', 6697: 'knorr homestyl stock   chicken', 6698: 'iceberg', 6699: 'low-fat sweetened condensed milk', 6700: 'pinot blanc', 6701: 'gravy master', 6702: 'perciatelli', 6703: '2% reduced-fat milk', 6704: 'black rice', 6705: 'popped popcorn', 6706: 'usukuchi soy sauce', 6707: 'shredded sharp cheddar cheese', 6708: 'hibiscus tea', 6709: 'asian basil', 6710: 'rapeseed oil', 6711: 'onion powder', 6712: 'hawaiian sweet rolls', 6713: 'shredded swiss cheese'}\n"
     ]
    }
   ],
   "source": [
    "df = pd.read_fwf('node_ingredient.csv', header=None)\n",
    "node_ingredient = df[0].values.tolist()\n",
    "print(len(node_ingredient))\n",
    "ing_id_to_str = {i: ing for i,ing in enumerate(node_ingredient)}\n",
    "print(ing_id_to_str)"
   ]
  },
  {
   "cell_type": "code",
   "execution_count": null,
   "metadata": {
    "id": "glbVln7cqYZS"
   },
   "outputs": [],
   "source": [
    "class EmbDataset(TorchDataset):\n",
    "\n",
    "    def __init__(self, data, labels, vocab, unk_emb, ing_dict):\n",
    "        self.data = data\n",
    "        self.labels = labels\n",
    "        self.vocab = vocab\n",
    "        self.unk_emb = unk_emb\n",
    "        self.ing_dict = ing_dict\n",
    "\n",
    "    def __getitem__(self, index):\n",
    "\n",
    "        input_embeddings = []\n",
    "        for id in self.data[index]:\n",
    "          ing_str = self.ing_dict[id]\n",
    "          #print(ing_str)\n",
    "          #print(ing_str)\n",
    "          #ing_emb = [self.vocab[word] if word in self.vocab for word else self.unk_emb in ing_str.lower().split(\" \")]\n",
    "          ing_emb = []\n",
    "          for word in ing_str.lower().split(\" \"):\n",
    "            if word in self.vocab:\n",
    "              ing_emb.append(self.vocab[word])\n",
    "          if not ing_emb:\n",
    "            ing_emb = [self.unk_emb]\n",
    "          #print(ing_emb)\n",
    "          ing_emb = np.mean(ing_emb, axis=0)\n",
    "          #print(ing_emb.shape)\n",
    "          input_embeddings.append(torch.Tensor(ing_emb))\n",
    "        # input_embeddings = [torch.Tensor(self.vocab[word]) if word in self.vocab else self.unk_emb for word in self.ing_dict[self.data[index]]] # UNK if word not found\n",
    "        input_tensor = torch.stack(input_embeddings, dim=1).T\n",
    "        label = torch.LongTensor([self.labels[index]])\n",
    "        return input_tensor, label\n",
    "\n",
    "    def __len__(self):\n",
    "        return len(self.data)"
   ]
  },
  {
   "cell_type": "code",
   "execution_count": null,
   "metadata": {
    "id": "GvwY5iljqo4k"
   },
   "outputs": [],
   "source": [
    "from torch.utils.data import DataLoader\n",
    "\n",
    "padder = Padder(dim=0, pad_symbol=PAD_embedding)\n",
    "train_dataset = EmbDataset(train_ingredients, train_labels, glove_vocab, UNK_embedding, ing_id_to_str)\n",
    "validation_dataset = EmbDataset(val_ingredients, val_labels, glove_vocab, UNK_embedding, ing_id_to_str)\n",
    "train_loader = DataLoader(dataset=train_dataset, batch_size=batch_size, collate_fn = padder, shuffle=True)\n",
    "validation_loader = DataLoader(dataset=validation_dataset, batch_size=batch_size, collate_fn = padder)"
   ]
  },
  {
   "cell_type": "code",
   "execution_count": null,
   "metadata": {
    "id": "XFEZqF5GtE6b"
   },
   "outputs": [],
   "source": [
    "model = Transformer(num_tokens, num_labels, emb_length, num_heads, num_encoder_layers, 0, dropout_p, use_pretrained_embeddings = True)\n",
    "criterion = nn.CrossEntropyLoss()\n",
    "optimizer = torch.optim.Adam(model.parameters(), lr=0.001)"
   ]
  },
  {
   "cell_type": "code",
   "execution_count": null,
   "metadata": {
    "colab": {
     "base_uri": "https://localhost:8080/"
    },
    "id": "0MSUR0bbtHRW",
    "outputId": "d135a139-4a74-45a5-a36b-8dce7129090d"
   },
   "outputs": [
    {
     "name": "stdout",
     "output_type": "stream",
     "text": [
      "Epoch: 0, Training Loss: 2.842891972997914, Validation Loss: 2.7060829997062683\n",
      "Epoch: 1, Training Loss: 2.6269504609315293, Validation Loss: 2.59051650762558\n",
      "Epoch: 2, Training Loss: 2.553463583407195, Validation Loss: 2.5362174808979034\n",
      "Epoch: 3, Training Loss: 2.498174978339154, Validation Loss: 2.488337367773056\n",
      "Epoch: 4, Training Loss: 2.4473945679871933, Validation Loss: 2.4392791986465454\n",
      "Epoch: 5, Training Loss: 2.39649948866471, Validation Loss: 2.3903819918632507\n",
      "Epoch: 6, Training Loss: 2.3431253122246782, Validation Loss: 2.3415041863918304\n",
      "Epoch: 7, Training Loss: 2.2914845839790674, Validation Loss: 2.293892055749893\n",
      "Epoch: 8, Training Loss: 2.2414082547892695, Validation Loss: 2.247974932193756\n",
      "Epoch: 9, Training Loss: 2.192669630050659, Validation Loss: 2.203691750764847\n"
     ]
    }
   ],
   "source": [
    "train(model, criterion, optimizer, train_loader, validation_loader, epochs=10)"
   ]
  },
  {
   "cell_type": "code",
   "execution_count": null,
   "metadata": {
    "colab": {
     "base_uri": "https://localhost:8080/"
    },
    "id": "rjs6U7yux7lw",
    "outputId": "d877e1bc-bce3-4bf8-e20f-e570a85cfb70"
   },
   "outputs": [
    {
     "name": "stdout",
     "output_type": "stream",
     "text": [
      "tensor(0.4054, device='cuda:0')\n",
      "tensor(0.3897, device='cuda:0')\n"
     ]
    }
   ],
   "source": [
    "print(measure_accuracy(model, train_loader))\n",
    "print(measure_accuracy(model, validation_loader))"
   ]
  },
  {
   "cell_type": "code",
   "execution_count": null,
   "metadata": {
    "id": "PL1XANMr1dCV"
   },
   "outputs": [],
   "source": [
    "# 0.58 0.57 with unk, 0.6 0.59 without (10 epochs)\n",
    "# 0.81 0.7430 40 epochs (worse than trained encoding)\n",
    "# 0.8795 0.7630 60 epochs (no further improvement)"
   ]
  },
  {
   "cell_type": "markdown",
   "metadata": {
    "id": "NuOEsJhjFzPm"
   },
   "source": [
    "# Completion task"
   ]
  },
  {
   "cell_type": "code",
   "execution_count": 41,
   "metadata": {
    "colab": {
     "base_uri": "https://localhost:8080/"
    },
    "id": "WtiOUBPXF24U",
    "outputId": "b11b0670-dd72-4efa-8c6e-8a7ba4d0dcf6"
   },
   "outputs": [
    {
     "name": "stdout",
     "output_type": "stream",
     "text": [
      "253453 253453\n"
     ]
    }
   ],
   "source": [
    "completion_data = []\n",
    "completion_labels = []\n",
    "\n",
    "for recipe in train_ingredients:\n",
    "  ingredients_num = len(recipe)\n",
    "  for i in range(ingredients_num):\n",
    "    incomplete_recipe = recipe[:ingredients_num].copy()\n",
    "    missing_ingredient = incomplete_recipe.pop(i)\n",
    "\n",
    "    completion_data.append(incomplete_recipe)\n",
    "    completion_labels.append(missing_ingredient)\n",
    "\n",
    "print(len(completion_data), len(completion_labels))"
   ]
  },
  {
   "cell_type": "code",
   "execution_count": 42,
   "metadata": {},
   "outputs": [
    {
     "name": "stdout",
     "output_type": "stream",
     "text": [
      "58\n"
     ]
    }
   ],
   "source": [
    "max_len = max(completion_data, key = lambda x: len(x))\n",
    "print(len(max_len))"
   ]
  },
  {
   "cell_type": "code",
   "execution_count": 43,
   "metadata": {},
   "outputs": [
    {
     "name": "stdout",
     "output_type": "stream",
     "text": [
      "7848 7848\n"
     ]
    }
   ],
   "source": [
    "df = pd.read_csv('validation_completion_question.csv', engine= 'python', sep='\\,',  names=list(range(60)))\n",
    "df1 = df.fillna(0)\n",
    "val_x = df1.values.tolist()\n",
    "\n",
    "df = pd.read_csv('validation_completion_answer.csv', engine= 'python', sep='\\,',  names=list(range(60)))\n",
    "df1 = df.fillna(0)\n",
    "val_y = df1.values.tolist()\n",
    "\n",
    "print(len(val_x), len(val_y))"
   ]
  },
  {
   "cell_type": "code",
   "execution_count": 44,
   "metadata": {},
   "outputs": [
    {
     "name": "stdout",
     "output_type": "stream",
     "text": [
      "7848 7848\n"
     ]
    }
   ],
   "source": [
    "val_ingredients = []\n",
    "val_labels = []\n",
    "\n",
    "for i in range(len(val_x)):\n",
    "  R_l = [v for v in val_x[i] if v !=0]\n",
    "  val_ingredients.append(list(map(int, R_l[:-1]))) \n",
    "  val_labels.append(int(val_y[i][0]))\n",
    "\n",
    "print(len(val_ingredients), len(val_labels))"
   ]
  },
  {
   "cell_type": "code",
   "execution_count": 45,
   "metadata": {},
   "outputs": [],
   "source": [
    "# val_ingredients = []\n",
    "# val_labels = []\n",
    "\n",
    "# for i in range(len(val_x)):\n",
    "#   if None in val_x[i]:\n",
    "#     recipe_length = val_x[i].index(None)\n",
    "#   else:\n",
    "#     recipe_length = len(val_x[i])\n",
    "#   if val_x[i][recipe_length-1] == \"\":\n",
    "#     val_ingredients.append(list(map(int, val_x[i][:recipe_length-1]))) # without one ingredient ??\n",
    "#   else:\n",
    "#     val_ingredients.append(list(map(int, val_x[i][:recipe_length])))\n",
    "#   val_labels.append(val_y[i])\n",
    "\n",
    "# print(len(val_ingredients), len(val_labels))"
   ]
  },
  {
   "cell_type": "code",
   "execution_count": 46,
   "metadata": {},
   "outputs": [],
   "source": [
    "# import csv\n",
    "# with open('completion_train.csv', 'w', newline='') as f:\n",
    "      \n",
    "#     # using csv.writer method from CSV package\n",
    "#     write = csv.writer(f)\n",
    "#     write.writerows(completion_data)"
   ]
  },
  {
   "cell_type": "code",
   "execution_count": 47,
   "metadata": {},
   "outputs": [],
   "source": [
    "# import csv\n",
    "# with open('completion_labels.csv', 'w', newline='') as f:\n",
    "      \n",
    "#     # using csv.writer method from CSV package\n",
    "#     write = csv.writer(f)\n",
    "#     write.writerows([completion_labels])"
   ]
  },
  {
   "cell_type": "code",
   "execution_count": 48,
   "metadata": {
    "id": "DXViAMNlKJXU"
   },
   "outputs": [],
   "source": [
    "from torch.utils.data import DataLoader\n",
    "\n",
    "padder = Padder(dim=1, pad_symbol=0)\n",
    "train_dataset = Dataset(completion_data, completion_labels)\n",
    "validation_dataset = Dataset(val_ingredients, val_labels)\n",
    "train_loader = DataLoader(dataset=train_dataset, batch_size=batch_size, collate_fn = padder, shuffle=True)\n",
    "validation_loader = DataLoader(dataset=validation_dataset, batch_size=batch_size, collate_fn = padder)"
   ]
  },
  {
   "cell_type": "code",
   "execution_count": 49,
   "metadata": {
    "colab": {
     "base_uri": "https://localhost:8080/"
    },
    "id": "a3K-adiDN6A9",
    "outputId": "f76c82ab-87ba-4a98-ef65-f7a74a00ba4c"
   },
   "outputs": [
    {
     "name": "stdout",
     "output_type": "stream",
     "text": [
      "(tensor([[2813, 3229, 3885, 4379, 4390, 5250, 5456, 6187]]), tensor([3146]))\n"
     ]
    }
   ],
   "source": [
    "print(train_dataset[1])"
   ]
  },
  {
   "cell_type": "code",
   "execution_count": 50,
   "metadata": {
    "id": "qN061SvcLqWg"
   },
   "outputs": [],
   "source": [
    "model = Transformer(num_tokens, num_tokens, dim_model, num_heads, num_encoder_layers, num_decoder_layers, dropout_p)\n",
    "criterion = nn.CrossEntropyLoss()\n",
    "optimizer = torch.optim.Adam(model.parameters(), lr=0.001)"
   ]
  },
  {
   "cell_type": "code",
   "execution_count": 51,
   "metadata": {
    "colab": {
     "base_uri": "https://localhost:8080/"
    },
    "id": "j-KDPWK0LtVg",
    "outputId": "369e1050-a6a2-4928-ffaa-172215c880c1"
   },
   "outputs": [
    {
     "name": "stdout",
     "output_type": "stream",
     "text": [
      "Epoch: 0, Training Loss: 6.538893952259022, Validation Loss: 6.410460518252465\n",
      "tensor(0.0400, device='cuda:0')\n",
      "Epoch: 1, Training Loss: 6.3007899254530395, Validation Loss: 6.182196509453558\n",
      "tensor(0.0487, device='cuda:0')\n",
      "Epoch: 2, Training Loss: 6.076858339107602, Validation Loss: 6.050140150131718\n",
      "tensor(0.0570, device='cuda:0')\n",
      "Epoch: 3, Training Loss: 5.924446343172691, Validation Loss: 5.928442016724618\n",
      "tensor(0.0669, device='cuda:0')\n",
      "Epoch: 4, Training Loss: 5.779839670622024, Validation Loss: 5.8316786366124305\n",
      "tensor(0.0765, device='cuda:0')\n",
      "Epoch: 5, Training Loss: 5.642403364422102, Validation Loss: 5.7189845269726165\n",
      "tensor(0.0873, device='cuda:0')\n",
      "Epoch: 6, Training Loss: 5.516332074924627, Validation Loss: 5.654345481626449\n",
      "tensor(0.0937, device='cuda:0')\n",
      "Epoch: 7, Training Loss: 5.393568569187199, Validation Loss: 5.580202671789354\n",
      "tensor(0.1030, device='cuda:0')\n",
      "Epoch: 8, Training Loss: 5.286091132794331, Validation Loss: 5.613425562458653\n",
      "tensor(0.1028, device='cuda:0')\n",
      "Epoch: 9, Training Loss: 5.191415922913614, Validation Loss: 5.596551310631536\n",
      "tensor(0.1055, device='cuda:0')\n",
      "Epoch: 10, Training Loss: 5.095176708806536, Validation Loss: 5.59571466138286\n",
      "tensor(0.1073, device='cuda:0')\n",
      "Epoch: 11, Training Loss: 5.007299752336458, Validation Loss: 5.578912304293725\n",
      "tensor(0.1110, device='cuda:0')\n",
      "Epoch: 12, Training Loss: 4.921222841703567, Validation Loss: 5.645962192166236\n",
      "tensor(0.1084, device='cuda:0')\n",
      "Epoch: 13, Training Loss: 4.842852487092543, Validation Loss: 5.5957276590408815\n",
      "tensor(0.1140, device='cuda:0')\n",
      "Epoch: 14, Training Loss: 4.76628946464069, Validation Loss: 5.704642280455558\n",
      "tensor(0.1116, device='cuda:0')\n",
      "Epoch: 15, Training Loss: 4.688527237635207, Validation Loss: 5.7002171547182146\n",
      "tensor(0.1120, device='cuda:0')\n",
      "Epoch: 16, Training Loss: 4.614711271645924, Validation Loss: 5.713757699535739\n",
      "tensor(0.1146, device='cuda:0')\n",
      "Epoch: 17, Training Loss: 4.540736349993108, Validation Loss: 5.806923927799348\n",
      "tensor(0.1105, device='cuda:0')\n",
      "Epoch: 18, Training Loss: 4.4792721444735255, Validation Loss: 5.801202774047852\n",
      "tensor(0.1153, device='cuda:0')\n",
      "Epoch: 19, Training Loss: 4.410597257007865, Validation Loss: 5.854347828895815\n",
      "tensor(0.1115, device='cuda:0')\n"
     ]
    }
   ],
   "source": [
    "train(model, criterion, optimizer, train_loader, validation_loader, epochs=20)"
   ]
  },
  {
   "cell_type": "code",
   "execution_count": 52,
   "metadata": {
    "colab": {
     "base_uri": "https://localhost:8080/"
    },
    "id": "7kg7YAPmMZko",
    "outputId": "151b0bff-674c-4be2-df64-bf3c0147e8bd"
   },
   "outputs": [
    {
     "name": "stdout",
     "output_type": "stream",
     "text": [
      "tensor(0.2061, device='cuda:0')\n",
      "tensor(0.1115, device='cuda:0')\n"
     ]
    }
   ],
   "source": [
    "print(measure_accuracy(model, train_loader))\n",
    "print(measure_accuracy(model, validation_loader))\n",
    "# Prev version (wrong)\n",
    "# 20 epcohs, 0.1745 0.1073 5.72(val loss) (0.1121)\n",
    "# 25 epochs, 0.2093 0.1140 6.10(val loss)\n",
    "\n",
    "#New version\n",
    "# 8 epochs, 0.0948val\n",
    "# 20 epochs, 0.1937 0.1242 (5.43 val loss)\n",
    "# 34 epochs 0.1282 (5.63 loss)"
   ]
  },
  {
   "cell_type": "markdown",
   "metadata": {
    "id": "V8AHRk7sQIRP"
   },
   "source": [
    "# Mutlti-task experiments"
   ]
  },
  {
   "cell_type": "code",
   "execution_count": 16,
   "metadata": {
    "id": "FR6BQAcxhREC"
   },
   "outputs": [
    {
     "name": "stdout",
     "output_type": "stream",
     "text": [
      "246547 246547\n"
     ]
    }
   ],
   "source": [
    "# multitask_data = []\n",
    "# multitask_labels = []\n",
    "\n",
    "# for recipe in data:\n",
    "#   if None in recipe:\n",
    "#       ingredients_num = recipe.index(None) - 1\n",
    "#   else:\n",
    "#       ingredients_num = len(recipe) - 1\n",
    "#   if recipe[ingredients_num] in cusine_vocab:\n",
    "#     for i in range(ingredients_num):\n",
    "#       incomplete_recipe = list(map(int, recipe[:ingredients_num].copy()))\n",
    "#       #print(recipe, ingredients_num)\n",
    "#       missing_ingredient = incomplete_recipe.pop(i)\n",
    "#       #incomplete_recipe.insert(0, 6714 + cusine_vocab[recipe[ingredients_num]])\n",
    "\n",
    "#       multitask_data.append(incomplete_recipe)\n",
    "#       multitask_labels.append([cusine_vocab[recipe[ingredients_num]], missing_ingredient])\n",
    "\n",
    "# print(len(multitask_data), len(multitask_labels))"
   ]
  },
  {
   "cell_type": "code",
   "execution_count": 53,
   "metadata": {},
   "outputs": [
    {
     "name": "stdout",
     "output_type": "stream",
     "text": [
      "253453 253453\n"
     ]
    }
   ],
   "source": [
    "multitask_data = []\n",
    "multitask_labels = []\n",
    "\n",
    "\n",
    "for recipe, cusine in zip(train_ingredients, train_labels):\n",
    "  ingredients_num = len(recipe)\n",
    "  for i in range(ingredients_num):\n",
    "    incomplete_recipe = recipe[:ingredients_num].copy()\n",
    "    #print(recipe, ingredients_num)\n",
    "    missing_ingredient = incomplete_recipe.pop(i)\n",
    "    #incomplete_recipe.insert(0, 6714 + cusine_vocab[recipe[ingredients_num]])\n",
    "\n",
    "    multitask_data.append(incomplete_recipe)\n",
    "    multitask_labels.append([cusine, missing_ingredient])\n",
    "    \n",
    "print(len(multitask_data), len(multitask_labels))"
   ]
  },
  {
   "cell_type": "code",
   "execution_count": 54,
   "metadata": {},
   "outputs": [],
   "source": [
    "from torch import nn\n",
    "\n",
    "class MiltitaskTransformer(nn.Module):\n",
    "  def __init__(self, num_tokens, num_labels, dim_model, num_heads, num_encoder_layers, num_decoder_layers, dropout_p, use_pretrained_embeddings = False):\n",
    "    super(MiltitaskTransformer, self).__init__()\n",
    "    self.use_pretrained_embeddings = use_pretrained_embeddings\n",
    "    if not use_pretrained_embeddings:\n",
    "      self.embedding = nn.Embedding(num_tokens, dim_model)\n",
    "    self.transformer = nn.Transformer(\n",
    "            d_model=dim_model,\n",
    "            nhead=num_heads,\n",
    "            num_encoder_layers=num_encoder_layers,\n",
    "            num_decoder_layers=num_decoder_layers,\n",
    "            dim_feedforward=1024,\n",
    "            dropout=dropout_p,\n",
    "        )\n",
    "    self.linear_cuisine = nn.Linear(dim_model, num_labels)\n",
    "    self.linear_ingredients = nn.Linear(dim_model, num_tokens)\n",
    "\n",
    "  def forward(self, input_tensor):\n",
    "    if not self.use_pretrained_embeddings:\n",
    "       x = self.embedding(input_tensor).squeeze(1)\n",
    "    else:\n",
    "      x = input_tensor\n",
    "    # print(x.shape)\n",
    "   # x = x.permute(1, 0, 2)\n",
    "    transformer_out = self.transformer(x, x)\n",
    "    #print(transformer_out.shape)\n",
    "    out_cuisine = self.linear_cuisine(torch.mean(transformer_out, dim=1))\n",
    "    out_ingredients = self.linear_ingredients(torch.mean(transformer_out, dim=1))\n",
    "    #out = self.linear(transformer_out[:,0,:])\n",
    "    return out_cuisine, out_ingredients"
   ]
  },
  {
   "cell_type": "code",
   "execution_count": 55,
   "metadata": {},
   "outputs": [],
   "source": [
    "import tqdm\n",
    "\n",
    "def train_multitask(model, criterion, optimizer, data_loader, validation_loader_cuisine, validation_loader_ingredients, epochs, clipping_on=False):\n",
    "  model.to(device=device)\n",
    "  for epoch in range(epochs):\n",
    "    model.train()\n",
    "    running_loss = 0.0\n",
    "    for batch in  tqdm.tqdm(data_loader):\n",
    "      x = batch[0].to(device=device)\n",
    "      #print(x[0])\n",
    "      #print(batch[1].shape)\n",
    "      y_cuisine = batch[1][:,:,0].flatten().to(device=device)\n",
    "      y_ingredients = batch[1][:,:,1].flatten().to(device=device)\n",
    "      preds_cuisine, preds_ingredients = model(x)\n",
    "      #print(preds.shape, y.shape)\n",
    "      loss = criterion(preds_cuisine, y_cuisine) + criterion(preds_ingredients, y_ingredients)\n",
    "      optimizer.zero_grad()\n",
    "      loss.backward()\n",
    "      if clipping_on:\n",
    "        nn.utils.clip_grad_norm_(model.parameters(), 1)\n",
    "      optimizer.step()\n",
    "      running_loss += loss.item()\n",
    "\n",
    "    epoch_loss = running_loss / len(data_loader)\n",
    "\n",
    "    val_loss_cuisine = 0.0\n",
    "    val_loss_ingredients = 0.0\n",
    "    model.eval()\n",
    "    with torch.no_grad():\n",
    "      for batch in validation_loader_cuisine:\n",
    "          x = batch[0].to(device=device)\n",
    "          y = batch[1].flatten().to(device=device)\n",
    "          preds_cuisine, preds_ingredients = model(x)\n",
    "          loss = criterion(preds_cuisine, y)\n",
    "          val_loss_cuisine += loss.item()\n",
    "            \n",
    "      for batch in validation_loader_ingredients:\n",
    "          x = batch[0].to(device=device)\n",
    "          y = batch[1].flatten().to(device=device)\n",
    "          preds_cuisine, preds_ingredients = model(x)\n",
    "          loss = criterion(preds_ingredients, y)\n",
    "          val_loss_ingredients += loss.item()\n",
    "      val_loss_cuisine /= len(validation_loader_cuisine)\n",
    "      val_loss_ingredients /= len(validation_loader_ingredients)\n",
    "        \n",
    "    print('Epoch: {}, Training Loss: {}, Validation Loss Cuisine: {}, Validation Loss Ingredients: {}'.format(epoch, epoch_loss, val_loss_cuisine, val_loss_ingredients))\n",
    "    #print(measure_accuracy(model, train_loader))\n",
    "    print(\"Validation classification accuracy: {}\".format(measure_accuracy(model, validation_loader_cuisine, multitask_switch=\"cuisine\")))\n",
    "    print(\"Validation completion accuracy: {}\".format(measure_accuracy(model, validation_loader_ingredients, multitask_switch=\"ingredients\")))"
   ]
  },
  {
   "cell_type": "code",
   "execution_count": 56,
   "metadata": {},
   "outputs": [],
   "source": [
    "from torch.utils.data import DataLoader\n",
    "\n",
    "padder = Padder(dim=1, pad_symbol=-1)\n",
    "train_dataset = Dataset(multitask_data, multitask_labels)\n",
    "validation_dataset_cuisine = Dataset(val_ingredients_c, val_labels_c)\n",
    "validation_dataset_ingredients = Dataset(val_ingredients, val_labels)\n",
    "train_loader = DataLoader(dataset=train_dataset, batch_size=batch_size, collate_fn = padder, shuffle=True)\n",
    "validation_loader_cuisine = DataLoader(dataset=validation_dataset_cuisine, batch_size=batch_size, collate_fn = padder)\n",
    "validation_loader_ingredients = DataLoader(dataset=validation_dataset_ingredients, batch_size=batch_size, collate_fn = padder)"
   ]
  },
  {
   "cell_type": "code",
   "execution_count": 57,
   "metadata": {},
   "outputs": [],
   "source": [
    "batch_size = 256\n",
    "epochs = 20 # 40 0.7469\n",
    "\n",
    "num_labels = len(cusine_vocab)\n",
    "num_tokens = 6714\n",
    "dim_model = 128\n",
    "num_heads = 4\n",
    "num_encoder_layers = 1\n",
    "num_decoder_layers = 1\n",
    "dropout_p = 0.3\n",
    "# 1024 dim_feedforward"
   ]
  },
  {
   "cell_type": "code",
   "execution_count": 58,
   "metadata": {},
   "outputs": [],
   "source": [
    "model = MiltitaskTransformer(num_tokens, num_labels, dim_model, num_heads, num_encoder_layers, num_decoder_layers, dropout_p)\n",
    "criterion = nn.CrossEntropyLoss()\n",
    "optimizer = torch.optim.AdamW(model.parameters(), lr=0.001)"
   ]
  },
  {
   "cell_type": "code",
   "execution_count": 59,
   "metadata": {},
   "outputs": [
    {
     "name": "stderr",
     "output_type": "stream",
     "text": [
      "100%|████████████████████████████████████████████████████████████████████████████████| 991/991 [01:09<00:00, 14.29it/s]\n"
     ]
    },
    {
     "name": "stdout",
     "output_type": "stream",
     "text": [
      "Epoch: 0, Training Loss: 7.9988337693854366, Validation Loss Cuisine: 1.3444204445808166, Validation Loss Ingredients: 6.106983584742392\n",
      "Validation classification accuracy: 0.5939092636108398\n",
      "Validation completion accuracy: 0.041029561311006546\n"
     ]
    },
    {
     "name": "stderr",
     "output_type": "stream",
     "text": [
      "100%|████████████████████████████████████████████████████████████████████████████████| 991/991 [01:09<00:00, 14.31it/s]\n"
     ]
    },
    {
     "name": "stdout",
     "output_type": "stream",
     "text": [
      "Epoch: 1, Training Loss: 6.910449245021755, Validation Loss Cuisine: 1.0774759188775094, Validation Loss Ingredients: 5.913303036843577\n",
      "Validation classification accuracy: 0.6986492872238159\n",
      "Validation completion accuracy: 0.0569571852684021\n"
     ]
    },
    {
     "name": "stderr",
     "output_type": "stream",
     "text": [
      "100%|████████████████████████████████████████████████████████████████████████████████| 991/991 [01:09<00:00, 14.34it/s]\n"
     ]
    },
    {
     "name": "stdout",
     "output_type": "stream",
     "text": [
      "Epoch: 2, Training Loss: 6.484796071269077, Validation Loss Cuisine: 1.0520337531643529, Validation Loss Ingredients: 5.794048432380922\n",
      "Validation classification accuracy: 0.714194655418396\n",
      "Validation completion accuracy: 0.07097349315881729\n"
     ]
    },
    {
     "name": "stderr",
     "output_type": "stream",
     "text": [
      "100%|████████████████████████████████████████████████████████████████████████████████| 991/991 [01:08<00:00, 14.39it/s]\n"
     ]
    },
    {
     "name": "stdout",
     "output_type": "stream",
     "text": [
      "Epoch: 3, Training Loss: 6.214806444108426, Validation Loss Cuisine: 1.0596061560415453, Validation Loss Ingredients: 5.707513824585946\n",
      "Validation classification accuracy: 0.7265545129776001\n",
      "Validation completion accuracy: 0.08282364904880524\n"
     ]
    },
    {
     "name": "stderr",
     "output_type": "stream",
     "text": [
      "100%|████████████████████████████████████████████████████████████████████████████████| 991/991 [01:09<00:00, 14.31it/s]\n"
     ]
    },
    {
     "name": "stdout",
     "output_type": "stream",
     "text": [
      "Epoch: 4, Training Loss: 6.008292115420313, Validation Loss Cuisine: 1.0893502658413303, Validation Loss Ingredients: 5.609276263944564\n",
      "Validation classification accuracy: 0.7315239310264587\n",
      "Validation completion accuracy: 0.09148827195167542\n"
     ]
    },
    {
     "name": "stderr",
     "output_type": "stream",
     "text": [
      "100%|████████████████████████████████████████████████████████████████████████████████| 991/991 [01:09<00:00, 14.25it/s]\n"
     ]
    },
    {
     "name": "stdout",
     "output_type": "stream",
     "text": [
      "Epoch: 5, Training Loss: 5.838397726642135, Validation Loss Cuisine: 1.129301248058196, Validation Loss Ingredients: 5.5698552285471274\n",
      "Validation classification accuracy: 0.7312690615653992\n",
      "Validation completion accuracy: 0.09849642962217331\n"
     ]
    },
    {
     "name": "stderr",
     "output_type": "stream",
     "text": [
      "100%|████████████████████████████████████████████████████████████████████████████████| 991/991 [01:09<00:00, 14.28it/s]\n"
     ]
    },
    {
     "name": "stdout",
     "output_type": "stream",
     "text": [
      "Epoch: 6, Training Loss: 5.695357624384998, Validation Loss Cuisine: 1.1151477175374185, Validation Loss Ingredients: 5.533684745911629\n",
      "Validation classification accuracy: 0.7380223870277405\n",
      "Validation completion accuracy: 0.10512232035398483\n"
     ]
    },
    {
     "name": "stderr",
     "output_type": "stream",
     "text": [
      "100%|████████████████████████████████████████████████████████████████████████████████| 991/991 [01:09<00:00, 14.31it/s]\n"
     ]
    },
    {
     "name": "stdout",
     "output_type": "stream",
     "text": [
      "Epoch: 7, Training Loss: 5.564372321551311, Validation Loss Cuisine: 1.163881294188961, Validation Loss Ingredients: 5.504753251229563\n",
      "Validation classification accuracy: 0.7333078384399414\n",
      "Validation completion accuracy: 0.10754331946372986\n"
     ]
    },
    {
     "name": "stderr",
     "output_type": "stream",
     "text": [
      "100%|████████████████████████████████████████████████████████████████████████████████| 991/991 [01:09<00:00, 14.30it/s]\n"
     ]
    },
    {
     "name": "stdout",
     "output_type": "stream",
     "text": [
      "Epoch: 8, Training Loss: 5.45583743115607, Validation Loss Cuisine: 1.1937509063751466, Validation Loss Ingredients: 5.502894432313981\n",
      "Validation classification accuracy: 0.7404434084892273\n",
      "Validation completion accuracy: 0.1070336326956749\n"
     ]
    },
    {
     "name": "stderr",
     "output_type": "stream",
     "text": [
      "100%|████████████████████████████████████████████████████████████████████████████████| 991/991 [01:09<00:00, 14.27it/s]\n"
     ]
    },
    {
     "name": "stdout",
     "output_type": "stream",
     "text": [
      "Epoch: 9, Training Loss: 5.348772556100917, Validation Loss Cuisine: 1.2183376608356353, Validation Loss Ingredients: 5.546816026010821\n",
      "Validation classification accuracy: 0.7413353323936462\n",
      "Validation completion accuracy: 0.11136595159769058\n"
     ]
    },
    {
     "name": "stderr",
     "output_type": "stream",
     "text": [
      "100%|████████████████████████████████████████████████████████████████████████████████| 991/991 [01:08<00:00, 14.37it/s]\n"
     ]
    },
    {
     "name": "stdout",
     "output_type": "stream",
     "text": [
      "Epoch: 10, Training Loss: 5.248269548810695, Validation Loss Cuisine: 1.2512067287198958, Validation Loss Ingredients: 5.522054256931428\n",
      "Validation classification accuracy: 0.7297400236129761\n",
      "Validation completion accuracy: 0.11034657806158066\n"
     ]
    },
    {
     "name": "stderr",
     "output_type": "stream",
     "text": [
      "100%|████████████████████████████████████████████████████████████████████████████████| 991/991 [01:09<00:00, 14.28it/s]\n"
     ]
    },
    {
     "name": "stdout",
     "output_type": "stream",
     "text": [
      "Epoch: 11, Training Loss: 5.152716701134183, Validation Loss Cuisine: 1.2560863610236876, Validation Loss Ingredients: 5.562415784405124\n",
      "Validation classification accuracy: 0.7354739904403687\n",
      "Validation completion accuracy: 0.1112385243177414\n"
     ]
    },
    {
     "name": "stderr",
     "output_type": "stream",
     "text": [
      "100%|████████████████████████████████████████████████████████████████████████████████| 991/991 [01:09<00:00, 14.28it/s]\n"
     ]
    },
    {
     "name": "stdout",
     "output_type": "stream",
     "text": [
      "Epoch: 12, Training Loss: 5.06724993612403, Validation Loss Cuisine: 1.2677297553708475, Validation Loss Ingredients: 5.569543023263255\n",
      "Validation classification accuracy: 0.7375127077102661\n",
      "Validation completion accuracy: 0.11238531768321991\n"
     ]
    },
    {
     "name": "stderr",
     "output_type": "stream",
     "text": [
      "100%|████████████████████████████████████████████████████████████████████████████████| 991/991 [01:09<00:00, 14.21it/s]\n"
     ]
    },
    {
     "name": "stdout",
     "output_type": "stream",
     "text": [
      "Epoch: 13, Training Loss: 4.984631970479678, Validation Loss Cuisine: 1.3073575054445574, Validation Loss Ingredients: 5.608060636828022\n",
      "Validation classification accuracy: 0.7280835509300232\n",
      "Validation completion accuracy: 0.11365952342748642\n"
     ]
    },
    {
     "name": "stderr",
     "output_type": "stream",
     "text": [
      "100%|████████████████████████████████████████████████████████████████████████████████| 991/991 [01:09<00:00, 14.24it/s]\n"
     ]
    },
    {
     "name": "stdout",
     "output_type": "stream",
     "text": [
      "Epoch: 14, Training Loss: 4.898566801781371, Validation Loss Cuisine: 1.3136495697882868, Validation Loss Ingredients: 5.620637355312224\n",
      "Validation classification accuracy: 0.7335626482963562\n",
      "Validation completion accuracy: 0.1125127375125885\n"
     ]
    },
    {
     "name": "stderr",
     "output_type": "stream",
     "text": [
      "100%|████████████████████████████████████████████████████████████████████████████████| 991/991 [01:09<00:00, 14.36it/s]\n"
     ]
    },
    {
     "name": "stdout",
     "output_type": "stream",
     "text": [
      "Epoch: 15, Training Loss: 4.8194081944485845, Validation Loss Cuisine: 1.3534329514349661, Validation Loss Ingredients: 5.646547578996228\n",
      "Validation classification accuracy: 0.732798159122467\n",
      "Validation completion accuracy: 0.11416921019554138\n"
     ]
    },
    {
     "name": "stderr",
     "output_type": "stream",
     "text": [
      "100%|████████████████████████████████████████████████████████████████████████████████| 991/991 [01:09<00:00, 14.29it/s]\n"
     ]
    },
    {
     "name": "stdout",
     "output_type": "stream",
     "text": [
      "Epoch: 16, Training Loss: 4.746524697716614, Validation Loss Cuisine: 1.3674533501748116, Validation Loss Ingredients: 5.6976683370528685\n",
      "Validation classification accuracy: 0.7353465557098389\n",
      "Validation completion accuracy: 0.11455146968364716\n"
     ]
    },
    {
     "name": "stderr",
     "output_type": "stream",
     "text": [
      "100%|████████████████████████████████████████████████████████████████████████████████| 991/991 [01:08<00:00, 14.37it/s]\n"
     ]
    },
    {
     "name": "stdout",
     "output_type": "stream",
     "text": [
      "Epoch: 17, Training Loss: 4.677319370774039, Validation Loss Cuisine: 1.368550464030235, Validation Loss Ingredients: 5.739656571419008\n",
      "Validation classification accuracy: 0.7284657955169678\n",
      "Validation completion accuracy: 0.11544342339038849\n"
     ]
    },
    {
     "name": "stderr",
     "output_type": "stream",
     "text": [
      "100%|████████████████████████████████████████████████████████████████████████████████| 991/991 [01:09<00:00, 14.27it/s]\n"
     ]
    },
    {
     "name": "stdout",
     "output_type": "stream",
     "text": [
      "Epoch: 18, Training Loss: 4.607863224118076, Validation Loss Cuisine: 1.3775022452877415, Validation Loss Ingredients: 5.766874697900588\n",
      "Validation classification accuracy: 0.7279561161994934\n",
      "Validation completion accuracy: 0.11404179036617279\n"
     ]
    },
    {
     "name": "stderr",
     "output_type": "stream",
     "text": [
      "100%|████████████████████████████████████████████████████████████████████████████████| 991/991 [01:09<00:00, 14.26it/s]\n"
     ]
    },
    {
     "name": "stdout",
     "output_type": "stream",
     "text": [
      "Epoch: 19, Training Loss: 4.539788564447197, Validation Loss Cuisine: 1.4195415300707663, Validation Loss Ingredients: 5.790287263931766\n",
      "Validation classification accuracy: 0.7255351543426514\n",
      "Validation completion accuracy: 0.1153159961104393\n"
     ]
    }
   ],
   "source": [
    "train_multitask(model, criterion, optimizer, train_loader, validation_loader_cuisine, validation_loader_ingredients, epochs=20)"
   ]
  },
  {
   "cell_type": "code",
   "execution_count": null,
   "metadata": {},
   "outputs": [],
   "source": [
    "#75.8 and 14.1 (11 epochs: 75.5, 13.6)"
   ]
  },
  {
   "cell_type": "code",
   "execution_count": 173,
   "metadata": {},
   "outputs": [],
   "source": [
    "import gc\n",
    "\n",
    "model = None\n",
    "gc.collect()\n",
    "with torch.no_grad():\n",
    "    torch.cuda.empty_cache()"
   ]
  },
  {
   "cell_type": "code",
   "execution_count": null,
   "metadata": {},
   "outputs": [],
   "source": []
  }
 ],
 "metadata": {
  "accelerator": "GPU",
  "colab": {
   "collapsed_sections": [],
   "name": "receipt_transformers.ipynb",
   "provenance": []
  },
  "kernelspec": {
   "display_name": "Python 3",
   "language": "python",
   "name": "python3"
  },
  "language_info": {
   "codemirror_mode": {
    "name": "ipython",
    "version": 3
   },
   "file_extension": ".py",
   "mimetype": "text/x-python",
   "name": "python",
   "nbconvert_exporter": "python",
   "pygments_lexer": "ipython3",
   "version": "3.8.5"
  }
 },
 "nbformat": 4,
 "nbformat_minor": 1
}
